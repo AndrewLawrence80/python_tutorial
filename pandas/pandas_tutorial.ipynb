{
 "cells": [
  {
   "cell_type": "markdown",
   "metadata": {},
   "source": [
    "# Quick start"
   ]
  },
  {
   "cell_type": "markdown",
   "metadata": {},
   "source": [
    "## Object creation"
   ]
  },
  {
   "cell_type": "code",
   "execution_count": 1,
   "metadata": {},
   "outputs": [
    {
     "name": "stdout",
     "output_type": "stream",
     "text": [
      "0    1\n",
      "1    2\n",
      "2    3\n",
      "3    4\n",
      "4    5\n",
      "5    6\n",
      "6    7\n",
      "dtype: int64\n"
     ]
    }
   ],
   "source": [
    "import numpy as np\n",
    "import matplotlib.pyplot as plt\n",
    "import matplotlib.image as mpimg\n",
    "import os\n",
    "import pandas as pd\n",
    "import datetime\n",
    "\n",
    "s = pd.Series(np.arange(1, 8))\n",
    "print(s)\n",
    "\n",
    "%reset -f\n"
   ]
  },
  {
   "cell_type": "code",
   "execution_count": 2,
   "metadata": {},
   "outputs": [
    {
     "name": "stdout",
     "output_type": "stream",
     "text": [
      "DatetimeIndex(['2021-12-05', '2021-12-06', '2021-12-07', '2021-12-08',\n",
      "               '2021-12-09', '2021-12-10'],\n",
      "              dtype='datetime64[ns]', freq='D')\n",
      "                   A         B         C         D\n",
      "2021-12-05 -0.083354  1.351292  1.101133  1.441923\n",
      "2021-12-06  0.012935  1.106906  0.254463 -0.872504\n",
      "2021-12-07 -0.301389  0.397092  1.478155  2.270607\n",
      "2021-12-08 -0.500515  1.843809  0.510031  1.959471\n",
      "2021-12-09 -0.417598 -0.424500  1.014196 -0.362909\n",
      "2021-12-10 -0.839647  0.150841 -0.610388 -0.128305\n"
     ]
    }
   ],
   "source": [
    "import numpy as np\n",
    "import matplotlib.pyplot as plt\n",
    "import matplotlib.image as mpimg\n",
    "import os\n",
    "import pandas as pd\n",
    "\n",
    "dates = pd.date_range(\"20211205\", periods=6)\n",
    "print(dates)\n",
    "df = pd.DataFrame(np.random.randn(6, 4), index=dates,\n",
    "                  columns=np.array(['A', 'B', 'C', 'D']))\n",
    "print(df)\n",
    "%reset -f\n"
   ]
  },
  {
   "cell_type": "code",
   "execution_count": 3,
   "metadata": {},
   "outputs": [
    {
     "name": "stdout",
     "output_type": "stream",
     "text": [
      "     A          B    C  D      E    F\n",
      "0  1.0 2013-01-02  1.0  3   test  foo\n",
      "1  1.0 2013-01-02  1.0  3  train  foo\n",
      "2  1.0 2013-01-02  1.0  3   test  foo\n",
      "3  1.0 2013-01-02  1.0  3  train  foo\n"
     ]
    }
   ],
   "source": [
    "import numpy as np\n",
    "import matplotlib.pyplot as plt\n",
    "import matplotlib.image as mpimg\n",
    "import os\n",
    "import pandas as pd\n",
    "\n",
    "df = pd.DataFrame(\n",
    "    {\n",
    "        \"A\": 1.0,\n",
    "        \"B\": pd.Timestamp(\"20130102\"),\n",
    "        \"C\": pd.Series(1, index=list(range(4)), dtype=\"float32\"),\n",
    "        \"D\": np.array([3] * 4, dtype=\"int32\"),\n",
    "        \"E\": pd.Categorical([\"test\", \"train\", \"test\", \"train\"]),\n",
    "        \"F\": \"foo\",\n",
    "    }\n",
    ")\n",
    "print(df)\n",
    "\n",
    "\n",
    "%reset -f"
   ]
  },
  {
   "cell_type": "markdown",
   "metadata": {},
   "source": [
    "## Viewing data"
   ]
  },
  {
   "cell_type": "code",
   "execution_count": 4,
   "metadata": {},
   "outputs": [
    {
     "name": "stdout",
     "output_type": "stream",
     "text": [
      "          A         B         C         D         E         F         G  \\\n",
      "1 -1.032798 -2.004594  0.462567  1.248368 -0.267302  1.183121  1.647153   \n",
      "2 -1.022642  0.164778  0.274316 -0.782253  1.560519 -1.208819  0.863351   \n",
      "3  1.061901 -0.802440 -0.974274 -0.711976 -1.299046 -1.301476 -0.510443   \n",
      "\n",
      "          H         I         J  \n",
      "1 -0.693542 -1.103304  0.477235  \n",
      "2  0.170883 -0.703911 -0.582018  \n",
      "3 -1.024096 -0.756153 -0.548883  \n"
     ]
    }
   ],
   "source": [
    "import numpy as np\n",
    "import matplotlib.pyplot as plt\n",
    "import matplotlib.image as mpimg\n",
    "import os\n",
    "import pandas as pd\n",
    "\n",
    "df=pd.DataFrame(np.random.randn(10,10),index=np.arange(1,11),columns=np.array(['A','B','C','D','E','F','G','H','I','J']))\n",
    "print(df.head(n=3))\n"
   ]
  },
  {
   "cell_type": "code",
   "execution_count": 5,
   "metadata": {},
   "outputs": [
    {
     "name": "stdout",
     "output_type": "stream",
     "text": [
      "           A        B         C         D         E         F         G  \\\n",
      "10 -0.673546 -1.68592 -0.276204  0.336888 -0.270332  0.959043  0.132488   \n",
      "\n",
      "          H         I        J  \n",
      "10 -0.92159 -0.012075 -0.44215  \n"
     ]
    }
   ],
   "source": [
    "print(df.tail(n=1))"
   ]
  },
  {
   "cell_type": "code",
   "execution_count": 6,
   "metadata": {},
   "outputs": [
    {
     "name": "stdout",
     "output_type": "stream",
     "text": [
      "Int64Index([1, 2, 3, 4, 5, 6, 7, 8, 9, 10], dtype='int64')\n"
     ]
    }
   ],
   "source": [
    "print(df.index)\n"
   ]
  },
  {
   "cell_type": "code",
   "execution_count": 7,
   "metadata": {},
   "outputs": [
    {
     "name": "stdout",
     "output_type": "stream",
     "text": [
      "Index(['A', 'B', 'C', 'D', 'E', 'F', 'G', 'H', 'I', 'J'], dtype='object')\n"
     ]
    }
   ],
   "source": [
    "print(df.columns)"
   ]
  },
  {
   "cell_type": "code",
   "execution_count": 8,
   "metadata": {},
   "outputs": [
    {
     "name": "stdout",
     "output_type": "stream",
     "text": [
      "[[-1.03279813 -2.00459446  0.46256712  1.24836806 -0.26730191  1.18312147\n",
      "   1.647153   -0.69354162 -1.10330449  0.47723464]\n",
      " [-1.02264179  0.16477754  0.27431623 -0.78225299  1.56051898 -1.2088189\n",
      "   0.86335063  0.17088265 -0.70391124 -0.58201799]\n",
      " [ 1.06190133 -0.80244033 -0.974274   -0.71197621 -1.29904564 -1.30147596\n",
      "  -0.51044265 -1.02409632 -0.75615345 -0.54888279]\n",
      " [ 0.66744353  1.67562489 -0.21563184  0.77132471 -0.10680071  1.00341132\n",
      "   0.03937284  0.1711524   0.49293369 -0.62567755]\n",
      " [-0.63232611 -1.00074026  0.90865093 -1.93578661 -0.53910681  0.14461926\n",
      "   0.0112736   1.10590542 -0.43369205 -0.72810023]\n",
      " [-1.13009858 -1.52954466 -0.10289033 -0.03604427  0.17093121 -1.14793928\n",
      "   0.59884858 -0.79112503  2.1918826  -0.01423141]\n",
      " [-2.1395838   0.38388612 -0.82679993  0.56278572 -0.05752471  1.370733\n",
      "   1.36398559  0.8678332   0.83168851 -1.20085605]\n",
      " [ 0.22942529  0.62948431 -0.67648964  1.52090389 -0.84266735  0.87718086\n",
      "  -1.26414058  2.00565263  0.31961706  0.47073198]\n",
      " [-0.35336839 -0.43149135 -2.34600961  0.24810077  0.39167811  0.43706602\n",
      "   0.76061882  0.8063082   0.1342433   0.96339061]\n",
      " [-0.67354587 -1.68592    -0.27620428  0.33688752 -0.2703322   0.95904327\n",
      "   0.13248833 -0.92159008 -0.01207521 -0.44215003]]\n"
     ]
    }
   ],
   "source": [
    "print(df.to_numpy())\n"
   ]
  },
  {
   "cell_type": "code",
   "execution_count": 9,
   "metadata": {},
   "outputs": [
    {
     "name": "stdout",
     "output_type": "stream",
     "text": [
      "               A          B          C          D          E          F  \\\n",
      "count  10.000000  10.000000  10.000000  10.000000  10.000000  10.000000   \n",
      "mean   -0.502559  -0.460096  -0.377277   0.122231  -0.125965   0.231694   \n",
      "std     0.945508   1.168732   0.907932   1.036891   0.767873   1.060540   \n",
      "min    -2.139584  -2.004594  -2.346010  -1.935787  -1.299046  -1.301476   \n",
      "25%    -1.030259  -1.397344  -0.789222  -0.542993  -0.471913  -0.824800   \n",
      "50%    -0.652936  -0.616966  -0.245918   0.292494  -0.187051   0.657123   \n",
      "75%     0.083727   0.329109   0.180015   0.719190   0.113817   0.992319   \n",
      "max     1.061901   1.675625   0.908651   1.520904   1.560519   1.370733   \n",
      "\n",
      "               G          H          I          J  \n",
      "count  10.000000  10.000000  10.000000  10.000000  \n",
      "mean    0.364251   0.169738   0.096123  -0.223056  \n",
      "std     0.869684   1.023301   0.956823   0.673242  \n",
      "min    -1.264141  -1.024096  -1.103304  -1.200856  \n",
      "25%     0.018298  -0.766729  -0.636356  -0.614763  \n",
      "50%     0.365668   0.171018   0.061084  -0.495516  \n",
      "75%     0.837668   0.852452   0.449605   0.349491  \n",
      "max     1.647153   2.005653   2.191883   0.963391  \n"
     ]
    }
   ],
   "source": [
    "print(df.describe())"
   ]
  },
  {
   "cell_type": "code",
   "execution_count": 10,
   "metadata": {},
   "outputs": [
    {
     "data": {
      "text/html": [
       "<div>\n",
       "<style scoped>\n",
       "    .dataframe tbody tr th:only-of-type {\n",
       "        vertical-align: middle;\n",
       "    }\n",
       "\n",
       "    .dataframe tbody tr th {\n",
       "        vertical-align: top;\n",
       "    }\n",
       "\n",
       "    .dataframe thead th {\n",
       "        text-align: right;\n",
       "    }\n",
       "</style>\n",
       "<table border=\"1\" class=\"dataframe\">\n",
       "  <thead>\n",
       "    <tr style=\"text-align: right;\">\n",
       "      <th></th>\n",
       "      <th>A</th>\n",
       "      <th>B</th>\n",
       "      <th>C</th>\n",
       "      <th>D</th>\n",
       "      <th>E</th>\n",
       "      <th>F</th>\n",
       "      <th>G</th>\n",
       "      <th>H</th>\n",
       "      <th>I</th>\n",
       "      <th>J</th>\n",
       "    </tr>\n",
       "  </thead>\n",
       "  <tbody>\n",
       "    <tr>\n",
       "      <th>10</th>\n",
       "      <td>-0.673546</td>\n",
       "      <td>-1.685920</td>\n",
       "      <td>-0.276204</td>\n",
       "      <td>0.336888</td>\n",
       "      <td>-0.270332</td>\n",
       "      <td>0.959043</td>\n",
       "      <td>0.132488</td>\n",
       "      <td>-0.921590</td>\n",
       "      <td>-0.012075</td>\n",
       "      <td>-0.442150</td>\n",
       "    </tr>\n",
       "    <tr>\n",
       "      <th>9</th>\n",
       "      <td>-0.353368</td>\n",
       "      <td>-0.431491</td>\n",
       "      <td>-2.346010</td>\n",
       "      <td>0.248101</td>\n",
       "      <td>0.391678</td>\n",
       "      <td>0.437066</td>\n",
       "      <td>0.760619</td>\n",
       "      <td>0.806308</td>\n",
       "      <td>0.134243</td>\n",
       "      <td>0.963391</td>\n",
       "    </tr>\n",
       "    <tr>\n",
       "      <th>8</th>\n",
       "      <td>0.229425</td>\n",
       "      <td>0.629484</td>\n",
       "      <td>-0.676490</td>\n",
       "      <td>1.520904</td>\n",
       "      <td>-0.842667</td>\n",
       "      <td>0.877181</td>\n",
       "      <td>-1.264141</td>\n",
       "      <td>2.005653</td>\n",
       "      <td>0.319617</td>\n",
       "      <td>0.470732</td>\n",
       "    </tr>\n",
       "    <tr>\n",
       "      <th>7</th>\n",
       "      <td>-2.139584</td>\n",
       "      <td>0.383886</td>\n",
       "      <td>-0.826800</td>\n",
       "      <td>0.562786</td>\n",
       "      <td>-0.057525</td>\n",
       "      <td>1.370733</td>\n",
       "      <td>1.363986</td>\n",
       "      <td>0.867833</td>\n",
       "      <td>0.831689</td>\n",
       "      <td>-1.200856</td>\n",
       "    </tr>\n",
       "    <tr>\n",
       "      <th>6</th>\n",
       "      <td>-1.130099</td>\n",
       "      <td>-1.529545</td>\n",
       "      <td>-0.102890</td>\n",
       "      <td>-0.036044</td>\n",
       "      <td>0.170931</td>\n",
       "      <td>-1.147939</td>\n",
       "      <td>0.598849</td>\n",
       "      <td>-0.791125</td>\n",
       "      <td>2.191883</td>\n",
       "      <td>-0.014231</td>\n",
       "    </tr>\n",
       "    <tr>\n",
       "      <th>5</th>\n",
       "      <td>-0.632326</td>\n",
       "      <td>-1.000740</td>\n",
       "      <td>0.908651</td>\n",
       "      <td>-1.935787</td>\n",
       "      <td>-0.539107</td>\n",
       "      <td>0.144619</td>\n",
       "      <td>0.011274</td>\n",
       "      <td>1.105905</td>\n",
       "      <td>-0.433692</td>\n",
       "      <td>-0.728100</td>\n",
       "    </tr>\n",
       "    <tr>\n",
       "      <th>4</th>\n",
       "      <td>0.667444</td>\n",
       "      <td>1.675625</td>\n",
       "      <td>-0.215632</td>\n",
       "      <td>0.771325</td>\n",
       "      <td>-0.106801</td>\n",
       "      <td>1.003411</td>\n",
       "      <td>0.039373</td>\n",
       "      <td>0.171152</td>\n",
       "      <td>0.492934</td>\n",
       "      <td>-0.625678</td>\n",
       "    </tr>\n",
       "    <tr>\n",
       "      <th>3</th>\n",
       "      <td>1.061901</td>\n",
       "      <td>-0.802440</td>\n",
       "      <td>-0.974274</td>\n",
       "      <td>-0.711976</td>\n",
       "      <td>-1.299046</td>\n",
       "      <td>-1.301476</td>\n",
       "      <td>-0.510443</td>\n",
       "      <td>-1.024096</td>\n",
       "      <td>-0.756153</td>\n",
       "      <td>-0.548883</td>\n",
       "    </tr>\n",
       "    <tr>\n",
       "      <th>2</th>\n",
       "      <td>-1.022642</td>\n",
       "      <td>0.164778</td>\n",
       "      <td>0.274316</td>\n",
       "      <td>-0.782253</td>\n",
       "      <td>1.560519</td>\n",
       "      <td>-1.208819</td>\n",
       "      <td>0.863351</td>\n",
       "      <td>0.170883</td>\n",
       "      <td>-0.703911</td>\n",
       "      <td>-0.582018</td>\n",
       "    </tr>\n",
       "    <tr>\n",
       "      <th>1</th>\n",
       "      <td>-1.032798</td>\n",
       "      <td>-2.004594</td>\n",
       "      <td>0.462567</td>\n",
       "      <td>1.248368</td>\n",
       "      <td>-0.267302</td>\n",
       "      <td>1.183121</td>\n",
       "      <td>1.647153</td>\n",
       "      <td>-0.693542</td>\n",
       "      <td>-1.103304</td>\n",
       "      <td>0.477235</td>\n",
       "    </tr>\n",
       "  </tbody>\n",
       "</table>\n",
       "</div>"
      ],
      "text/plain": [
       "           A         B         C         D         E         F         G  \\\n",
       "10 -0.673546 -1.685920 -0.276204  0.336888 -0.270332  0.959043  0.132488   \n",
       "9  -0.353368 -0.431491 -2.346010  0.248101  0.391678  0.437066  0.760619   \n",
       "8   0.229425  0.629484 -0.676490  1.520904 -0.842667  0.877181 -1.264141   \n",
       "7  -2.139584  0.383886 -0.826800  0.562786 -0.057525  1.370733  1.363986   \n",
       "6  -1.130099 -1.529545 -0.102890 -0.036044  0.170931 -1.147939  0.598849   \n",
       "5  -0.632326 -1.000740  0.908651 -1.935787 -0.539107  0.144619  0.011274   \n",
       "4   0.667444  1.675625 -0.215632  0.771325 -0.106801  1.003411  0.039373   \n",
       "3   1.061901 -0.802440 -0.974274 -0.711976 -1.299046 -1.301476 -0.510443   \n",
       "2  -1.022642  0.164778  0.274316 -0.782253  1.560519 -1.208819  0.863351   \n",
       "1  -1.032798 -2.004594  0.462567  1.248368 -0.267302  1.183121  1.647153   \n",
       "\n",
       "           H         I         J  \n",
       "10 -0.921590 -0.012075 -0.442150  \n",
       "9   0.806308  0.134243  0.963391  \n",
       "8   2.005653  0.319617  0.470732  \n",
       "7   0.867833  0.831689 -1.200856  \n",
       "6  -0.791125  2.191883 -0.014231  \n",
       "5   1.105905 -0.433692 -0.728100  \n",
       "4   0.171152  0.492934 -0.625678  \n",
       "3  -1.024096 -0.756153 -0.548883  \n",
       "2   0.170883 -0.703911 -0.582018  \n",
       "1  -0.693542 -1.103304  0.477235  "
      ]
     },
     "execution_count": 10,
     "metadata": {},
     "output_type": "execute_result"
    }
   ],
   "source": [
    "df.sort_index(axis=0,ascending=False)\n"
   ]
  },
  {
   "cell_type": "code",
   "execution_count": 11,
   "metadata": {},
   "outputs": [
    {
     "data": {
      "text/html": [
       "<div>\n",
       "<style scoped>\n",
       "    .dataframe tbody tr th:only-of-type {\n",
       "        vertical-align: middle;\n",
       "    }\n",
       "\n",
       "    .dataframe tbody tr th {\n",
       "        vertical-align: top;\n",
       "    }\n",
       "\n",
       "    .dataframe thead th {\n",
       "        text-align: right;\n",
       "    }\n",
       "</style>\n",
       "<table border=\"1\" class=\"dataframe\">\n",
       "  <thead>\n",
       "    <tr style=\"text-align: right;\">\n",
       "      <th></th>\n",
       "      <th>A</th>\n",
       "      <th>B</th>\n",
       "      <th>C</th>\n",
       "      <th>D</th>\n",
       "      <th>E</th>\n",
       "      <th>F</th>\n",
       "      <th>G</th>\n",
       "      <th>H</th>\n",
       "      <th>I</th>\n",
       "      <th>J</th>\n",
       "    </tr>\n",
       "  </thead>\n",
       "  <tbody>\n",
       "    <tr>\n",
       "      <th>7</th>\n",
       "      <td>-2.139584</td>\n",
       "      <td>0.383886</td>\n",
       "      <td>-0.826800</td>\n",
       "      <td>0.562786</td>\n",
       "      <td>-0.057525</td>\n",
       "      <td>1.370733</td>\n",
       "      <td>1.363986</td>\n",
       "      <td>0.867833</td>\n",
       "      <td>0.831689</td>\n",
       "      <td>-1.200856</td>\n",
       "    </tr>\n",
       "    <tr>\n",
       "      <th>6</th>\n",
       "      <td>-1.130099</td>\n",
       "      <td>-1.529545</td>\n",
       "      <td>-0.102890</td>\n",
       "      <td>-0.036044</td>\n",
       "      <td>0.170931</td>\n",
       "      <td>-1.147939</td>\n",
       "      <td>0.598849</td>\n",
       "      <td>-0.791125</td>\n",
       "      <td>2.191883</td>\n",
       "      <td>-0.014231</td>\n",
       "    </tr>\n",
       "    <tr>\n",
       "      <th>1</th>\n",
       "      <td>-1.032798</td>\n",
       "      <td>-2.004594</td>\n",
       "      <td>0.462567</td>\n",
       "      <td>1.248368</td>\n",
       "      <td>-0.267302</td>\n",
       "      <td>1.183121</td>\n",
       "      <td>1.647153</td>\n",
       "      <td>-0.693542</td>\n",
       "      <td>-1.103304</td>\n",
       "      <td>0.477235</td>\n",
       "    </tr>\n",
       "    <tr>\n",
       "      <th>2</th>\n",
       "      <td>-1.022642</td>\n",
       "      <td>0.164778</td>\n",
       "      <td>0.274316</td>\n",
       "      <td>-0.782253</td>\n",
       "      <td>1.560519</td>\n",
       "      <td>-1.208819</td>\n",
       "      <td>0.863351</td>\n",
       "      <td>0.170883</td>\n",
       "      <td>-0.703911</td>\n",
       "      <td>-0.582018</td>\n",
       "    </tr>\n",
       "    <tr>\n",
       "      <th>10</th>\n",
       "      <td>-0.673546</td>\n",
       "      <td>-1.685920</td>\n",
       "      <td>-0.276204</td>\n",
       "      <td>0.336888</td>\n",
       "      <td>-0.270332</td>\n",
       "      <td>0.959043</td>\n",
       "      <td>0.132488</td>\n",
       "      <td>-0.921590</td>\n",
       "      <td>-0.012075</td>\n",
       "      <td>-0.442150</td>\n",
       "    </tr>\n",
       "    <tr>\n",
       "      <th>5</th>\n",
       "      <td>-0.632326</td>\n",
       "      <td>-1.000740</td>\n",
       "      <td>0.908651</td>\n",
       "      <td>-1.935787</td>\n",
       "      <td>-0.539107</td>\n",
       "      <td>0.144619</td>\n",
       "      <td>0.011274</td>\n",
       "      <td>1.105905</td>\n",
       "      <td>-0.433692</td>\n",
       "      <td>-0.728100</td>\n",
       "    </tr>\n",
       "    <tr>\n",
       "      <th>9</th>\n",
       "      <td>-0.353368</td>\n",
       "      <td>-0.431491</td>\n",
       "      <td>-2.346010</td>\n",
       "      <td>0.248101</td>\n",
       "      <td>0.391678</td>\n",
       "      <td>0.437066</td>\n",
       "      <td>0.760619</td>\n",
       "      <td>0.806308</td>\n",
       "      <td>0.134243</td>\n",
       "      <td>0.963391</td>\n",
       "    </tr>\n",
       "    <tr>\n",
       "      <th>8</th>\n",
       "      <td>0.229425</td>\n",
       "      <td>0.629484</td>\n",
       "      <td>-0.676490</td>\n",
       "      <td>1.520904</td>\n",
       "      <td>-0.842667</td>\n",
       "      <td>0.877181</td>\n",
       "      <td>-1.264141</td>\n",
       "      <td>2.005653</td>\n",
       "      <td>0.319617</td>\n",
       "      <td>0.470732</td>\n",
       "    </tr>\n",
       "    <tr>\n",
       "      <th>4</th>\n",
       "      <td>0.667444</td>\n",
       "      <td>1.675625</td>\n",
       "      <td>-0.215632</td>\n",
       "      <td>0.771325</td>\n",
       "      <td>-0.106801</td>\n",
       "      <td>1.003411</td>\n",
       "      <td>0.039373</td>\n",
       "      <td>0.171152</td>\n",
       "      <td>0.492934</td>\n",
       "      <td>-0.625678</td>\n",
       "    </tr>\n",
       "    <tr>\n",
       "      <th>3</th>\n",
       "      <td>1.061901</td>\n",
       "      <td>-0.802440</td>\n",
       "      <td>-0.974274</td>\n",
       "      <td>-0.711976</td>\n",
       "      <td>-1.299046</td>\n",
       "      <td>-1.301476</td>\n",
       "      <td>-0.510443</td>\n",
       "      <td>-1.024096</td>\n",
       "      <td>-0.756153</td>\n",
       "      <td>-0.548883</td>\n",
       "    </tr>\n",
       "  </tbody>\n",
       "</table>\n",
       "</div>"
      ],
      "text/plain": [
       "           A         B         C         D         E         F         G  \\\n",
       "7  -2.139584  0.383886 -0.826800  0.562786 -0.057525  1.370733  1.363986   \n",
       "6  -1.130099 -1.529545 -0.102890 -0.036044  0.170931 -1.147939  0.598849   \n",
       "1  -1.032798 -2.004594  0.462567  1.248368 -0.267302  1.183121  1.647153   \n",
       "2  -1.022642  0.164778  0.274316 -0.782253  1.560519 -1.208819  0.863351   \n",
       "10 -0.673546 -1.685920 -0.276204  0.336888 -0.270332  0.959043  0.132488   \n",
       "5  -0.632326 -1.000740  0.908651 -1.935787 -0.539107  0.144619  0.011274   \n",
       "9  -0.353368 -0.431491 -2.346010  0.248101  0.391678  0.437066  0.760619   \n",
       "8   0.229425  0.629484 -0.676490  1.520904 -0.842667  0.877181 -1.264141   \n",
       "4   0.667444  1.675625 -0.215632  0.771325 -0.106801  1.003411  0.039373   \n",
       "3   1.061901 -0.802440 -0.974274 -0.711976 -1.299046 -1.301476 -0.510443   \n",
       "\n",
       "           H         I         J  \n",
       "7   0.867833  0.831689 -1.200856  \n",
       "6  -0.791125  2.191883 -0.014231  \n",
       "1  -0.693542 -1.103304  0.477235  \n",
       "2   0.170883 -0.703911 -0.582018  \n",
       "10 -0.921590 -0.012075 -0.442150  \n",
       "5   1.105905 -0.433692 -0.728100  \n",
       "9   0.806308  0.134243  0.963391  \n",
       "8   2.005653  0.319617  0.470732  \n",
       "4   0.171152  0.492934 -0.625678  \n",
       "3  -1.024096 -0.756153 -0.548883  "
      ]
     },
     "execution_count": 11,
     "metadata": {},
     "output_type": "execute_result"
    }
   ],
   "source": [
    "df.sort_values(by='A')"
   ]
  },
  {
   "cell_type": "code",
   "execution_count": 12,
   "metadata": {},
   "outputs": [],
   "source": [
    "%reset -f"
   ]
  },
  {
   "cell_type": "markdown",
   "metadata": {},
   "source": [
    "## Indexing and selection"
   ]
  },
  {
   "cell_type": "code",
   "execution_count": 13,
   "metadata": {},
   "outputs": [],
   "source": [
    "import numpy as np\n",
    "import matplotlib.pyplot as plt\n",
    "import matplotlib.image as mpimg\n",
    "import os\n",
    "import pandas as pd\n",
    "\n",
    "df=pd.DataFrame(np.random.randn(10,10),index=np.arange(1,11),columns=np.array(['A','B','C','D','E','F','G','H','I','J']))"
   ]
  },
  {
   "cell_type": "markdown",
   "metadata": {},
   "source": [
    "### Selection by label"
   ]
  },
  {
   "cell_type": "code",
   "execution_count": 14,
   "metadata": {},
   "outputs": [
    {
     "data": {
      "text/html": [
       "<div>\n",
       "<style scoped>\n",
       "    .dataframe tbody tr th:only-of-type {\n",
       "        vertical-align: middle;\n",
       "    }\n",
       "\n",
       "    .dataframe tbody tr th {\n",
       "        vertical-align: top;\n",
       "    }\n",
       "\n",
       "    .dataframe thead th {\n",
       "        text-align: right;\n",
       "    }\n",
       "</style>\n",
       "<table border=\"1\" class=\"dataframe\">\n",
       "  <thead>\n",
       "    <tr style=\"text-align: right;\">\n",
       "      <th></th>\n",
       "      <th>A</th>\n",
       "      <th>B</th>\n",
       "    </tr>\n",
       "  </thead>\n",
       "  <tbody>\n",
       "    <tr>\n",
       "      <th>1</th>\n",
       "      <td>-0.670872</td>\n",
       "      <td>0.275277</td>\n",
       "    </tr>\n",
       "    <tr>\n",
       "      <th>2</th>\n",
       "      <td>-0.959666</td>\n",
       "      <td>0.873567</td>\n",
       "    </tr>\n",
       "    <tr>\n",
       "      <th>3</th>\n",
       "      <td>0.532787</td>\n",
       "      <td>0.468981</td>\n",
       "    </tr>\n",
       "    <tr>\n",
       "      <th>4</th>\n",
       "      <td>-0.515541</td>\n",
       "      <td>-0.253943</td>\n",
       "    </tr>\n",
       "    <tr>\n",
       "      <th>5</th>\n",
       "      <td>-0.900206</td>\n",
       "      <td>-0.575970</td>\n",
       "    </tr>\n",
       "    <tr>\n",
       "      <th>6</th>\n",
       "      <td>-0.786482</td>\n",
       "      <td>-1.547590</td>\n",
       "    </tr>\n",
       "    <tr>\n",
       "      <th>7</th>\n",
       "      <td>0.637260</td>\n",
       "      <td>-0.864261</td>\n",
       "    </tr>\n",
       "    <tr>\n",
       "      <th>8</th>\n",
       "      <td>-0.927922</td>\n",
       "      <td>1.179983</td>\n",
       "    </tr>\n",
       "    <tr>\n",
       "      <th>9</th>\n",
       "      <td>0.376134</td>\n",
       "      <td>-0.531537</td>\n",
       "    </tr>\n",
       "    <tr>\n",
       "      <th>10</th>\n",
       "      <td>-0.203493</td>\n",
       "      <td>-1.334326</td>\n",
       "    </tr>\n",
       "  </tbody>\n",
       "</table>\n",
       "</div>"
      ],
      "text/plain": [
       "           A         B\n",
       "1  -0.670872  0.275277\n",
       "2  -0.959666  0.873567\n",
       "3   0.532787  0.468981\n",
       "4  -0.515541 -0.253943\n",
       "5  -0.900206 -0.575970\n",
       "6  -0.786482 -1.547590\n",
       "7   0.637260 -0.864261\n",
       "8  -0.927922  1.179983\n",
       "9   0.376134 -0.531537\n",
       "10 -0.203493 -1.334326"
      ]
     },
     "execution_count": 14,
     "metadata": {},
     "output_type": "execute_result"
    }
   ],
   "source": [
    "df.loc[:,['A','B']] # 'A','B' are indexes of column"
   ]
  },
  {
   "cell_type": "code",
   "execution_count": 15,
   "metadata": {},
   "outputs": [
    {
     "data": {
      "text/html": [
       "<div>\n",
       "<style scoped>\n",
       "    .dataframe tbody tr th:only-of-type {\n",
       "        vertical-align: middle;\n",
       "    }\n",
       "\n",
       "    .dataframe tbody tr th {\n",
       "        vertical-align: top;\n",
       "    }\n",
       "\n",
       "    .dataframe thead th {\n",
       "        text-align: right;\n",
       "    }\n",
       "</style>\n",
       "<table border=\"1\" class=\"dataframe\">\n",
       "  <thead>\n",
       "    <tr style=\"text-align: right;\">\n",
       "      <th></th>\n",
       "      <th>A</th>\n",
       "      <th>B</th>\n",
       "    </tr>\n",
       "  </thead>\n",
       "  <tbody>\n",
       "    <tr>\n",
       "      <th>1</th>\n",
       "      <td>-0.670872</td>\n",
       "      <td>0.275277</td>\n",
       "    </tr>\n",
       "    <tr>\n",
       "      <th>2</th>\n",
       "      <td>-0.959666</td>\n",
       "      <td>0.873567</td>\n",
       "    </tr>\n",
       "  </tbody>\n",
       "</table>\n",
       "</div>"
      ],
      "text/plain": [
       "          A         B\n",
       "1 -0.670872  0.275277\n",
       "2 -0.959666  0.873567"
      ]
     },
     "execution_count": 15,
     "metadata": {},
     "output_type": "execute_result"
    }
   ],
   "source": [
    "df.loc[[1,2],['A','B']] # 1,2 are indexes of row and 'A','B' are indexes of column"
   ]
  },
  {
   "cell_type": "markdown",
   "metadata": {},
   "source": [
    "### Selection by position"
   ]
  },
  {
   "cell_type": "code",
   "execution_count": 16,
   "metadata": {},
   "outputs": [
    {
     "data": {
      "text/plain": [
       "A   -0.515541\n",
       "B   -0.253943\n",
       "C   -0.015054\n",
       "D   -0.298411\n",
       "E   -0.435857\n",
       "F    0.659296\n",
       "G    2.182693\n",
       "H   -1.228874\n",
       "I   -0.145982\n",
       "J   -2.539473\n",
       "Name: 4, dtype: float64"
      ]
     },
     "execution_count": 16,
     "metadata": {},
     "output_type": "execute_result"
    }
   ],
   "source": [
    "df.iloc[3]"
   ]
  },
  {
   "cell_type": "code",
   "execution_count": 17,
   "metadata": {},
   "outputs": [
    {
     "data": {
      "text/plain": [
       "A   -0.515541\n",
       "B   -0.253943\n",
       "C   -0.015054\n",
       "D   -0.298411\n",
       "E   -0.435857\n",
       "F    0.659296\n",
       "G    2.182693\n",
       "H   -1.228874\n",
       "I   -0.145982\n",
       "J   -2.539473\n",
       "Name: 4, dtype: float64"
      ]
     },
     "execution_count": 17,
     "metadata": {},
     "output_type": "execute_result"
    }
   ],
   "source": [
    "df.iloc[3,:]"
   ]
  },
  {
   "cell_type": "code",
   "execution_count": 18,
   "metadata": {},
   "outputs": [
    {
     "data": {
      "text/plain": [
       "1    -0.670872\n",
       "2    -0.959666\n",
       "3     0.532787\n",
       "4    -0.515541\n",
       "5    -0.900206\n",
       "6    -0.786482\n",
       "7     0.637260\n",
       "8    -0.927922\n",
       "9     0.376134\n",
       "10   -0.203493\n",
       "Name: A, dtype: float64"
      ]
     },
     "execution_count": 18,
     "metadata": {},
     "output_type": "execute_result"
    }
   ],
   "source": [
    "df.iloc[:,0]"
   ]
  },
  {
   "cell_type": "code",
   "execution_count": 19,
   "metadata": {},
   "outputs": [
    {
     "data": {
      "text/html": [
       "<div>\n",
       "<style scoped>\n",
       "    .dataframe tbody tr th:only-of-type {\n",
       "        vertical-align: middle;\n",
       "    }\n",
       "\n",
       "    .dataframe tbody tr th {\n",
       "        vertical-align: top;\n",
       "    }\n",
       "\n",
       "    .dataframe thead th {\n",
       "        text-align: right;\n",
       "    }\n",
       "</style>\n",
       "<table border=\"1\" class=\"dataframe\">\n",
       "  <thead>\n",
       "    <tr style=\"text-align: right;\">\n",
       "      <th></th>\n",
       "      <th>B</th>\n",
       "      <th>C</th>\n",
       "      <th>D</th>\n",
       "    </tr>\n",
       "  </thead>\n",
       "  <tbody>\n",
       "    <tr>\n",
       "      <th>1</th>\n",
       "      <td>0.275277</td>\n",
       "      <td>-2.090556</td>\n",
       "      <td>-1.229124</td>\n",
       "    </tr>\n",
       "    <tr>\n",
       "      <th>2</th>\n",
       "      <td>0.873567</td>\n",
       "      <td>-0.265825</td>\n",
       "      <td>0.876871</td>\n",
       "    </tr>\n",
       "    <tr>\n",
       "      <th>3</th>\n",
       "      <td>0.468981</td>\n",
       "      <td>-1.174095</td>\n",
       "      <td>-1.151100</td>\n",
       "    </tr>\n",
       "  </tbody>\n",
       "</table>\n",
       "</div>"
      ],
      "text/plain": [
       "          B         C         D\n",
       "1  0.275277 -2.090556 -1.229124\n",
       "2  0.873567 -0.265825  0.876871\n",
       "3  0.468981 -1.174095 -1.151100"
      ]
     },
     "execution_count": 19,
     "metadata": {},
     "output_type": "execute_result"
    }
   ],
   "source": [
    "df.iloc[0:3,1:4]"
   ]
  },
  {
   "cell_type": "markdown",
   "metadata": {},
   "source": [
    "### Selection by bool"
   ]
  },
  {
   "cell_type": "code",
   "execution_count": 20,
   "metadata": {},
   "outputs": [
    {
     "data": {
      "text/html": [
       "<div>\n",
       "<style scoped>\n",
       "    .dataframe tbody tr th:only-of-type {\n",
       "        vertical-align: middle;\n",
       "    }\n",
       "\n",
       "    .dataframe tbody tr th {\n",
       "        vertical-align: top;\n",
       "    }\n",
       "\n",
       "    .dataframe thead th {\n",
       "        text-align: right;\n",
       "    }\n",
       "</style>\n",
       "<table border=\"1\" class=\"dataframe\">\n",
       "  <thead>\n",
       "    <tr style=\"text-align: right;\">\n",
       "      <th></th>\n",
       "      <th>A</th>\n",
       "      <th>B</th>\n",
       "      <th>C</th>\n",
       "      <th>D</th>\n",
       "      <th>E</th>\n",
       "      <th>F</th>\n",
       "      <th>G</th>\n",
       "      <th>H</th>\n",
       "      <th>I</th>\n",
       "      <th>J</th>\n",
       "    </tr>\n",
       "  </thead>\n",
       "  <tbody>\n",
       "    <tr>\n",
       "      <th>3</th>\n",
       "      <td>0.532787</td>\n",
       "      <td>0.468981</td>\n",
       "      <td>-1.174095</td>\n",
       "      <td>-1.151100</td>\n",
       "      <td>1.723401</td>\n",
       "      <td>0.118480</td>\n",
       "      <td>-1.903194</td>\n",
       "      <td>0.364194</td>\n",
       "      <td>-1.767662</td>\n",
       "      <td>-0.979472</td>\n",
       "    </tr>\n",
       "    <tr>\n",
       "      <th>7</th>\n",
       "      <td>0.637260</td>\n",
       "      <td>-0.864261</td>\n",
       "      <td>1.198955</td>\n",
       "      <td>-0.668849</td>\n",
       "      <td>0.052115</td>\n",
       "      <td>0.260463</td>\n",
       "      <td>-0.439407</td>\n",
       "      <td>-0.995599</td>\n",
       "      <td>1.776119</td>\n",
       "      <td>1.515791</td>\n",
       "    </tr>\n",
       "    <tr>\n",
       "      <th>9</th>\n",
       "      <td>0.376134</td>\n",
       "      <td>-0.531537</td>\n",
       "      <td>0.160114</td>\n",
       "      <td>-0.479960</td>\n",
       "      <td>-0.931288</td>\n",
       "      <td>-0.553210</td>\n",
       "      <td>-0.266059</td>\n",
       "      <td>-0.734229</td>\n",
       "      <td>2.498144</td>\n",
       "      <td>0.416157</td>\n",
       "    </tr>\n",
       "  </tbody>\n",
       "</table>\n",
       "</div>"
      ],
      "text/plain": [
       "          A         B         C         D         E         F         G  \\\n",
       "3  0.532787  0.468981 -1.174095 -1.151100  1.723401  0.118480 -1.903194   \n",
       "7  0.637260 -0.864261  1.198955 -0.668849  0.052115  0.260463 -0.439407   \n",
       "9  0.376134 -0.531537  0.160114 -0.479960 -0.931288 -0.553210 -0.266059   \n",
       "\n",
       "          H         I         J  \n",
       "3  0.364194 -1.767662 -0.979472  \n",
       "7 -0.995599  1.776119  1.515791  \n",
       "9 -0.734229  2.498144  0.416157  "
      ]
     },
     "execution_count": 20,
     "metadata": {},
     "output_type": "execute_result"
    }
   ],
   "source": [
    "df[df['A']>0]"
   ]
  },
  {
   "cell_type": "code",
   "execution_count": 21,
   "metadata": {},
   "outputs": [],
   "source": [
    "df['K']=np.arange(0,10)"
   ]
  },
  {
   "cell_type": "code",
   "execution_count": 22,
   "metadata": {},
   "outputs": [
    {
     "name": "stdout",
     "output_type": "stream",
     "text": [
      "           A         B         C         D         E         F         G  \\\n",
      "1  -0.670872  0.275277 -2.090556 -1.229124 -0.572811 -1.366238 -0.676307   \n",
      "2  -0.959666  0.873567 -0.265825  0.876871 -1.543074 -0.696087  1.499979   \n",
      "3   0.532787  0.468981 -1.174095 -1.151100  1.723401  0.118480 -1.903194   \n",
      "4  -0.515541 -0.253943 -0.015054 -0.298411 -0.435857  0.659296  2.182693   \n",
      "5  -0.900206 -0.575970  0.046380  0.410383 -0.574992 -0.999901  1.331368   \n",
      "6  -0.786482 -1.547590  0.849340  0.945371  1.171583 -0.137708 -0.258207   \n",
      "7   0.637260 -0.864261  1.198955 -0.668849  0.052115  0.260463 -0.439407   \n",
      "8  -0.927922  1.179983  0.398360 -0.327558  1.233095  1.038686 -0.010986   \n",
      "9   0.376134 -0.531537  0.160114 -0.479960 -0.931288 -0.553210 -0.266059   \n",
      "10 -0.203493 -1.334326 -0.155238  0.576821  0.688395 -1.001211  0.448135   \n",
      "\n",
      "           H         I         J  K  \n",
      "1   0.519642 -0.036392  0.472722  0  \n",
      "2  -0.013773  1.709329  0.148235  1  \n",
      "3   0.364194 -1.767662 -0.979472  2  \n",
      "4  -1.228874 -0.145982 -2.539473  3  \n",
      "5   0.378822 -0.660762 -0.623234  4  \n",
      "6  -1.815294  0.136022 -0.226366  5  \n",
      "7  -0.995599  1.776119  1.515791  6  \n",
      "8  -0.192934  0.544137  1.642208  7  \n",
      "9  -0.734229  2.498144  0.416157  8  \n",
      "10 -2.296439  1.194874  0.753494  9  \n"
     ]
    }
   ],
   "source": [
    "print(df)"
   ]
  },
  {
   "cell_type": "code",
   "execution_count": 23,
   "metadata": {},
   "outputs": [
    {
     "data": {
      "text/html": [
       "<div>\n",
       "<style scoped>\n",
       "    .dataframe tbody tr th:only-of-type {\n",
       "        vertical-align: middle;\n",
       "    }\n",
       "\n",
       "    .dataframe tbody tr th {\n",
       "        vertical-align: top;\n",
       "    }\n",
       "\n",
       "    .dataframe thead th {\n",
       "        text-align: right;\n",
       "    }\n",
       "</style>\n",
       "<table border=\"1\" class=\"dataframe\">\n",
       "  <thead>\n",
       "    <tr style=\"text-align: right;\">\n",
       "      <th></th>\n",
       "      <th>A</th>\n",
       "      <th>B</th>\n",
       "      <th>C</th>\n",
       "      <th>D</th>\n",
       "      <th>E</th>\n",
       "      <th>F</th>\n",
       "      <th>G</th>\n",
       "      <th>H</th>\n",
       "      <th>I</th>\n",
       "      <th>J</th>\n",
       "      <th>K</th>\n",
       "    </tr>\n",
       "  </thead>\n",
       "  <tbody>\n",
       "    <tr>\n",
       "      <th>5</th>\n",
       "      <td>-0.900206</td>\n",
       "      <td>-0.575970</td>\n",
       "      <td>0.046380</td>\n",
       "      <td>0.410383</td>\n",
       "      <td>-0.574992</td>\n",
       "      <td>-0.999901</td>\n",
       "      <td>1.331368</td>\n",
       "      <td>0.378822</td>\n",
       "      <td>-0.660762</td>\n",
       "      <td>-0.623234</td>\n",
       "      <td>4</td>\n",
       "    </tr>\n",
       "    <tr>\n",
       "      <th>6</th>\n",
       "      <td>-0.786482</td>\n",
       "      <td>-1.547590</td>\n",
       "      <td>0.849340</td>\n",
       "      <td>0.945371</td>\n",
       "      <td>1.171583</td>\n",
       "      <td>-0.137708</td>\n",
       "      <td>-0.258207</td>\n",
       "      <td>-1.815294</td>\n",
       "      <td>0.136022</td>\n",
       "      <td>-0.226366</td>\n",
       "      <td>5</td>\n",
       "    </tr>\n",
       "    <tr>\n",
       "      <th>7</th>\n",
       "      <td>0.637260</td>\n",
       "      <td>-0.864261</td>\n",
       "      <td>1.198955</td>\n",
       "      <td>-0.668849</td>\n",
       "      <td>0.052115</td>\n",
       "      <td>0.260463</td>\n",
       "      <td>-0.439407</td>\n",
       "      <td>-0.995599</td>\n",
       "      <td>1.776119</td>\n",
       "      <td>1.515791</td>\n",
       "      <td>6</td>\n",
       "    </tr>\n",
       "  </tbody>\n",
       "</table>\n",
       "</div>"
      ],
      "text/plain": [
       "          A         B         C         D         E         F         G  \\\n",
       "5 -0.900206 -0.575970  0.046380  0.410383 -0.574992 -0.999901  1.331368   \n",
       "6 -0.786482 -1.547590  0.849340  0.945371  1.171583 -0.137708 -0.258207   \n",
       "7  0.637260 -0.864261  1.198955 -0.668849  0.052115  0.260463 -0.439407   \n",
       "\n",
       "          H         I         J  K  \n",
       "5  0.378822 -0.660762 -0.623234  4  \n",
       "6 -1.815294  0.136022 -0.226366  5  \n",
       "7 -0.995599  1.776119  1.515791  6  "
      ]
     },
     "execution_count": 23,
     "metadata": {},
     "output_type": "execute_result"
    }
   ],
   "source": [
    "df[df['K'].isin(np.arange(4,7))]"
   ]
  },
  {
   "cell_type": "code",
   "execution_count": 24,
   "metadata": {},
   "outputs": [],
   "source": [
    "%reset -f"
   ]
  },
  {
   "cell_type": "markdown",
   "metadata": {},
   "source": [
    "## Setting values\n"
   ]
  },
  {
   "cell_type": "markdown",
   "metadata": {},
   "source": [
    "### Setting values by label"
   ]
  },
  {
   "cell_type": "code",
   "execution_count": 25,
   "metadata": {},
   "outputs": [
    {
     "name": "stdout",
     "output_type": "stream",
     "text": [
      "         A    B    C    D    E\n",
      "one    1.0  0.0  0.0  0.0  0.0\n",
      "two    0.0  1.0  0.0  0.0  0.0\n",
      "three  0.0  0.0  1.0  0.0  0.0\n",
      "four   0.0  0.0  0.0  1.0  0.0\n",
      "five   0.0  0.0  0.0  0.0  1.0\n"
     ]
    }
   ],
   "source": [
    "import numpy as np\n",
    "import matplotlib.pyplot as plt\n",
    "import matplotlib.image as mpimg\n",
    "import os\n",
    "import pandas as pd\n",
    "\n",
    "df=pd.DataFrame(np.eye(5,5),index=['one','two','three','four','five'],columns=['A','B','C','D','E'])\n",
    "print(df)\n"
   ]
  },
  {
   "cell_type": "code",
   "execution_count": 26,
   "metadata": {},
   "outputs": [
    {
     "name": "stdout",
     "output_type": "stream",
     "text": [
      "         A    B    C    D    E\n",
      "one    0.0  0.0  0.0  0.0  0.0\n",
      "two    2.0  1.0  0.0  0.0  0.0\n",
      "three  0.0  0.0  1.0  0.0  0.0\n",
      "four   0.0  0.0  0.0  1.0  0.0\n",
      "five   0.0  0.0  0.0  0.0  1.0\n"
     ]
    }
   ],
   "source": [
    "df.at['one','A']=0\n",
    "df.loc['two','A']=2\n",
    "print(df)"
   ]
  },
  {
   "cell_type": "markdown",
   "metadata": {},
   "source": [
    "### Setting values by position"
   ]
  },
  {
   "cell_type": "code",
   "execution_count": 27,
   "metadata": {},
   "outputs": [
    {
     "name": "stdout",
     "output_type": "stream",
     "text": [
      "         A    B    C    D    E\n",
      "one    1.0  0.0  0.0  0.0  0.0\n",
      "two    2.0  1.0  0.0  0.0  0.0\n",
      "three  0.0  0.0  1.0  3.0  0.0\n",
      "four   0.0  0.0  0.0  1.0  0.0\n",
      "five   0.0  0.0  0.0  0.0  1.0\n"
     ]
    }
   ],
   "source": [
    "df.iat[0,0]=1\n",
    "df.iloc[2,3]=3\n",
    "print(df)"
   ]
  },
  {
   "cell_type": "code",
   "execution_count": 28,
   "metadata": {},
   "outputs": [
    {
     "name": "stdout",
     "output_type": "stream",
     "text": [
      "         A    B    C    D    E\n",
      "one    1.0  0.0  0.0  0.0  0.0\n",
      "two    2.0  1.0  0.0  0.0  1.0\n",
      "three  0.0  0.0  1.0  3.0  2.0\n",
      "four   0.0  0.0  0.0  1.0  3.0\n",
      "five   0.0  0.0  0.0  0.0  4.0\n"
     ]
    }
   ],
   "source": [
    "df.iloc[:,4]=np.arange(0,5,dtype=np.float64)\n",
    "print(df)"
   ]
  },
  {
   "cell_type": "markdown",
   "metadata": {},
   "source": [
    "### Setting values by bool"
   ]
  },
  {
   "cell_type": "code",
   "execution_count": 29,
   "metadata": {},
   "outputs": [
    {
     "name": "stdout",
     "output_type": "stream",
     "text": [
      "         A    B    C    D    E\n",
      "one    1.0  0.0  0.0  0.0  0.0\n",
      "two    2.0  1.0  0.0  0.0  1.0\n",
      "three  0.0  0.0  1.0  3.0  2.0\n",
      "four   0.0  0.0  0.0  1.0  3.0\n",
      "five  -0.0 -0.0 -0.0 -0.0 -4.0\n"
     ]
    }
   ],
   "source": [
    "df[df['E']>3]=-df\n",
    "print(df)"
   ]
  },
  {
   "cell_type": "code",
   "execution_count": 30,
   "metadata": {},
   "outputs": [],
   "source": [
    "%reset -f"
   ]
  },
  {
   "cell_type": "markdown",
   "metadata": {},
   "source": [
    "## Dealing with missing data"
   ]
  },
  {
   "cell_type": "code",
   "execution_count": 31,
   "metadata": {},
   "outputs": [
    {
     "name": "stdout",
     "output_type": "stream",
     "text": [
      "          0         1         2         3         4         5         6  \\\n",
      "0  0.662259 -0.686574 -1.323704  0.438993  0.749195 -0.599233  0.644720   \n",
      "1  1.668812 -0.316058  0.323256  0.238857 -0.437232  0.160469  0.339647   \n",
      "2  0.191244  1.063229  1.152739  0.758670 -1.934281  0.669574  0.595495   \n",
      "3  1.586779  1.193381  1.132302  0.443979 -1.221973  0.170165  0.959659   \n",
      "4  0.028523  0.090702 -0.082739 -0.657097  1.429272  0.491224 -1.266079   \n",
      "5  0.694399  0.301123 -1.588464 -0.425227 -0.131521 -0.330905 -0.668575   \n",
      "6 -0.547274 -1.791157  0.055225 -2.701689 -0.454277 -0.296160  1.389757   \n",
      "7 -0.721163  0.776323 -1.552506  0.589494 -0.101673 -0.982846  1.168617   \n",
      "8 -1.603065 -0.691283 -1.851515  0.415866 -1.344965  0.414401  0.174711   \n",
      "9 -0.405137  0.765541 -0.507957 -0.399010  0.268588 -0.731801  0.082494   \n",
      "\n",
      "          7         8         9  \n",
      "0  1.540879  0.142727 -0.424906  \n",
      "1  1.459340  0.882264 -0.426738  \n",
      "2  0.749953 -0.405264 -0.031780  \n",
      "3  0.719198 -1.285013 -1.856076  \n",
      "4  0.400296 -0.308895 -0.358136  \n",
      "5  0.163080 -1.478766  0.961518  \n",
      "6  1.132823 -0.966046 -0.707455  \n",
      "7  0.584107  0.146486 -1.179316  \n",
      "8 -0.979389  0.178124 -1.548910  \n",
      "9 -0.156199  1.025096  0.421018  \n"
     ]
    }
   ],
   "source": [
    "import numpy as np\n",
    "import matplotlib.pyplot as plt\n",
    "import matplotlib.image as mpimg\n",
    "import os\n",
    "import pandas as pd\n",
    "\n",
    "df=pd.DataFrame(np.random.randn(10,10))\n",
    "print(df)"
   ]
  },
  {
   "cell_type": "code",
   "execution_count": 32,
   "metadata": {},
   "outputs": [
    {
     "name": "stdout",
     "output_type": "stream",
     "text": [
      "          0         1         2         3         4         5         6  \\\n",
      "0  0.662259       NaN       NaN       NaN       NaN       NaN       NaN   \n",
      "1  1.668812       NaN       NaN       NaN       NaN       NaN       NaN   \n",
      "2  0.191244  1.063229  1.152739  0.758670 -1.934281  0.669574  0.595495   \n",
      "3  1.586779       NaN       NaN       NaN       NaN       NaN       NaN   \n",
      "4  0.028523  0.090702 -0.082739 -0.657097  1.429272  0.491224 -1.266079   \n",
      "5  0.694399       NaN       NaN       NaN       NaN       NaN       NaN   \n",
      "6 -0.547274 -1.791157  0.055225 -2.701689 -0.454277 -0.296160  1.389757   \n",
      "7 -0.721163  0.776323 -1.552506  0.589494 -0.101673 -0.982846  1.168617   \n",
      "8 -1.603065       NaN       NaN       NaN       NaN       NaN       NaN   \n",
      "9 -0.405137       NaN       NaN       NaN       NaN       NaN       NaN   \n",
      "\n",
      "          7         8         9  \n",
      "0  1.540879  0.142727 -0.424906  \n",
      "1  1.459340  0.882264 -0.426738  \n",
      "2  0.749953 -0.405264 -0.031780  \n",
      "3  0.719198 -1.285013 -1.856076  \n",
      "4  0.400296 -0.308895 -0.358136  \n",
      "5  0.163080 -1.478766  0.961518  \n",
      "6  1.132823 -0.966046 -0.707455  \n",
      "7  0.584107  0.146486 -1.179316  \n",
      "8 -0.979389  0.178124 -1.548910  \n",
      "9 -0.156199  1.025096  0.421018  \n"
     ]
    }
   ],
   "source": [
    "df.iloc[np.random.randint(0,10,size=10),np.random.randint(0,10,size=10)]=np.nan\n",
    "print(df)"
   ]
  },
  {
   "cell_type": "markdown",
   "metadata": {},
   "source": [
    "### Just drop missing data"
   ]
  },
  {
   "cell_type": "code",
   "execution_count": 33,
   "metadata": {},
   "outputs": [
    {
     "data": {
      "text/html": [
       "<div>\n",
       "<style scoped>\n",
       "    .dataframe tbody tr th:only-of-type {\n",
       "        vertical-align: middle;\n",
       "    }\n",
       "\n",
       "    .dataframe tbody tr th {\n",
       "        vertical-align: top;\n",
       "    }\n",
       "\n",
       "    .dataframe thead th {\n",
       "        text-align: right;\n",
       "    }\n",
       "</style>\n",
       "<table border=\"1\" class=\"dataframe\">\n",
       "  <thead>\n",
       "    <tr style=\"text-align: right;\">\n",
       "      <th></th>\n",
       "      <th>0</th>\n",
       "      <th>1</th>\n",
       "      <th>2</th>\n",
       "      <th>3</th>\n",
       "      <th>4</th>\n",
       "      <th>5</th>\n",
       "      <th>6</th>\n",
       "      <th>7</th>\n",
       "      <th>8</th>\n",
       "      <th>9</th>\n",
       "    </tr>\n",
       "  </thead>\n",
       "  <tbody>\n",
       "    <tr>\n",
       "      <th>2</th>\n",
       "      <td>0.191244</td>\n",
       "      <td>1.063229</td>\n",
       "      <td>1.152739</td>\n",
       "      <td>0.758670</td>\n",
       "      <td>-1.934281</td>\n",
       "      <td>0.669574</td>\n",
       "      <td>0.595495</td>\n",
       "      <td>0.749953</td>\n",
       "      <td>-0.405264</td>\n",
       "      <td>-0.031780</td>\n",
       "    </tr>\n",
       "    <tr>\n",
       "      <th>4</th>\n",
       "      <td>0.028523</td>\n",
       "      <td>0.090702</td>\n",
       "      <td>-0.082739</td>\n",
       "      <td>-0.657097</td>\n",
       "      <td>1.429272</td>\n",
       "      <td>0.491224</td>\n",
       "      <td>-1.266079</td>\n",
       "      <td>0.400296</td>\n",
       "      <td>-0.308895</td>\n",
       "      <td>-0.358136</td>\n",
       "    </tr>\n",
       "    <tr>\n",
       "      <th>6</th>\n",
       "      <td>-0.547274</td>\n",
       "      <td>-1.791157</td>\n",
       "      <td>0.055225</td>\n",
       "      <td>-2.701689</td>\n",
       "      <td>-0.454277</td>\n",
       "      <td>-0.296160</td>\n",
       "      <td>1.389757</td>\n",
       "      <td>1.132823</td>\n",
       "      <td>-0.966046</td>\n",
       "      <td>-0.707455</td>\n",
       "    </tr>\n",
       "    <tr>\n",
       "      <th>7</th>\n",
       "      <td>-0.721163</td>\n",
       "      <td>0.776323</td>\n",
       "      <td>-1.552506</td>\n",
       "      <td>0.589494</td>\n",
       "      <td>-0.101673</td>\n",
       "      <td>-0.982846</td>\n",
       "      <td>1.168617</td>\n",
       "      <td>0.584107</td>\n",
       "      <td>0.146486</td>\n",
       "      <td>-1.179316</td>\n",
       "    </tr>\n",
       "  </tbody>\n",
       "</table>\n",
       "</div>"
      ],
      "text/plain": [
       "          0         1         2         3         4         5         6  \\\n",
       "2  0.191244  1.063229  1.152739  0.758670 -1.934281  0.669574  0.595495   \n",
       "4  0.028523  0.090702 -0.082739 -0.657097  1.429272  0.491224 -1.266079   \n",
       "6 -0.547274 -1.791157  0.055225 -2.701689 -0.454277 -0.296160  1.389757   \n",
       "7 -0.721163  0.776323 -1.552506  0.589494 -0.101673 -0.982846  1.168617   \n",
       "\n",
       "          7         8         9  \n",
       "2  0.749953 -0.405264 -0.031780  \n",
       "4  0.400296 -0.308895 -0.358136  \n",
       "6  1.132823 -0.966046 -0.707455  \n",
       "7  0.584107  0.146486 -1.179316  "
      ]
     },
     "execution_count": 33,
     "metadata": {},
     "output_type": "execute_result"
    }
   ],
   "source": [
    "df.dropna(how='any')"
   ]
  },
  {
   "cell_type": "code",
   "execution_count": 34,
   "metadata": {},
   "outputs": [],
   "source": [
    "%reset -f"
   ]
  },
  {
   "cell_type": "markdown",
   "metadata": {},
   "source": [
    "### Fill missing data"
   ]
  },
  {
   "cell_type": "code",
   "execution_count": 35,
   "metadata": {},
   "outputs": [
    {
     "name": "stdout",
     "output_type": "stream",
     "text": [
      "          0         1         2         3         4\n",
      "0  0.588303  0.258176 -0.857468  0.341041  0.836903\n",
      "1 -0.264639  1.052726  0.381468 -0.748083 -0.513062\n",
      "2 -0.319027  0.513195 -2.076103 -1.076932 -0.468957\n",
      "3 -0.471176 -0.223749  0.754922 -1.158990  0.494261\n"
     ]
    }
   ],
   "source": [
    "import numpy as np\n",
    "import matplotlib.pyplot as plt\n",
    "import matplotlib.image as mpimg\n",
    "import os\n",
    "import pandas as pd\n",
    "\n",
    "df=pd.DataFrame(np.random.randn(4,5))\n",
    "print(df)\n"
   ]
  },
  {
   "cell_type": "code",
   "execution_count": 36,
   "metadata": {},
   "outputs": [
    {
     "name": "stdout",
     "output_type": "stream",
     "text": [
      "          0         1         2         3         4\n",
      "0  0.588303  0.258176 -0.857468  0.341041  0.836903\n",
      "1       NaN       NaN  0.381468 -0.748083 -0.513062\n",
      "2       NaN       NaN -2.076103 -1.076932 -0.468957\n",
      "3 -0.471176 -0.223749  0.754922 -1.158990  0.494261\n"
     ]
    }
   ],
   "source": [
    "df.iloc[np.random.randint(0,4,size=2),np.random.randint(0,5,size=3)]=np.nan\n",
    "print(df)"
   ]
  },
  {
   "cell_type": "code",
   "execution_count": 37,
   "metadata": {},
   "outputs": [
    {
     "name": "stdout",
     "output_type": "stream",
     "text": [
      "          0         1         2         3         4\n",
      "0  0.588303  0.258176 -0.857468  0.341041  0.836903\n",
      "1       NaN       NaN  0.381468 -0.748083 -0.513062\n",
      "2       NaN       NaN -2.076103 -1.076932 -0.468957\n",
      "3 -0.471176 -0.223749  0.754922 -1.158990  0.494261\n"
     ]
    }
   ],
   "source": [
    "df.fillna(0)\n",
    "print(df)"
   ]
  },
  {
   "cell_type": "code",
   "execution_count": 38,
   "metadata": {},
   "outputs": [],
   "source": [
    "%reset -f"
   ]
  },
  {
   "cell_type": "markdown",
   "metadata": {},
   "source": [
    "## Operations"
   ]
  },
  {
   "cell_type": "markdown",
   "metadata": {},
   "source": [
    "### Arithmetic operation"
   ]
  },
  {
   "cell_type": "code",
   "execution_count": 39,
   "metadata": {},
   "outputs": [
    {
     "name": "stdout",
     "output_type": "stream",
     "text": [
      "     0    1    2    3    4\n",
      "0  171  -73   43  133  -31\n",
      "1 -176 -818 -926  846  612\n",
      "2 -782 -889  -62 -503 -362\n",
      "3  480 -571  856 -888 -678\n"
     ]
    }
   ],
   "source": [
    "import numpy as np\n",
    "import matplotlib.pyplot as plt\n",
    "import matplotlib.image as mpimg\n",
    "import os\n",
    "import pandas as pd\n",
    "\n",
    "df=pd.DataFrame(np.random.randint(-1000,1000,size=(4,5)))\n",
    "print(df)"
   ]
  },
  {
   "cell_type": "code",
   "execution_count": 40,
   "metadata": {},
   "outputs": [
    {
     "name": "stdout",
     "output_type": "stream",
     "text": [
      "0    -76.75\n",
      "1   -587.75\n",
      "2    -22.25\n",
      "3   -103.00\n",
      "4   -114.75\n",
      "dtype: float64\n"
     ]
    }
   ],
   "source": [
    "print(df.mean(axis=0))"
   ]
  },
  {
   "cell_type": "code",
   "execution_count": 41,
   "metadata": {},
   "outputs": [
    {
     "name": "stdout",
     "output_type": "stream",
     "text": [
      "0     48.6\n",
      "1    -92.4\n",
      "2   -519.6\n",
      "3   -160.2\n",
      "dtype: float64\n"
     ]
    }
   ],
   "source": [
    "print(df.mean(axis=1))"
   ]
  },
  {
   "cell_type": "code",
   "execution_count": 42,
   "metadata": {},
   "outputs": [
    {
     "name": "stdout",
     "output_type": "stream",
     "text": [
      "     0    1    2    3    4\n",
      "0 -790 -352  499 -590  251\n",
      "1  989 -606  997 -517   20\n",
      "2 -770 -119 -966 -648   27\n",
      "3 -747 -253  706  551  952\n"
     ]
    }
   ],
   "source": [
    "df2=pd.DataFrame(np.random.randint(-1000,1000,size=(4,5)))\n",
    "print(df2)"
   ]
  },
  {
   "cell_type": "code",
   "execution_count": 43,
   "metadata": {},
   "outputs": [
    {
     "name": "stdout",
     "output_type": "stream",
     "text": [
      "      0    1     2     3     4\n",
      "0   961  279  -456   723  -282\n",
      "1 -1165 -212 -1923  1363   592\n",
      "2   -12 -770   904   145  -389\n",
      "3  1227 -318   150 -1439 -1630\n"
     ]
    }
   ],
   "source": [
    "print(df.sub(df2))"
   ]
  },
  {
   "cell_type": "code",
   "execution_count": 44,
   "metadata": {},
   "outputs": [
    {
     "name": "stdout",
     "output_type": "stream",
     "text": [
      "      0     1     2     3    4\n",
      "0  -619  -425   542  -457  220\n",
      "1   813 -1424    71   329  632\n",
      "2 -1552 -1008 -1028 -1151 -335\n",
      "3  -267  -824  1562  -337  274\n"
     ]
    }
   ],
   "source": [
    "print(df.add(df2))"
   ]
  },
  {
   "cell_type": "code",
   "execution_count": 45,
   "metadata": {},
   "outputs": [
    {
     "name": "stdout",
     "output_type": "stream",
     "text": [
      "        0       1       2       3       4\n",
      "0 -135090   25696   21457  -78470   -7781\n",
      "1 -174064  495708 -923222 -437382   12240\n",
      "2  602140  105791   59892  325944   -9774\n",
      "3 -358560  144463  604336 -489288 -645456\n"
     ]
    }
   ],
   "source": [
    "print(df.multiply(df2))"
   ]
  },
  {
   "cell_type": "code",
   "execution_count": 46,
   "metadata": {},
   "outputs": [
    {
     "name": "stdout",
     "output_type": "stream",
     "text": [
      "          0         1         2         3          4\n",
      "0 -0.216456  0.207386  0.086172 -0.225424  -0.123506\n",
      "1 -0.177958  1.349835 -0.928786 -1.636364  30.600000\n",
      "2  1.015584  7.470588  0.064182  0.776235 -13.407407\n",
      "3 -0.642570  2.256917  1.212465 -1.611615  -0.712185\n"
     ]
    }
   ],
   "source": [
    "print(df.divide(df2))"
   ]
  },
  {
   "cell_type": "code",
   "execution_count": 47,
   "metadata": {},
   "outputs": [],
   "source": [
    "%reset -f"
   ]
  },
  {
   "cell_type": "markdown",
   "metadata": {},
   "source": [
    "### Apply funciton"
   ]
  },
  {
   "cell_type": "code",
   "execution_count": 48,
   "metadata": {},
   "outputs": [
    {
     "name": "stdout",
     "output_type": "stream",
     "text": [
      "    0   1   2   3   4\n",
      "0  38 -75  91 -44   0\n",
      "1  74 -77 -10  41  -4\n",
      "2  77  91 -21 -80  66\n",
      "3 -13 -86  71 -10  65\n"
     ]
    }
   ],
   "source": [
    "import numpy as np\n",
    "import matplotlib.pyplot as plt\n",
    "import matplotlib.image as mpimg\n",
    "import os\n",
    "import pandas as pd\n",
    "\n",
    "df=pd.DataFrame(np.random.randint(-100,100,(4,5)))\n",
    "print(df)"
   ]
  },
  {
   "cell_type": "code",
   "execution_count": 49,
   "metadata": {},
   "outputs": [
    {
     "data": {
      "text/plain": [
       "0    176\n",
       "1   -147\n",
       "2    131\n",
       "3    -93\n",
       "4    127\n",
       "dtype: int64"
      ]
     },
     "execution_count": 49,
     "metadata": {},
     "output_type": "execute_result"
    }
   ],
   "source": [
    "df.apply(np.sum)"
   ]
  },
  {
   "cell_type": "code",
   "execution_count": 50,
   "metadata": {},
   "outputs": [
    {
     "data": {
      "text/html": [
       "<div>\n",
       "<style scoped>\n",
       "    .dataframe tbody tr th:only-of-type {\n",
       "        vertical-align: middle;\n",
       "    }\n",
       "\n",
       "    .dataframe tbody tr th {\n",
       "        vertical-align: top;\n",
       "    }\n",
       "\n",
       "    .dataframe thead th {\n",
       "        text-align: right;\n",
       "    }\n",
       "</style>\n",
       "<table border=\"1\" class=\"dataframe\">\n",
       "  <thead>\n",
       "    <tr style=\"text-align: right;\">\n",
       "      <th></th>\n",
       "      <th>0</th>\n",
       "      <th>1</th>\n",
       "      <th>2</th>\n",
       "      <th>3</th>\n",
       "      <th>4</th>\n",
       "    </tr>\n",
       "  </thead>\n",
       "  <tbody>\n",
       "    <tr>\n",
       "      <th>0</th>\n",
       "      <td>38</td>\n",
       "      <td>-75</td>\n",
       "      <td>91</td>\n",
       "      <td>-44</td>\n",
       "      <td>0</td>\n",
       "    </tr>\n",
       "    <tr>\n",
       "      <th>1</th>\n",
       "      <td>112</td>\n",
       "      <td>-152</td>\n",
       "      <td>81</td>\n",
       "      <td>-3</td>\n",
       "      <td>-4</td>\n",
       "    </tr>\n",
       "    <tr>\n",
       "      <th>2</th>\n",
       "      <td>189</td>\n",
       "      <td>-61</td>\n",
       "      <td>60</td>\n",
       "      <td>-83</td>\n",
       "      <td>62</td>\n",
       "    </tr>\n",
       "    <tr>\n",
       "      <th>3</th>\n",
       "      <td>176</td>\n",
       "      <td>-147</td>\n",
       "      <td>131</td>\n",
       "      <td>-93</td>\n",
       "      <td>127</td>\n",
       "    </tr>\n",
       "  </tbody>\n",
       "</table>\n",
       "</div>"
      ],
      "text/plain": [
       "     0    1    2   3    4\n",
       "0   38  -75   91 -44    0\n",
       "1  112 -152   81  -3   -4\n",
       "2  189  -61   60 -83   62\n",
       "3  176 -147  131 -93  127"
      ]
     },
     "execution_count": 50,
     "metadata": {},
     "output_type": "execute_result"
    }
   ],
   "source": [
    "df.apply(np.cumsum,axis=0)"
   ]
  },
  {
   "cell_type": "code",
   "execution_count": 51,
   "metadata": {},
   "outputs": [
    {
     "data": {
      "text/plain": [
       "0     90\n",
       "1    177\n",
       "2    112\n",
       "3    121\n",
       "4     70\n",
       "dtype: int64"
      ]
     },
     "execution_count": 51,
     "metadata": {},
     "output_type": "execute_result"
    }
   ],
   "source": [
    "df.apply(lambda x:x.max()-x.min())"
   ]
  },
  {
   "cell_type": "code",
   "execution_count": 52,
   "metadata": {},
   "outputs": [],
   "source": [
    "%reset -f"
   ]
  },
  {
   "cell_type": "markdown",
   "metadata": {},
   "source": [
    "### Merge"
   ]
  },
  {
   "cell_type": "code",
   "execution_count": 53,
   "metadata": {},
   "outputs": [
    {
     "name": "stdout",
     "output_type": "stream",
     "text": [
      "   0   1  2  3  4\n",
      "0 -1   6  4 -8  8\n",
      "1 -1 -10  7  5 -8\n",
      "2 -7  -3 -5  6  1\n",
      "3 -2  -5  0  4  9\n"
     ]
    }
   ],
   "source": [
    "import numpy as np\n",
    "import matplotlib.pyplot as plt\n",
    "import matplotlib.image as mpimg\n",
    "import os\n",
    "import pandas as pd\n",
    "\n",
    "df1=pd.DataFrame(np.random.randint(-10,10,(4,5)))\n",
    "print(df1)"
   ]
  },
  {
   "cell_type": "code",
   "execution_count": 54,
   "metadata": {},
   "outputs": [
    {
     "name": "stdout",
     "output_type": "stream",
     "text": [
      "   0  1  2  3  4\n",
      "0 -4  3  5 -2 -5\n",
      "1  6  5 -4  9  1\n"
     ]
    }
   ],
   "source": [
    "df2=pd.DataFrame(np.random.randint(-10,10,(2,5)))\n",
    "print(df2)"
   ]
  },
  {
   "cell_type": "code",
   "execution_count": 55,
   "metadata": {},
   "outputs": [
    {
     "data": {
      "text/html": [
       "<div>\n",
       "<style scoped>\n",
       "    .dataframe tbody tr th:only-of-type {\n",
       "        vertical-align: middle;\n",
       "    }\n",
       "\n",
       "    .dataframe tbody tr th {\n",
       "        vertical-align: top;\n",
       "    }\n",
       "\n",
       "    .dataframe thead th {\n",
       "        text-align: right;\n",
       "    }\n",
       "</style>\n",
       "<table border=\"1\" class=\"dataframe\">\n",
       "  <thead>\n",
       "    <tr style=\"text-align: right;\">\n",
       "      <th></th>\n",
       "      <th>0</th>\n",
       "      <th>1</th>\n",
       "      <th>2</th>\n",
       "      <th>3</th>\n",
       "      <th>4</th>\n",
       "    </tr>\n",
       "  </thead>\n",
       "  <tbody>\n",
       "    <tr>\n",
       "      <th>0</th>\n",
       "      <td>-1</td>\n",
       "      <td>6</td>\n",
       "      <td>4</td>\n",
       "      <td>-8</td>\n",
       "      <td>8</td>\n",
       "    </tr>\n",
       "    <tr>\n",
       "      <th>1</th>\n",
       "      <td>-1</td>\n",
       "      <td>-10</td>\n",
       "      <td>7</td>\n",
       "      <td>5</td>\n",
       "      <td>-8</td>\n",
       "    </tr>\n",
       "    <tr>\n",
       "      <th>2</th>\n",
       "      <td>-7</td>\n",
       "      <td>-3</td>\n",
       "      <td>-5</td>\n",
       "      <td>6</td>\n",
       "      <td>1</td>\n",
       "    </tr>\n",
       "    <tr>\n",
       "      <th>3</th>\n",
       "      <td>-2</td>\n",
       "      <td>-5</td>\n",
       "      <td>0</td>\n",
       "      <td>4</td>\n",
       "      <td>9</td>\n",
       "    </tr>\n",
       "    <tr>\n",
       "      <th>0</th>\n",
       "      <td>-4</td>\n",
       "      <td>3</td>\n",
       "      <td>5</td>\n",
       "      <td>-2</td>\n",
       "      <td>-5</td>\n",
       "    </tr>\n",
       "    <tr>\n",
       "      <th>1</th>\n",
       "      <td>6</td>\n",
       "      <td>5</td>\n",
       "      <td>-4</td>\n",
       "      <td>9</td>\n",
       "      <td>1</td>\n",
       "    </tr>\n",
       "  </tbody>\n",
       "</table>\n",
       "</div>"
      ],
      "text/plain": [
       "   0   1  2  3  4\n",
       "0 -1   6  4 -8  8\n",
       "1 -1 -10  7  5 -8\n",
       "2 -7  -3 -5  6  1\n",
       "3 -2  -5  0  4  9\n",
       "0 -4   3  5 -2 -5\n",
       "1  6   5 -4  9  1"
      ]
     },
     "execution_count": 55,
     "metadata": {},
     "output_type": "execute_result"
    }
   ],
   "source": [
    "pd.concat([df1,df2])"
   ]
  },
  {
   "cell_type": "code",
   "execution_count": 56,
   "metadata": {},
   "outputs": [],
   "source": [
    "%reset -f"
   ]
  },
  {
   "cell_type": "markdown",
   "metadata": {},
   "source": [
    "### SQL style operation\n"
   ]
  },
  {
   "cell_type": "code",
   "execution_count": 57,
   "metadata": {},
   "outputs": [
    {
     "name": "stdout",
     "output_type": "stream",
     "text": [
      "   key  lval\n",
      "0  foo     1\n",
      "1  foo     2\n"
     ]
    }
   ],
   "source": [
    "import numpy as np\n",
    "import matplotlib.pyplot as plt\n",
    "import matplotlib.image as mpimg\n",
    "import os\n",
    "import pandas as pd\n",
    "\n",
    "left = pd.DataFrame({\"key\": [\"foo\", \"foo\"], \"lval\": [1, 2]})\n",
    "print(left)"
   ]
  },
  {
   "cell_type": "code",
   "execution_count": 58,
   "metadata": {},
   "outputs": [
    {
     "name": "stdout",
     "output_type": "stream",
     "text": [
      "   key  rval\n",
      "0  foo     4\n",
      "1  bar     5\n"
     ]
    }
   ],
   "source": [
    "right = pd.DataFrame({\"key\": [\"foo\", \"bar\"], \"rval\": [4, 5]})\n",
    "print(right)"
   ]
  },
  {
   "cell_type": "code",
   "execution_count": 59,
   "metadata": {},
   "outputs": [
    {
     "data": {
      "text/html": [
       "<div>\n",
       "<style scoped>\n",
       "    .dataframe tbody tr th:only-of-type {\n",
       "        vertical-align: middle;\n",
       "    }\n",
       "\n",
       "    .dataframe tbody tr th {\n",
       "        vertical-align: top;\n",
       "    }\n",
       "\n",
       "    .dataframe thead th {\n",
       "        text-align: right;\n",
       "    }\n",
       "</style>\n",
       "<table border=\"1\" class=\"dataframe\">\n",
       "  <thead>\n",
       "    <tr style=\"text-align: right;\">\n",
       "      <th></th>\n",
       "      <th>key</th>\n",
       "      <th>lval</th>\n",
       "      <th>rval</th>\n",
       "    </tr>\n",
       "  </thead>\n",
       "  <tbody>\n",
       "    <tr>\n",
       "      <th>0</th>\n",
       "      <td>foo</td>\n",
       "      <td>1</td>\n",
       "      <td>4</td>\n",
       "    </tr>\n",
       "    <tr>\n",
       "      <th>1</th>\n",
       "      <td>foo</td>\n",
       "      <td>2</td>\n",
       "      <td>4</td>\n",
       "    </tr>\n",
       "  </tbody>\n",
       "</table>\n",
       "</div>"
      ],
      "text/plain": [
       "   key  lval  rval\n",
       "0  foo     1     4\n",
       "1  foo     2     4"
      ]
     },
     "execution_count": 59,
     "metadata": {},
     "output_type": "execute_result"
    }
   ],
   "source": [
    "pd.merge(left,right,on='key')"
   ]
  },
  {
   "cell_type": "code",
   "execution_count": 60,
   "metadata": {},
   "outputs": [],
   "source": [
    "%reset -f"
   ]
  },
  {
   "cell_type": "markdown",
   "metadata": {},
   "source": [
    "## Plotting"
   ]
  },
  {
   "cell_type": "code",
   "execution_count": 61,
   "metadata": {},
   "outputs": [
    {
     "data": {
      "text/plain": [
       "<AxesSubplot: >"
      ]
     },
     "execution_count": 61,
     "metadata": {},
     "output_type": "execute_result"
    },
    {
     "data": {
      "image/png": "[encoded data removed]",
      "text/plain": [
       "<Figure size 640x480 with 1 Axes>"
      ]
     },
     "metadata": {},
     "output_type": "display_data"
    }
   ],
   "source": [
    "import numpy as np\n",
    "import matplotlib.pyplot as plt\n",
    "import matplotlib.image as mpimg\n",
    "import os\n",
    "import pandas as pd\n",
    "\n",
    "df=pd.Series(np.sin(np.linspace(0,2*np.pi)),index=np.linspace(0,2*np.pi))\n",
    "df.plot()"
   ]
  },
  {
   "cell_type": "code",
   "execution_count": 62,
   "metadata": {},
   "outputs": [],
   "source": [
    "%reset -f"
   ]
  },
  {
   "cell_type": "code",
   "execution_count": 63,
   "metadata": {},
   "outputs": [
    {
     "name": "stdout",
     "output_type": "stream",
     "text": [
      "             sin       cos\n",
      "0   0.000000e+00  1.000000\n",
      "1   1.278772e-01  0.991790\n",
      "2   2.536546e-01  0.967295\n",
      "3   3.752670e-01  0.926917\n",
      "4   4.907176e-01  0.871319\n",
      "5   5.981105e-01  0.801414\n",
      "6   6.956826e-01  0.718349\n",
      "7   7.818315e-01  0.623490\n",
      "8   8.551428e-01  0.518393\n",
      "9   9.144126e-01  0.404783\n",
      "10  9.586679e-01  0.284528\n",
      "11  9.871818e-01  0.159600\n",
      "12  9.994862e-01  0.032052\n",
      "13  9.953791e-01 -0.096023\n",
      "14  9.749279e-01 -0.222521\n",
      "15  9.384684e-01 -0.345365\n",
      "16  8.865993e-01 -0.462538\n",
      "17  8.201723e-01 -0.572117\n",
      "18  7.402780e-01 -0.672301\n",
      "19  6.482284e-01 -0.761446\n",
      "20  5.455349e-01 -0.838088\n",
      "21  4.338837e-01 -0.900969\n",
      "22  3.151082e-01 -0.949056\n",
      "23  1.911586e-01 -0.981559\n",
      "24  6.407022e-02 -0.997945\n",
      "25 -6.407022e-02 -0.997945\n",
      "26 -1.911586e-01 -0.981559\n",
      "27 -3.151082e-01 -0.949056\n",
      "28 -4.338837e-01 -0.900969\n",
      "29 -5.455349e-01 -0.838088\n",
      "30 -6.482284e-01 -0.761446\n",
      "31 -7.402780e-01 -0.672301\n",
      "32 -8.201723e-01 -0.572117\n",
      "33 -8.865993e-01 -0.462538\n",
      "34 -9.384684e-01 -0.345365\n",
      "35 -9.749279e-01 -0.222521\n",
      "36 -9.953791e-01 -0.096023\n",
      "37 -9.994862e-01  0.032052\n",
      "38 -9.871818e-01  0.159600\n",
      "39 -9.586679e-01  0.284528\n",
      "40 -9.144126e-01  0.404783\n",
      "41 -8.551428e-01  0.518393\n",
      "42 -7.818315e-01  0.623490\n",
      "43 -6.956826e-01  0.718349\n",
      "44 -5.981105e-01  0.801414\n",
      "45 -4.907176e-01  0.871319\n",
      "46 -3.752670e-01  0.926917\n",
      "47 -2.536546e-01  0.967295\n",
      "48 -1.278772e-01  0.991790\n",
      "49 -2.449294e-16  1.000000\n"
     ]
    }
   ],
   "source": [
    "import numpy as np\n",
    "import matplotlib.pyplot as plt\n",
    "import matplotlib.image as mpimg\n",
    "import os\n",
    "import pandas as pd\n",
    "\n",
    "df=pd.DataFrame({'sin':np.sin(np.linspace(0,2*np.pi)),'cos':np.cos(np.linspace(0,2*np.pi))})\n",
    "print(df)\n"
   ]
  },
  {
   "cell_type": "code",
   "execution_count": 64,
   "metadata": {},
   "outputs": [
    {
     "data": {
      "text/plain": [
       "<AxesSubplot: >"
      ]
     },
     "execution_count": 64,
     "metadata": {},
     "output_type": "execute_result"
    },
    {
     "data": {
      "image/png": "[encoded data removed]",
      "text/plain": [
       "<Figure size 640x480 with 1 Axes>"
      ]
     },
     "metadata": {},
     "output_type": "display_data"
    }
   ],
   "source": [
    "df.plot()"
   ]
  },
  {
   "cell_type": "markdown",
   "metadata": {},
   "source": [
    "# Data structure"
   ]
  },
  {
   "cell_type": "markdown",
   "metadata": {},
   "source": [
    "## Series"
   ]
  },
  {
   "cell_type": "code",
   "execution_count": 65,
   "metadata": {},
   "outputs": [
    {
     "name": "stdout",
     "output_type": "stream",
     "text": [
      "0    0\n",
      "1    1\n",
      "2    2\n",
      "3    3\n",
      "4    4\n",
      "5    5\n",
      "6    6\n",
      "7    7\n",
      "8    8\n",
      "9    9\n",
      "dtype: int64\n"
     ]
    }
   ],
   "source": [
    "import numpy as np\n",
    "import matplotlib.pyplot as plt\n",
    "import matplotlib.image as mpimg\n",
    "import os\n",
    "import pandas as pd\n",
    "\n",
    "s=pd.Series(np.arange(0,10))\n",
    "print(s)"
   ]
  },
  {
   "cell_type": "code",
   "execution_count": 66,
   "metadata": {},
   "outputs": [
    {
     "data": {
      "text/plain": [
       "1"
      ]
     },
     "execution_count": 66,
     "metadata": {},
     "output_type": "execute_result"
    }
   ],
   "source": [
    "s[1]"
   ]
  },
  {
   "cell_type": "code",
   "execution_count": 67,
   "metadata": {},
   "outputs": [
    {
     "data": {
      "text/plain": [
       "1"
      ]
     },
     "execution_count": 67,
     "metadata": {},
     "output_type": "execute_result"
    }
   ],
   "source": [
    "s.iloc[1]"
   ]
  },
  {
   "cell_type": "code",
   "execution_count": 68,
   "metadata": {},
   "outputs": [
    {
     "data": {
      "text/plain": [
       "1"
      ]
     },
     "execution_count": 68,
     "metadata": {},
     "output_type": "execute_result"
    }
   ],
   "source": [
    "s.loc[1]"
   ]
  },
  {
   "cell_type": "code",
   "execution_count": 69,
   "metadata": {},
   "outputs": [],
   "source": [
    "%reset -f"
   ]
  },
  {
   "cell_type": "code",
   "execution_count": 70,
   "metadata": {},
   "outputs": [
    {
     "name": "stdout",
     "output_type": "stream",
     "text": [
      "a    1\n",
      "b    2\n",
      "c    3\n",
      "dtype: int64\n"
     ]
    }
   ],
   "source": [
    "import numpy as np\n",
    "import matplotlib.pyplot as plt\n",
    "import matplotlib.image as mpimg\n",
    "import os\n",
    "import pandas as pd\n",
    "\n",
    "s=pd.Series({'a':1,'b':2,'c':3})\n",
    "print(s)"
   ]
  },
  {
   "cell_type": "code",
   "execution_count": 71,
   "metadata": {},
   "outputs": [
    {
     "data": {
      "text/plain": [
       "2"
      ]
     },
     "execution_count": 71,
     "metadata": {},
     "output_type": "execute_result"
    }
   ],
   "source": [
    "s.iloc[1]"
   ]
  },
  {
   "cell_type": "code",
   "execution_count": 72,
   "metadata": {},
   "outputs": [
    {
     "data": {
      "text/plain": [
       "2"
      ]
     },
     "execution_count": 72,
     "metadata": {},
     "output_type": "execute_result"
    }
   ],
   "source": [
    "s.loc['b']"
   ]
  },
  {
   "cell_type": "code",
   "execution_count": 73,
   "metadata": {},
   "outputs": [
    {
     "data": {
      "text/plain": [
       "(3,)"
      ]
     },
     "execution_count": 73,
     "metadata": {},
     "output_type": "execute_result"
    }
   ],
   "source": [
    "s.shape"
   ]
  },
  {
   "cell_type": "code",
   "execution_count": 74,
   "metadata": {},
   "outputs": [
    {
     "data": {
      "text/plain": [
       "a    2\n",
       "b    4\n",
       "c    6\n",
       "dtype: int64"
      ]
     },
     "execution_count": 74,
     "metadata": {},
     "output_type": "execute_result"
    }
   ],
   "source": [
    "s+s"
   ]
  },
  {
   "cell_type": "code",
   "execution_count": 75,
   "metadata": {},
   "outputs": [
    {
     "data": {
      "text/plain": [
       "a    2\n",
       "b    4\n",
       "c    6\n",
       "dtype: int64"
      ]
     },
     "execution_count": 75,
     "metadata": {},
     "output_type": "execute_result"
    }
   ],
   "source": [
    "s*2"
   ]
  },
  {
   "cell_type": "code",
   "execution_count": 76,
   "metadata": {},
   "outputs": [
    {
     "data": {
      "text/plain": [
       "a    1\n",
       "b    4\n",
       "c    9\n",
       "dtype: int64"
      ]
     },
     "execution_count": 76,
     "metadata": {},
     "output_type": "execute_result"
    }
   ],
   "source": [
    "s**2"
   ]
  },
  {
   "cell_type": "code",
   "execution_count": 77,
   "metadata": {},
   "outputs": [
    {
     "data": {
      "text/plain": [
       "a     2.718282\n",
       "b     7.389056\n",
       "c    20.085537\n",
       "dtype: float64"
      ]
     },
     "execution_count": 77,
     "metadata": {},
     "output_type": "execute_result"
    }
   ],
   "source": [
    "np.exp(s)"
   ]
  },
  {
   "cell_type": "markdown",
   "metadata": {},
   "source": [
    "## Dataframe"
   ]
  },
  {
   "cell_type": "code",
   "execution_count": 78,
   "metadata": {},
   "outputs": [
    {
     "name": "stdout",
     "output_type": "stream",
     "text": [
      "   one  two\n",
      "a    0   10\n",
      "b    1   11\n",
      "c    2   12\n",
      "d    3   13\n",
      "e    4   14\n",
      "f    5   15\n",
      "g    6   16\n",
      "h    7   17\n",
      "i    8   18\n",
      "j    9   19\n"
     ]
    }
   ],
   "source": [
    "import numpy as np\n",
    "import matplotlib.pyplot as plt\n",
    "import matplotlib.image as mpimg\n",
    "import os\n",
    "import pandas as pd\n",
    "\n",
    "df=pd.DataFrame({'one':np.arange(0,10),'two':np.arange(10,20)},index=str.split('a b c d e f g h i j',' '))\n",
    "print(df)"
   ]
  },
  {
   "cell_type": "code",
   "execution_count": 79,
   "metadata": {},
   "outputs": [
    {
     "name": "stdout",
     "output_type": "stream",
     "text": [
      "   zero  one  two\n",
      "a    10    0   10\n",
      "b    11    1   11\n",
      "c    12    2   12\n",
      "d    13    3   13\n",
      "e    14    4   14\n",
      "f    15    5   15\n",
      "g    16    6   16\n",
      "h    17    7   17\n",
      "i    18    8   18\n",
      "j    19    9   19\n"
     ]
    }
   ],
   "source": [
    "df.insert(0,'zero',df['two'])\n",
    "print(df)"
   ]
  },
  {
   "cell_type": "code",
   "execution_count": 80,
   "metadata": {},
   "outputs": [],
   "source": [
    "%reset -f"
   ]
  },
  {
   "cell_type": "code",
   "execution_count": null,
   "metadata": {},
   "outputs": [],
   "source": []
  }
 ],
 "metadata": {
  "interpreter": {
   "hash": "916dbcbb3f70747c44a77c7bcd40155683ae19c65e1c03b4aa3499c5328201f1"
  },
  "kernelspec": {
   "display_name": "Python 3 (ipykernel)",
   "language": "python",
   "name": "python3"
  },
  "language_info": {
   "codemirror_mode": {
    "name": "ipython",
    "version": 3
   },
   "file_extension": ".py",
   "mimetype": "text/x-python",
   "name": "python",
   "nbconvert_exporter": "python",
   "pygments_lexer": "ipython3",
   "version": "3.9.15"
  }
 },
 "nbformat": 4,
 "nbformat_minor": 4
}
