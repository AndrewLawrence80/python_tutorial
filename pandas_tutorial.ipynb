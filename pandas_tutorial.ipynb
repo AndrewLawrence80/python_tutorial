{
 "cells": [
  {
   "cell_type": "markdown",
   "metadata": {},
   "source": [
    "# Quick start"
   ]
  },
  {
   "cell_type": "markdown",
   "metadata": {},
   "source": [
    "## Object creation"
   ]
  },
  {
   "cell_type": "code",
   "execution_count": 79,
   "metadata": {},
   "outputs": [
    {
     "name": "stdout",
     "output_type": "stream",
     "text": [
      "0    1\n",
      "1    2\n",
      "2    3\n",
      "3    4\n",
      "4    5\n",
      "5    6\n",
      "6    7\n",
      "dtype: int64\n"
     ]
    }
   ],
   "source": [
    "import numpy as np\n",
    "import matplotlib.pyplot as plt\n",
    "import matplotlib.image as mpimg\n",
    "import os\n",
    "import pandas as pd\n",
    "import datetime\n",
    "\n",
    "s = pd.Series(np.arange(1, 8))\n",
    "print(s)\n",
    "\n",
    "%reset -f\n"
   ]
  },
  {
   "cell_type": "code",
   "execution_count": 80,
   "metadata": {},
   "outputs": [
    {
     "name": "stdout",
     "output_type": "stream",
     "text": [
      "DatetimeIndex(['2021-12-05', '2021-12-06', '2021-12-07', '2021-12-08',\n",
      "               '2021-12-09', '2021-12-10'],\n",
      "              dtype='datetime64[ns]', freq='D')\n",
      "                   A         B         C         D\n",
      "2021-12-05 -1.100902 -0.444721  1.620991  1.316950\n",
      "2021-12-06  0.006642  0.131977 -0.409412  0.746027\n",
      "2021-12-07 -1.025709  0.517090 -0.510525 -1.313389\n",
      "2021-12-08 -1.590090 -1.164114  0.293772  1.117353\n",
      "2021-12-09  0.851994  1.191700  0.359797 -1.550832\n",
      "2021-12-10 -0.236460  1.002328 -0.624277 -0.273023\n"
     ]
    }
   ],
   "source": [
    "import numpy as np\n",
    "import matplotlib.pyplot as plt\n",
    "import matplotlib.image as mpimg\n",
    "import os\n",
    "import pandas as pd\n",
    "\n",
    "dates = pd.date_range(\"20211205\", periods=6)\n",
    "print(dates)\n",
    "df = pd.DataFrame(np.random.randn(6, 4), index=dates,\n",
    "                  columns=np.array(['A', 'B', 'C', 'D']))\n",
    "print(df)\n",
    "%reset -f\n"
   ]
  },
  {
   "cell_type": "code",
   "execution_count": 81,
   "metadata": {},
   "outputs": [
    {
     "name": "stdout",
     "output_type": "stream",
     "text": [
      "     A          B    C  D      E    F\n",
      "0  1.0 2013-01-02  1.0  3   test  foo\n",
      "1  1.0 2013-01-02  1.0  3  train  foo\n",
      "2  1.0 2013-01-02  1.0  3   test  foo\n",
      "3  1.0 2013-01-02  1.0  3  train  foo\n"
     ]
    }
   ],
   "source": [
    "import numpy as np\n",
    "import matplotlib.pyplot as plt\n",
    "import matplotlib.image as mpimg\n",
    "import os\n",
    "import pandas as pd\n",
    "\n",
    "df = pd.DataFrame(\n",
    "    {\n",
    "        \"A\": 1.0,\n",
    "        \"B\": pd.Timestamp(\"20130102\"),\n",
    "        \"C\": pd.Series(1, index=list(range(4)), dtype=\"float32\"),\n",
    "        \"D\": np.array([3] * 4, dtype=\"int32\"),\n",
    "        \"E\": pd.Categorical([\"test\", \"train\", \"test\", \"train\"]),\n",
    "        \"F\": \"foo\",\n",
    "    }\n",
    ")\n",
    "print(df)\n",
    "\n",
    "\n",
    "%reset -f"
   ]
  },
  {
   "cell_type": "markdown",
   "metadata": {},
   "source": [
    "## Viewing data"
   ]
  },
  {
   "cell_type": "code",
   "execution_count": 82,
   "metadata": {},
   "outputs": [
    {
     "name": "stdout",
     "output_type": "stream",
     "text": [
      "          A         B         C         D         E         F         G  \\\n",
      "1 -0.015211  0.253803  0.076796  0.994014  2.103667  0.435165  0.919655   \n",
      "2 -1.075435  0.759423  0.670318 -0.091605  0.377808 -0.956931  0.057055   \n",
      "3  0.058067  1.176897 -0.242778 -0.004728 -1.220397  0.636400 -0.651221   \n",
      "\n",
      "          H         I         J  \n",
      "1  1.313814 -2.212435  0.245005  \n",
      "2  2.075960 -0.192026 -0.185809  \n",
      "3  0.410910  1.659005 -1.316295  \n"
     ]
    }
   ],
   "source": [
    "import numpy as np\n",
    "import matplotlib.pyplot as plt\n",
    "import matplotlib.image as mpimg\n",
    "import os\n",
    "import pandas as pd\n",
    "\n",
    "df=pd.DataFrame(np.random.randn(10,10),index=np.arange(1,11),columns=np.array(['A','B','C','D','E','F','G','H','I','J']))\n",
    "print(df.head(n=3))\n"
   ]
  },
  {
   "cell_type": "code",
   "execution_count": 83,
   "metadata": {},
   "outputs": [
    {
     "name": "stdout",
     "output_type": "stream",
     "text": [
      "           A         B         C         D         E         F        G  \\\n",
      "10  0.773081 -0.484463 -1.542216  1.084211 -0.268871  0.260259 -1.32412   \n",
      "\n",
      "           H         I         J  \n",
      "10 -0.258315  0.702621  0.067547  \n"
     ]
    }
   ],
   "source": [
    "print(df.tail(n=1))"
   ]
  },
  {
   "cell_type": "code",
   "execution_count": 84,
   "metadata": {},
   "outputs": [
    {
     "name": "stdout",
     "output_type": "stream",
     "text": [
      "Int64Index([1, 2, 3, 4, 5, 6, 7, 8, 9, 10], dtype='int64')\n"
     ]
    }
   ],
   "source": [
    "print(df.index)\n"
   ]
  },
  {
   "cell_type": "code",
   "execution_count": 85,
   "metadata": {},
   "outputs": [
    {
     "name": "stdout",
     "output_type": "stream",
     "text": [
      "Index(['A', 'B', 'C', 'D', 'E', 'F', 'G', 'H', 'I', 'J'], dtype='object')\n"
     ]
    }
   ],
   "source": [
    "print(df.columns)"
   ]
  },
  {
   "cell_type": "code",
   "execution_count": 86,
   "metadata": {},
   "outputs": [
    {
     "name": "stdout",
     "output_type": "stream",
     "text": [
      "[[-0.01521139  0.25380343  0.07679607  0.99401425  2.10366665  0.43516528\n",
      "   0.9196547   1.3138139  -2.21243509  0.24500502]\n",
      " [-1.07543483  0.75942312  0.67031776 -0.09160503  0.37780753 -0.95693129\n",
      "   0.0570548   2.07596042 -0.19202612 -0.18580862]\n",
      " [ 0.05806655  1.17689729 -0.24277844 -0.00472797 -1.22039729  0.63639994\n",
      "  -0.65122149  0.41090977  1.65900536 -1.31629453]\n",
      " [-0.31986325  0.94338875  0.11397884 -1.22599639 -0.00793798  1.02717259\n",
      "  -1.436083   -0.27543877 -0.43309923  1.35446444]\n",
      " [-0.20148855 -0.367945    0.84543472  0.40019884  1.39831407  0.69064541\n",
      "   0.99222439  1.06654117 -1.24393506  1.54516134]\n",
      " [ 0.03272507 -0.36764091  0.77493715  2.39886259 -0.1073546  -1.12114445\n",
      "   0.64818566 -0.5713706   0.49793359  0.8394704 ]\n",
      " [ 1.21980175  0.1915819   1.20131002  0.26196946  0.58094246  1.09508857\n",
      "   1.81651493  0.47060858 -1.24453402 -0.60066851]\n",
      " [ 0.46959967 -0.05664556 -0.99944545  1.30836411 -0.61370853 -1.89140411\n",
      "   0.55586429 -0.65683912  0.51004286  0.6267764 ]\n",
      " [ 0.27497913 -2.67878541  1.15633874  0.37728318 -0.70837686 -0.42985773\n",
      "  -1.48059333 -0.68296486  1.70444999  1.35827203]\n",
      " [ 0.77308122 -0.48446288 -1.54221566  1.08421136 -0.26887059  0.26025858\n",
      "  -1.32412037 -0.25831532  0.70262126  0.06754653]]\n"
     ]
    }
   ],
   "source": [
    "print(df.to_numpy())\n"
   ]
  },
  {
   "cell_type": "code",
   "execution_count": 87,
   "metadata": {},
   "outputs": [
    {
     "name": "stdout",
     "output_type": "stream",
     "text": [
      "               A          B          C          D          E          F  \\\n",
      "count  10.000000  10.000000  10.000000  10.000000  10.000000  10.000000   \n",
      "mean    0.121626  -0.063039   0.205467   0.550257   0.153408  -0.025461   \n",
      "std     0.626979   1.085128   0.917597   0.970951   1.004284   1.017720   \n",
      "min    -1.075435  -2.678785  -1.542216  -1.225996  -1.220397  -1.891404   \n",
      "25%    -0.154919  -0.367869  -0.162885   0.061946  -0.527499  -0.825163   \n",
      "50%     0.045396   0.067468   0.392148   0.388741  -0.057646   0.347712   \n",
      "75%     0.420945   0.633018   0.827810   1.061662   0.530159   0.677084   \n",
      "max     1.219802   1.176897   1.201310   2.398863   2.103667   1.095089   \n",
      "\n",
      "               G          H          I          J  \n",
      "count  10.000000  10.000000  10.000000  10.000000  \n",
      "mean    0.009748   0.289291  -0.025198   0.393392  \n",
      "std     1.168727   0.948308   1.285319   0.931518  \n",
      "min    -1.480593  -0.682965  -2.212435  -1.316295  \n",
      "25%    -1.155896  -0.497388  -1.041226  -0.122470  \n",
      "50%     0.306460   0.076297   0.152954   0.435891  \n",
      "75%     0.851787   0.917558   0.654477   1.225716  \n",
      "max     1.816515   2.075960   1.704450   1.545161  \n"
     ]
    }
   ],
   "source": [
    "print(df.describe())"
   ]
  },
  {
   "cell_type": "code",
   "execution_count": 88,
   "metadata": {},
   "outputs": [
    {
     "data": {
      "text/html": [
       "<div>\n",
       "<style scoped>\n",
       "    .dataframe tbody tr th:only-of-type {\n",
       "        vertical-align: middle;\n",
       "    }\n",
       "\n",
       "    .dataframe tbody tr th {\n",
       "        vertical-align: top;\n",
       "    }\n",
       "\n",
       "    .dataframe thead th {\n",
       "        text-align: right;\n",
       "    }\n",
       "</style>\n",
       "<table border=\"1\" class=\"dataframe\">\n",
       "  <thead>\n",
       "    <tr style=\"text-align: right;\">\n",
       "      <th></th>\n",
       "      <th>A</th>\n",
       "      <th>B</th>\n",
       "      <th>C</th>\n",
       "      <th>D</th>\n",
       "      <th>E</th>\n",
       "      <th>F</th>\n",
       "      <th>G</th>\n",
       "      <th>H</th>\n",
       "      <th>I</th>\n",
       "      <th>J</th>\n",
       "    </tr>\n",
       "  </thead>\n",
       "  <tbody>\n",
       "    <tr>\n",
       "      <th>10</th>\n",
       "      <td>0.773081</td>\n",
       "      <td>-0.484463</td>\n",
       "      <td>-1.542216</td>\n",
       "      <td>1.084211</td>\n",
       "      <td>-0.268871</td>\n",
       "      <td>0.260259</td>\n",
       "      <td>-1.324120</td>\n",
       "      <td>-0.258315</td>\n",
       "      <td>0.702621</td>\n",
       "      <td>0.067547</td>\n",
       "    </tr>\n",
       "    <tr>\n",
       "      <th>9</th>\n",
       "      <td>0.274979</td>\n",
       "      <td>-2.678785</td>\n",
       "      <td>1.156339</td>\n",
       "      <td>0.377283</td>\n",
       "      <td>-0.708377</td>\n",
       "      <td>-0.429858</td>\n",
       "      <td>-1.480593</td>\n",
       "      <td>-0.682965</td>\n",
       "      <td>1.704450</td>\n",
       "      <td>1.358272</td>\n",
       "    </tr>\n",
       "    <tr>\n",
       "      <th>8</th>\n",
       "      <td>0.469600</td>\n",
       "      <td>-0.056646</td>\n",
       "      <td>-0.999445</td>\n",
       "      <td>1.308364</td>\n",
       "      <td>-0.613709</td>\n",
       "      <td>-1.891404</td>\n",
       "      <td>0.555864</td>\n",
       "      <td>-0.656839</td>\n",
       "      <td>0.510043</td>\n",
       "      <td>0.626776</td>\n",
       "    </tr>\n",
       "    <tr>\n",
       "      <th>7</th>\n",
       "      <td>1.219802</td>\n",
       "      <td>0.191582</td>\n",
       "      <td>1.201310</td>\n",
       "      <td>0.261969</td>\n",
       "      <td>0.580942</td>\n",
       "      <td>1.095089</td>\n",
       "      <td>1.816515</td>\n",
       "      <td>0.470609</td>\n",
       "      <td>-1.244534</td>\n",
       "      <td>-0.600669</td>\n",
       "    </tr>\n",
       "    <tr>\n",
       "      <th>6</th>\n",
       "      <td>0.032725</td>\n",
       "      <td>-0.367641</td>\n",
       "      <td>0.774937</td>\n",
       "      <td>2.398863</td>\n",
       "      <td>-0.107355</td>\n",
       "      <td>-1.121144</td>\n",
       "      <td>0.648186</td>\n",
       "      <td>-0.571371</td>\n",
       "      <td>0.497934</td>\n",
       "      <td>0.839470</td>\n",
       "    </tr>\n",
       "    <tr>\n",
       "      <th>5</th>\n",
       "      <td>-0.201489</td>\n",
       "      <td>-0.367945</td>\n",
       "      <td>0.845435</td>\n",
       "      <td>0.400199</td>\n",
       "      <td>1.398314</td>\n",
       "      <td>0.690645</td>\n",
       "      <td>0.992224</td>\n",
       "      <td>1.066541</td>\n",
       "      <td>-1.243935</td>\n",
       "      <td>1.545161</td>\n",
       "    </tr>\n",
       "    <tr>\n",
       "      <th>4</th>\n",
       "      <td>-0.319863</td>\n",
       "      <td>0.943389</td>\n",
       "      <td>0.113979</td>\n",
       "      <td>-1.225996</td>\n",
       "      <td>-0.007938</td>\n",
       "      <td>1.027173</td>\n",
       "      <td>-1.436083</td>\n",
       "      <td>-0.275439</td>\n",
       "      <td>-0.433099</td>\n",
       "      <td>1.354464</td>\n",
       "    </tr>\n",
       "    <tr>\n",
       "      <th>3</th>\n",
       "      <td>0.058067</td>\n",
       "      <td>1.176897</td>\n",
       "      <td>-0.242778</td>\n",
       "      <td>-0.004728</td>\n",
       "      <td>-1.220397</td>\n",
       "      <td>0.636400</td>\n",
       "      <td>-0.651221</td>\n",
       "      <td>0.410910</td>\n",
       "      <td>1.659005</td>\n",
       "      <td>-1.316295</td>\n",
       "    </tr>\n",
       "    <tr>\n",
       "      <th>2</th>\n",
       "      <td>-1.075435</td>\n",
       "      <td>0.759423</td>\n",
       "      <td>0.670318</td>\n",
       "      <td>-0.091605</td>\n",
       "      <td>0.377808</td>\n",
       "      <td>-0.956931</td>\n",
       "      <td>0.057055</td>\n",
       "      <td>2.075960</td>\n",
       "      <td>-0.192026</td>\n",
       "      <td>-0.185809</td>\n",
       "    </tr>\n",
       "    <tr>\n",
       "      <th>1</th>\n",
       "      <td>-0.015211</td>\n",
       "      <td>0.253803</td>\n",
       "      <td>0.076796</td>\n",
       "      <td>0.994014</td>\n",
       "      <td>2.103667</td>\n",
       "      <td>0.435165</td>\n",
       "      <td>0.919655</td>\n",
       "      <td>1.313814</td>\n",
       "      <td>-2.212435</td>\n",
       "      <td>0.245005</td>\n",
       "    </tr>\n",
       "  </tbody>\n",
       "</table>\n",
       "</div>"
      ],
      "text/plain": [
       "           A         B         C         D         E         F         G  \\\n",
       "10  0.773081 -0.484463 -1.542216  1.084211 -0.268871  0.260259 -1.324120   \n",
       "9   0.274979 -2.678785  1.156339  0.377283 -0.708377 -0.429858 -1.480593   \n",
       "8   0.469600 -0.056646 -0.999445  1.308364 -0.613709 -1.891404  0.555864   \n",
       "7   1.219802  0.191582  1.201310  0.261969  0.580942  1.095089  1.816515   \n",
       "6   0.032725 -0.367641  0.774937  2.398863 -0.107355 -1.121144  0.648186   \n",
       "5  -0.201489 -0.367945  0.845435  0.400199  1.398314  0.690645  0.992224   \n",
       "4  -0.319863  0.943389  0.113979 -1.225996 -0.007938  1.027173 -1.436083   \n",
       "3   0.058067  1.176897 -0.242778 -0.004728 -1.220397  0.636400 -0.651221   \n",
       "2  -1.075435  0.759423  0.670318 -0.091605  0.377808 -0.956931  0.057055   \n",
       "1  -0.015211  0.253803  0.076796  0.994014  2.103667  0.435165  0.919655   \n",
       "\n",
       "           H         I         J  \n",
       "10 -0.258315  0.702621  0.067547  \n",
       "9  -0.682965  1.704450  1.358272  \n",
       "8  -0.656839  0.510043  0.626776  \n",
       "7   0.470609 -1.244534 -0.600669  \n",
       "6  -0.571371  0.497934  0.839470  \n",
       "5   1.066541 -1.243935  1.545161  \n",
       "4  -0.275439 -0.433099  1.354464  \n",
       "3   0.410910  1.659005 -1.316295  \n",
       "2   2.075960 -0.192026 -0.185809  \n",
       "1   1.313814 -2.212435  0.245005  "
      ]
     },
     "execution_count": 88,
     "metadata": {},
     "output_type": "execute_result"
    }
   ],
   "source": [
    "df.sort_index(axis=0,ascending=False)\n"
   ]
  },
  {
   "cell_type": "code",
   "execution_count": 89,
   "metadata": {},
   "outputs": [
    {
     "data": {
      "text/html": [
       "<div>\n",
       "<style scoped>\n",
       "    .dataframe tbody tr th:only-of-type {\n",
       "        vertical-align: middle;\n",
       "    }\n",
       "\n",
       "    .dataframe tbody tr th {\n",
       "        vertical-align: top;\n",
       "    }\n",
       "\n",
       "    .dataframe thead th {\n",
       "        text-align: right;\n",
       "    }\n",
       "</style>\n",
       "<table border=\"1\" class=\"dataframe\">\n",
       "  <thead>\n",
       "    <tr style=\"text-align: right;\">\n",
       "      <th></th>\n",
       "      <th>A</th>\n",
       "      <th>B</th>\n",
       "      <th>C</th>\n",
       "      <th>D</th>\n",
       "      <th>E</th>\n",
       "      <th>F</th>\n",
       "      <th>G</th>\n",
       "      <th>H</th>\n",
       "      <th>I</th>\n",
       "      <th>J</th>\n",
       "    </tr>\n",
       "  </thead>\n",
       "  <tbody>\n",
       "    <tr>\n",
       "      <th>2</th>\n",
       "      <td>-1.075435</td>\n",
       "      <td>0.759423</td>\n",
       "      <td>0.670318</td>\n",
       "      <td>-0.091605</td>\n",
       "      <td>0.377808</td>\n",
       "      <td>-0.956931</td>\n",
       "      <td>0.057055</td>\n",
       "      <td>2.075960</td>\n",
       "      <td>-0.192026</td>\n",
       "      <td>-0.185809</td>\n",
       "    </tr>\n",
       "    <tr>\n",
       "      <th>4</th>\n",
       "      <td>-0.319863</td>\n",
       "      <td>0.943389</td>\n",
       "      <td>0.113979</td>\n",
       "      <td>-1.225996</td>\n",
       "      <td>-0.007938</td>\n",
       "      <td>1.027173</td>\n",
       "      <td>-1.436083</td>\n",
       "      <td>-0.275439</td>\n",
       "      <td>-0.433099</td>\n",
       "      <td>1.354464</td>\n",
       "    </tr>\n",
       "    <tr>\n",
       "      <th>5</th>\n",
       "      <td>-0.201489</td>\n",
       "      <td>-0.367945</td>\n",
       "      <td>0.845435</td>\n",
       "      <td>0.400199</td>\n",
       "      <td>1.398314</td>\n",
       "      <td>0.690645</td>\n",
       "      <td>0.992224</td>\n",
       "      <td>1.066541</td>\n",
       "      <td>-1.243935</td>\n",
       "      <td>1.545161</td>\n",
       "    </tr>\n",
       "    <tr>\n",
       "      <th>1</th>\n",
       "      <td>-0.015211</td>\n",
       "      <td>0.253803</td>\n",
       "      <td>0.076796</td>\n",
       "      <td>0.994014</td>\n",
       "      <td>2.103667</td>\n",
       "      <td>0.435165</td>\n",
       "      <td>0.919655</td>\n",
       "      <td>1.313814</td>\n",
       "      <td>-2.212435</td>\n",
       "      <td>0.245005</td>\n",
       "    </tr>\n",
       "    <tr>\n",
       "      <th>6</th>\n",
       "      <td>0.032725</td>\n",
       "      <td>-0.367641</td>\n",
       "      <td>0.774937</td>\n",
       "      <td>2.398863</td>\n",
       "      <td>-0.107355</td>\n",
       "      <td>-1.121144</td>\n",
       "      <td>0.648186</td>\n",
       "      <td>-0.571371</td>\n",
       "      <td>0.497934</td>\n",
       "      <td>0.839470</td>\n",
       "    </tr>\n",
       "    <tr>\n",
       "      <th>3</th>\n",
       "      <td>0.058067</td>\n",
       "      <td>1.176897</td>\n",
       "      <td>-0.242778</td>\n",
       "      <td>-0.004728</td>\n",
       "      <td>-1.220397</td>\n",
       "      <td>0.636400</td>\n",
       "      <td>-0.651221</td>\n",
       "      <td>0.410910</td>\n",
       "      <td>1.659005</td>\n",
       "      <td>-1.316295</td>\n",
       "    </tr>\n",
       "    <tr>\n",
       "      <th>9</th>\n",
       "      <td>0.274979</td>\n",
       "      <td>-2.678785</td>\n",
       "      <td>1.156339</td>\n",
       "      <td>0.377283</td>\n",
       "      <td>-0.708377</td>\n",
       "      <td>-0.429858</td>\n",
       "      <td>-1.480593</td>\n",
       "      <td>-0.682965</td>\n",
       "      <td>1.704450</td>\n",
       "      <td>1.358272</td>\n",
       "    </tr>\n",
       "    <tr>\n",
       "      <th>8</th>\n",
       "      <td>0.469600</td>\n",
       "      <td>-0.056646</td>\n",
       "      <td>-0.999445</td>\n",
       "      <td>1.308364</td>\n",
       "      <td>-0.613709</td>\n",
       "      <td>-1.891404</td>\n",
       "      <td>0.555864</td>\n",
       "      <td>-0.656839</td>\n",
       "      <td>0.510043</td>\n",
       "      <td>0.626776</td>\n",
       "    </tr>\n",
       "    <tr>\n",
       "      <th>10</th>\n",
       "      <td>0.773081</td>\n",
       "      <td>-0.484463</td>\n",
       "      <td>-1.542216</td>\n",
       "      <td>1.084211</td>\n",
       "      <td>-0.268871</td>\n",
       "      <td>0.260259</td>\n",
       "      <td>-1.324120</td>\n",
       "      <td>-0.258315</td>\n",
       "      <td>0.702621</td>\n",
       "      <td>0.067547</td>\n",
       "    </tr>\n",
       "    <tr>\n",
       "      <th>7</th>\n",
       "      <td>1.219802</td>\n",
       "      <td>0.191582</td>\n",
       "      <td>1.201310</td>\n",
       "      <td>0.261969</td>\n",
       "      <td>0.580942</td>\n",
       "      <td>1.095089</td>\n",
       "      <td>1.816515</td>\n",
       "      <td>0.470609</td>\n",
       "      <td>-1.244534</td>\n",
       "      <td>-0.600669</td>\n",
       "    </tr>\n",
       "  </tbody>\n",
       "</table>\n",
       "</div>"
      ],
      "text/plain": [
       "           A         B         C         D         E         F         G  \\\n",
       "2  -1.075435  0.759423  0.670318 -0.091605  0.377808 -0.956931  0.057055   \n",
       "4  -0.319863  0.943389  0.113979 -1.225996 -0.007938  1.027173 -1.436083   \n",
       "5  -0.201489 -0.367945  0.845435  0.400199  1.398314  0.690645  0.992224   \n",
       "1  -0.015211  0.253803  0.076796  0.994014  2.103667  0.435165  0.919655   \n",
       "6   0.032725 -0.367641  0.774937  2.398863 -0.107355 -1.121144  0.648186   \n",
       "3   0.058067  1.176897 -0.242778 -0.004728 -1.220397  0.636400 -0.651221   \n",
       "9   0.274979 -2.678785  1.156339  0.377283 -0.708377 -0.429858 -1.480593   \n",
       "8   0.469600 -0.056646 -0.999445  1.308364 -0.613709 -1.891404  0.555864   \n",
       "10  0.773081 -0.484463 -1.542216  1.084211 -0.268871  0.260259 -1.324120   \n",
       "7   1.219802  0.191582  1.201310  0.261969  0.580942  1.095089  1.816515   \n",
       "\n",
       "           H         I         J  \n",
       "2   2.075960 -0.192026 -0.185809  \n",
       "4  -0.275439 -0.433099  1.354464  \n",
       "5   1.066541 -1.243935  1.545161  \n",
       "1   1.313814 -2.212435  0.245005  \n",
       "6  -0.571371  0.497934  0.839470  \n",
       "3   0.410910  1.659005 -1.316295  \n",
       "9  -0.682965  1.704450  1.358272  \n",
       "8  -0.656839  0.510043  0.626776  \n",
       "10 -0.258315  0.702621  0.067547  \n",
       "7   0.470609 -1.244534 -0.600669  "
      ]
     },
     "execution_count": 89,
     "metadata": {},
     "output_type": "execute_result"
    }
   ],
   "source": [
    "df.sort_values(by='A')"
   ]
  },
  {
   "cell_type": "code",
   "execution_count": 90,
   "metadata": {},
   "outputs": [],
   "source": [
    "%reset -f"
   ]
  },
  {
   "cell_type": "markdown",
   "metadata": {},
   "source": [
    "## Indexing and selection"
   ]
  },
  {
   "cell_type": "code",
   "execution_count": 91,
   "metadata": {},
   "outputs": [],
   "source": [
    "import numpy as np\n",
    "import matplotlib.pyplot as plt\n",
    "import matplotlib.image as mpimg\n",
    "import os\n",
    "import pandas as pd\n",
    "\n",
    "df=pd.DataFrame(np.random.randn(10,10),index=np.arange(1,11),columns=np.array(['A','B','C','D','E','F','G','H','I','J']))"
   ]
  },
  {
   "cell_type": "markdown",
   "metadata": {},
   "source": [
    "### Selection by label"
   ]
  },
  {
   "cell_type": "code",
   "execution_count": 92,
   "metadata": {},
   "outputs": [
    {
     "data": {
      "text/html": [
       "<div>\n",
       "<style scoped>\n",
       "    .dataframe tbody tr th:only-of-type {\n",
       "        vertical-align: middle;\n",
       "    }\n",
       "\n",
       "    .dataframe tbody tr th {\n",
       "        vertical-align: top;\n",
       "    }\n",
       "\n",
       "    .dataframe thead th {\n",
       "        text-align: right;\n",
       "    }\n",
       "</style>\n",
       "<table border=\"1\" class=\"dataframe\">\n",
       "  <thead>\n",
       "    <tr style=\"text-align: right;\">\n",
       "      <th></th>\n",
       "      <th>A</th>\n",
       "      <th>B</th>\n",
       "    </tr>\n",
       "  </thead>\n",
       "  <tbody>\n",
       "    <tr>\n",
       "      <th>1</th>\n",
       "      <td>1.443373</td>\n",
       "      <td>1.319946</td>\n",
       "    </tr>\n",
       "    <tr>\n",
       "      <th>2</th>\n",
       "      <td>-1.276519</td>\n",
       "      <td>1.569300</td>\n",
       "    </tr>\n",
       "    <tr>\n",
       "      <th>3</th>\n",
       "      <td>0.688625</td>\n",
       "      <td>-0.605016</td>\n",
       "    </tr>\n",
       "    <tr>\n",
       "      <th>4</th>\n",
       "      <td>1.686182</td>\n",
       "      <td>0.895546</td>\n",
       "    </tr>\n",
       "    <tr>\n",
       "      <th>5</th>\n",
       "      <td>0.600585</td>\n",
       "      <td>-0.427900</td>\n",
       "    </tr>\n",
       "    <tr>\n",
       "      <th>6</th>\n",
       "      <td>-2.470079</td>\n",
       "      <td>0.056822</td>\n",
       "    </tr>\n",
       "    <tr>\n",
       "      <th>7</th>\n",
       "      <td>0.690214</td>\n",
       "      <td>0.193660</td>\n",
       "    </tr>\n",
       "    <tr>\n",
       "      <th>8</th>\n",
       "      <td>-0.463405</td>\n",
       "      <td>0.202318</td>\n",
       "    </tr>\n",
       "    <tr>\n",
       "      <th>9</th>\n",
       "      <td>-0.482328</td>\n",
       "      <td>1.285112</td>\n",
       "    </tr>\n",
       "    <tr>\n",
       "      <th>10</th>\n",
       "      <td>0.000969</td>\n",
       "      <td>-1.771852</td>\n",
       "    </tr>\n",
       "  </tbody>\n",
       "</table>\n",
       "</div>"
      ],
      "text/plain": [
       "           A         B\n",
       "1   1.443373  1.319946\n",
       "2  -1.276519  1.569300\n",
       "3   0.688625 -0.605016\n",
       "4   1.686182  0.895546\n",
       "5   0.600585 -0.427900\n",
       "6  -2.470079  0.056822\n",
       "7   0.690214  0.193660\n",
       "8  -0.463405  0.202318\n",
       "9  -0.482328  1.285112\n",
       "10  0.000969 -1.771852"
      ]
     },
     "execution_count": 92,
     "metadata": {},
     "output_type": "execute_result"
    }
   ],
   "source": [
    "df.loc[:,['A','B']] # 'A','B' are indexes of column"
   ]
  },
  {
   "cell_type": "code",
   "execution_count": 93,
   "metadata": {},
   "outputs": [
    {
     "data": {
      "text/html": [
       "<div>\n",
       "<style scoped>\n",
       "    .dataframe tbody tr th:only-of-type {\n",
       "        vertical-align: middle;\n",
       "    }\n",
       "\n",
       "    .dataframe tbody tr th {\n",
       "        vertical-align: top;\n",
       "    }\n",
       "\n",
       "    .dataframe thead th {\n",
       "        text-align: right;\n",
       "    }\n",
       "</style>\n",
       "<table border=\"1\" class=\"dataframe\">\n",
       "  <thead>\n",
       "    <tr style=\"text-align: right;\">\n",
       "      <th></th>\n",
       "      <th>A</th>\n",
       "      <th>B</th>\n",
       "    </tr>\n",
       "  </thead>\n",
       "  <tbody>\n",
       "    <tr>\n",
       "      <th>1</th>\n",
       "      <td>1.443373</td>\n",
       "      <td>1.319946</td>\n",
       "    </tr>\n",
       "    <tr>\n",
       "      <th>2</th>\n",
       "      <td>-1.276519</td>\n",
       "      <td>1.569300</td>\n",
       "    </tr>\n",
       "  </tbody>\n",
       "</table>\n",
       "</div>"
      ],
      "text/plain": [
       "          A         B\n",
       "1  1.443373  1.319946\n",
       "2 -1.276519  1.569300"
      ]
     },
     "execution_count": 93,
     "metadata": {},
     "output_type": "execute_result"
    }
   ],
   "source": [
    "df.loc[[1,2],['A','B']] # 1,2 are indexes of row and 'A','B' are indexes of column"
   ]
  },
  {
   "cell_type": "markdown",
   "metadata": {},
   "source": [
    "### Selection by position"
   ]
  },
  {
   "cell_type": "code",
   "execution_count": 94,
   "metadata": {},
   "outputs": [
    {
     "data": {
      "text/plain": [
       "A    1.686182\n",
       "B    0.895546\n",
       "C    1.739020\n",
       "D    1.539528\n",
       "E   -1.364361\n",
       "F    2.474688\n",
       "G   -0.890597\n",
       "H   -1.482924\n",
       "I   -0.112572\n",
       "J    0.105008\n",
       "Name: 4, dtype: float64"
      ]
     },
     "execution_count": 94,
     "metadata": {},
     "output_type": "execute_result"
    }
   ],
   "source": [
    "df.iloc[3]"
   ]
  },
  {
   "cell_type": "code",
   "execution_count": 95,
   "metadata": {},
   "outputs": [
    {
     "data": {
      "text/plain": [
       "A    1.686182\n",
       "B    0.895546\n",
       "C    1.739020\n",
       "D    1.539528\n",
       "E   -1.364361\n",
       "F    2.474688\n",
       "G   -0.890597\n",
       "H   -1.482924\n",
       "I   -0.112572\n",
       "J    0.105008\n",
       "Name: 4, dtype: float64"
      ]
     },
     "execution_count": 95,
     "metadata": {},
     "output_type": "execute_result"
    }
   ],
   "source": [
    "df.iloc[3,:]"
   ]
  },
  {
   "cell_type": "code",
   "execution_count": 96,
   "metadata": {},
   "outputs": [
    {
     "data": {
      "text/plain": [
       "1     1.443373\n",
       "2    -1.276519\n",
       "3     0.688625\n",
       "4     1.686182\n",
       "5     0.600585\n",
       "6    -2.470079\n",
       "7     0.690214\n",
       "8    -0.463405\n",
       "9    -0.482328\n",
       "10    0.000969\n",
       "Name: A, dtype: float64"
      ]
     },
     "execution_count": 96,
     "metadata": {},
     "output_type": "execute_result"
    }
   ],
   "source": [
    "df.iloc[:,0]"
   ]
  },
  {
   "cell_type": "code",
   "execution_count": 97,
   "metadata": {},
   "outputs": [
    {
     "data": {
      "text/html": [
       "<div>\n",
       "<style scoped>\n",
       "    .dataframe tbody tr th:only-of-type {\n",
       "        vertical-align: middle;\n",
       "    }\n",
       "\n",
       "    .dataframe tbody tr th {\n",
       "        vertical-align: top;\n",
       "    }\n",
       "\n",
       "    .dataframe thead th {\n",
       "        text-align: right;\n",
       "    }\n",
       "</style>\n",
       "<table border=\"1\" class=\"dataframe\">\n",
       "  <thead>\n",
       "    <tr style=\"text-align: right;\">\n",
       "      <th></th>\n",
       "      <th>B</th>\n",
       "      <th>C</th>\n",
       "      <th>D</th>\n",
       "    </tr>\n",
       "  </thead>\n",
       "  <tbody>\n",
       "    <tr>\n",
       "      <th>1</th>\n",
       "      <td>1.319946</td>\n",
       "      <td>-0.431224</td>\n",
       "      <td>0.539667</td>\n",
       "    </tr>\n",
       "    <tr>\n",
       "      <th>2</th>\n",
       "      <td>1.569300</td>\n",
       "      <td>-1.163998</td>\n",
       "      <td>0.719810</td>\n",
       "    </tr>\n",
       "    <tr>\n",
       "      <th>3</th>\n",
       "      <td>-0.605016</td>\n",
       "      <td>0.749359</td>\n",
       "      <td>1.564229</td>\n",
       "    </tr>\n",
       "  </tbody>\n",
       "</table>\n",
       "</div>"
      ],
      "text/plain": [
       "          B         C         D\n",
       "1  1.319946 -0.431224  0.539667\n",
       "2  1.569300 -1.163998  0.719810\n",
       "3 -0.605016  0.749359  1.564229"
      ]
     },
     "execution_count": 97,
     "metadata": {},
     "output_type": "execute_result"
    }
   ],
   "source": [
    "df.iloc[0:3,1:4]"
   ]
  },
  {
   "cell_type": "markdown",
   "metadata": {},
   "source": [
    "### Selection by bool"
   ]
  },
  {
   "cell_type": "code",
   "execution_count": 98,
   "metadata": {},
   "outputs": [
    {
     "data": {
      "text/html": [
       "<div>\n",
       "<style scoped>\n",
       "    .dataframe tbody tr th:only-of-type {\n",
       "        vertical-align: middle;\n",
       "    }\n",
       "\n",
       "    .dataframe tbody tr th {\n",
       "        vertical-align: top;\n",
       "    }\n",
       "\n",
       "    .dataframe thead th {\n",
       "        text-align: right;\n",
       "    }\n",
       "</style>\n",
       "<table border=\"1\" class=\"dataframe\">\n",
       "  <thead>\n",
       "    <tr style=\"text-align: right;\">\n",
       "      <th></th>\n",
       "      <th>A</th>\n",
       "      <th>B</th>\n",
       "      <th>C</th>\n",
       "      <th>D</th>\n",
       "      <th>E</th>\n",
       "      <th>F</th>\n",
       "      <th>G</th>\n",
       "      <th>H</th>\n",
       "      <th>I</th>\n",
       "      <th>J</th>\n",
       "    </tr>\n",
       "  </thead>\n",
       "  <tbody>\n",
       "    <tr>\n",
       "      <th>1</th>\n",
       "      <td>1.443373</td>\n",
       "      <td>1.319946</td>\n",
       "      <td>-0.431224</td>\n",
       "      <td>0.539667</td>\n",
       "      <td>0.023773</td>\n",
       "      <td>0.625080</td>\n",
       "      <td>-1.251800</td>\n",
       "      <td>0.044179</td>\n",
       "      <td>0.840796</td>\n",
       "      <td>-0.769586</td>\n",
       "    </tr>\n",
       "    <tr>\n",
       "      <th>3</th>\n",
       "      <td>0.688625</td>\n",
       "      <td>-0.605016</td>\n",
       "      <td>0.749359</td>\n",
       "      <td>1.564229</td>\n",
       "      <td>0.223436</td>\n",
       "      <td>-0.745526</td>\n",
       "      <td>-0.398724</td>\n",
       "      <td>0.598906</td>\n",
       "      <td>0.650840</td>\n",
       "      <td>0.621379</td>\n",
       "    </tr>\n",
       "    <tr>\n",
       "      <th>4</th>\n",
       "      <td>1.686182</td>\n",
       "      <td>0.895546</td>\n",
       "      <td>1.739020</td>\n",
       "      <td>1.539528</td>\n",
       "      <td>-1.364361</td>\n",
       "      <td>2.474688</td>\n",
       "      <td>-0.890597</td>\n",
       "      <td>-1.482924</td>\n",
       "      <td>-0.112572</td>\n",
       "      <td>0.105008</td>\n",
       "    </tr>\n",
       "    <tr>\n",
       "      <th>5</th>\n",
       "      <td>0.600585</td>\n",
       "      <td>-0.427900</td>\n",
       "      <td>-0.925584</td>\n",
       "      <td>-0.278593</td>\n",
       "      <td>0.771992</td>\n",
       "      <td>-0.817566</td>\n",
       "      <td>-1.137309</td>\n",
       "      <td>1.157254</td>\n",
       "      <td>-0.240850</td>\n",
       "      <td>0.286940</td>\n",
       "    </tr>\n",
       "    <tr>\n",
       "      <th>7</th>\n",
       "      <td>0.690214</td>\n",
       "      <td>0.193660</td>\n",
       "      <td>-2.803615</td>\n",
       "      <td>1.206535</td>\n",
       "      <td>0.771594</td>\n",
       "      <td>-1.088468</td>\n",
       "      <td>0.418794</td>\n",
       "      <td>-1.985618</td>\n",
       "      <td>-0.275088</td>\n",
       "      <td>2.336439</td>\n",
       "    </tr>\n",
       "    <tr>\n",
       "      <th>10</th>\n",
       "      <td>0.000969</td>\n",
       "      <td>-1.771852</td>\n",
       "      <td>-1.103880</td>\n",
       "      <td>0.535959</td>\n",
       "      <td>-0.450899</td>\n",
       "      <td>0.295694</td>\n",
       "      <td>0.036077</td>\n",
       "      <td>0.012937</td>\n",
       "      <td>-0.561047</td>\n",
       "      <td>1.291611</td>\n",
       "    </tr>\n",
       "  </tbody>\n",
       "</table>\n",
       "</div>"
      ],
      "text/plain": [
       "           A         B         C         D         E         F         G  \\\n",
       "1   1.443373  1.319946 -0.431224  0.539667  0.023773  0.625080 -1.251800   \n",
       "3   0.688625 -0.605016  0.749359  1.564229  0.223436 -0.745526 -0.398724   \n",
       "4   1.686182  0.895546  1.739020  1.539528 -1.364361  2.474688 -0.890597   \n",
       "5   0.600585 -0.427900 -0.925584 -0.278593  0.771992 -0.817566 -1.137309   \n",
       "7   0.690214  0.193660 -2.803615  1.206535  0.771594 -1.088468  0.418794   \n",
       "10  0.000969 -1.771852 -1.103880  0.535959 -0.450899  0.295694  0.036077   \n",
       "\n",
       "           H         I         J  \n",
       "1   0.044179  0.840796 -0.769586  \n",
       "3   0.598906  0.650840  0.621379  \n",
       "4  -1.482924 -0.112572  0.105008  \n",
       "5   1.157254 -0.240850  0.286940  \n",
       "7  -1.985618 -0.275088  2.336439  \n",
       "10  0.012937 -0.561047  1.291611  "
      ]
     },
     "execution_count": 98,
     "metadata": {},
     "output_type": "execute_result"
    }
   ],
   "source": [
    "df[df['A']>0]"
   ]
  },
  {
   "cell_type": "code",
   "execution_count": 99,
   "metadata": {},
   "outputs": [],
   "source": [
    "df['K']=np.arange(0,10)"
   ]
  },
  {
   "cell_type": "code",
   "execution_count": 100,
   "metadata": {},
   "outputs": [
    {
     "name": "stdout",
     "output_type": "stream",
     "text": [
      "           A         B         C         D         E         F         G  \\\n",
      "1   1.443373  1.319946 -0.431224  0.539667  0.023773  0.625080 -1.251800   \n",
      "2  -1.276519  1.569300 -1.163998  0.719810 -0.667033  0.907803 -0.636739   \n",
      "3   0.688625 -0.605016  0.749359  1.564229  0.223436 -0.745526 -0.398724   \n",
      "4   1.686182  0.895546  1.739020  1.539528 -1.364361  2.474688 -0.890597   \n",
      "5   0.600585 -0.427900 -0.925584 -0.278593  0.771992 -0.817566 -1.137309   \n",
      "6  -2.470079  0.056822  1.731529  1.958124 -1.552796 -0.677626  1.192529   \n",
      "7   0.690214  0.193660 -2.803615  1.206535  0.771594 -1.088468  0.418794   \n",
      "8  -0.463405  0.202318 -0.433750  2.499251 -0.938768 -0.845248 -0.482646   \n",
      "9  -0.482328  1.285112 -0.659461  0.502099  0.066249 -0.468277  0.228233   \n",
      "10  0.000969 -1.771852 -1.103880  0.535959 -0.450899  0.295694  0.036077   \n",
      "\n",
      "           H         I         J  K  \n",
      "1   0.044179  0.840796 -0.769586  0  \n",
      "2   1.045854  0.869782 -1.044038  1  \n",
      "3   0.598906  0.650840  0.621379  2  \n",
      "4  -1.482924 -0.112572  0.105008  3  \n",
      "5   1.157254 -0.240850  0.286940  4  \n",
      "6  -0.365379 -0.807133 -1.255760  5  \n",
      "7  -1.985618 -0.275088  2.336439  6  \n",
      "8  -1.477524  0.978285  0.595359  7  \n",
      "9   0.774765 -0.995574  0.458379  8  \n",
      "10  0.012937 -0.561047  1.291611  9  \n"
     ]
    }
   ],
   "source": [
    "print(df)"
   ]
  },
  {
   "cell_type": "code",
   "execution_count": 101,
   "metadata": {},
   "outputs": [
    {
     "data": {
      "text/html": [
       "<div>\n",
       "<style scoped>\n",
       "    .dataframe tbody tr th:only-of-type {\n",
       "        vertical-align: middle;\n",
       "    }\n",
       "\n",
       "    .dataframe tbody tr th {\n",
       "        vertical-align: top;\n",
       "    }\n",
       "\n",
       "    .dataframe thead th {\n",
       "        text-align: right;\n",
       "    }\n",
       "</style>\n",
       "<table border=\"1\" class=\"dataframe\">\n",
       "  <thead>\n",
       "    <tr style=\"text-align: right;\">\n",
       "      <th></th>\n",
       "      <th>A</th>\n",
       "      <th>B</th>\n",
       "      <th>C</th>\n",
       "      <th>D</th>\n",
       "      <th>E</th>\n",
       "      <th>F</th>\n",
       "      <th>G</th>\n",
       "      <th>H</th>\n",
       "      <th>I</th>\n",
       "      <th>J</th>\n",
       "      <th>K</th>\n",
       "    </tr>\n",
       "  </thead>\n",
       "  <tbody>\n",
       "    <tr>\n",
       "      <th>5</th>\n",
       "      <td>0.600585</td>\n",
       "      <td>-0.427900</td>\n",
       "      <td>-0.925584</td>\n",
       "      <td>-0.278593</td>\n",
       "      <td>0.771992</td>\n",
       "      <td>-0.817566</td>\n",
       "      <td>-1.137309</td>\n",
       "      <td>1.157254</td>\n",
       "      <td>-0.240850</td>\n",
       "      <td>0.286940</td>\n",
       "      <td>4</td>\n",
       "    </tr>\n",
       "    <tr>\n",
       "      <th>6</th>\n",
       "      <td>-2.470079</td>\n",
       "      <td>0.056822</td>\n",
       "      <td>1.731529</td>\n",
       "      <td>1.958124</td>\n",
       "      <td>-1.552796</td>\n",
       "      <td>-0.677626</td>\n",
       "      <td>1.192529</td>\n",
       "      <td>-0.365379</td>\n",
       "      <td>-0.807133</td>\n",
       "      <td>-1.255760</td>\n",
       "      <td>5</td>\n",
       "    </tr>\n",
       "    <tr>\n",
       "      <th>7</th>\n",
       "      <td>0.690214</td>\n",
       "      <td>0.193660</td>\n",
       "      <td>-2.803615</td>\n",
       "      <td>1.206535</td>\n",
       "      <td>0.771594</td>\n",
       "      <td>-1.088468</td>\n",
       "      <td>0.418794</td>\n",
       "      <td>-1.985618</td>\n",
       "      <td>-0.275088</td>\n",
       "      <td>2.336439</td>\n",
       "      <td>6</td>\n",
       "    </tr>\n",
       "  </tbody>\n",
       "</table>\n",
       "</div>"
      ],
      "text/plain": [
       "          A         B         C         D         E         F         G  \\\n",
       "5  0.600585 -0.427900 -0.925584 -0.278593  0.771992 -0.817566 -1.137309   \n",
       "6 -2.470079  0.056822  1.731529  1.958124 -1.552796 -0.677626  1.192529   \n",
       "7  0.690214  0.193660 -2.803615  1.206535  0.771594 -1.088468  0.418794   \n",
       "\n",
       "          H         I         J  K  \n",
       "5  1.157254 -0.240850  0.286940  4  \n",
       "6 -0.365379 -0.807133 -1.255760  5  \n",
       "7 -1.985618 -0.275088  2.336439  6  "
      ]
     },
     "execution_count": 101,
     "metadata": {},
     "output_type": "execute_result"
    }
   ],
   "source": [
    "df[df['K'].isin(np.arange(4,7))]"
   ]
  },
  {
   "cell_type": "code",
   "execution_count": 102,
   "metadata": {},
   "outputs": [],
   "source": [
    "%reset -f"
   ]
  },
  {
   "cell_type": "markdown",
   "metadata": {},
   "source": [
    "## Setting values\n"
   ]
  },
  {
   "cell_type": "markdown",
   "metadata": {},
   "source": [
    "### Setting values by label"
   ]
  },
  {
   "cell_type": "code",
   "execution_count": 103,
   "metadata": {},
   "outputs": [
    {
     "name": "stdout",
     "output_type": "stream",
     "text": [
      "         A    B    C    D    E\n",
      "one    1.0  0.0  0.0  0.0  0.0\n",
      "two    0.0  1.0  0.0  0.0  0.0\n",
      "three  0.0  0.0  1.0  0.0  0.0\n",
      "four   0.0  0.0  0.0  1.0  0.0\n",
      "five   0.0  0.0  0.0  0.0  1.0\n"
     ]
    }
   ],
   "source": [
    "import numpy as np\n",
    "import matplotlib.pyplot as plt\n",
    "import matplotlib.image as mpimg\n",
    "import os\n",
    "import pandas as pd\n",
    "\n",
    "df=pd.DataFrame(np.eye(5,5),index=['one','two','three','four','five'],columns=['A','B','C','D','E'])\n",
    "print(df)\n"
   ]
  },
  {
   "cell_type": "code",
   "execution_count": 104,
   "metadata": {},
   "outputs": [
    {
     "name": "stdout",
     "output_type": "stream",
     "text": [
      "         A    B    C    D    E\n",
      "one    0.0  0.0  0.0  0.0  0.0\n",
      "two    2.0  1.0  0.0  0.0  0.0\n",
      "three  0.0  0.0  1.0  0.0  0.0\n",
      "four   0.0  0.0  0.0  1.0  0.0\n",
      "five   0.0  0.0  0.0  0.0  1.0\n"
     ]
    }
   ],
   "source": [
    "df.at['one','A']=0\n",
    "df.loc['two','A']=2\n",
    "print(df)"
   ]
  },
  {
   "cell_type": "markdown",
   "metadata": {},
   "source": [
    "### Setting values by position"
   ]
  },
  {
   "cell_type": "code",
   "execution_count": 105,
   "metadata": {},
   "outputs": [
    {
     "name": "stdout",
     "output_type": "stream",
     "text": [
      "         A    B    C    D    E\n",
      "one    1.0  0.0  0.0  0.0  0.0\n",
      "two    2.0  1.0  0.0  0.0  0.0\n",
      "three  0.0  0.0  1.0  3.0  0.0\n",
      "four   0.0  0.0  0.0  1.0  0.0\n",
      "five   0.0  0.0  0.0  0.0  1.0\n"
     ]
    }
   ],
   "source": [
    "df.iat[0,0]=1\n",
    "df.iloc[2,3]=3\n",
    "print(df)"
   ]
  },
  {
   "cell_type": "code",
   "execution_count": 106,
   "metadata": {},
   "outputs": [
    {
     "name": "stdout",
     "output_type": "stream",
     "text": [
      "         A    B    C    D    E\n",
      "one    1.0  0.0  0.0  0.0  0.0\n",
      "two    2.0  1.0  0.0  0.0  1.0\n",
      "three  0.0  0.0  1.0  3.0  2.0\n",
      "four   0.0  0.0  0.0  1.0  3.0\n",
      "five   0.0  0.0  0.0  0.0  4.0\n"
     ]
    }
   ],
   "source": [
    "df.iloc[:,4]=np.arange(0,5,dtype=np.float64)\n",
    "print(df)"
   ]
  },
  {
   "cell_type": "markdown",
   "metadata": {},
   "source": [
    "### Setting values by bool"
   ]
  },
  {
   "cell_type": "code",
   "execution_count": 107,
   "metadata": {},
   "outputs": [
    {
     "name": "stdout",
     "output_type": "stream",
     "text": [
      "         A    B    C    D    E\n",
      "one    1.0  0.0  0.0  0.0  0.0\n",
      "two    2.0  1.0  0.0  0.0  1.0\n",
      "three  0.0  0.0  1.0  3.0  2.0\n",
      "four   0.0  0.0  0.0  1.0  3.0\n",
      "five  -0.0 -0.0 -0.0 -0.0 -4.0\n"
     ]
    }
   ],
   "source": [
    "df[df['E']>3]=-df\n",
    "print(df)"
   ]
  },
  {
   "cell_type": "code",
   "execution_count": 108,
   "metadata": {},
   "outputs": [],
   "source": [
    "%reset -f"
   ]
  },
  {
   "cell_type": "markdown",
   "metadata": {},
   "source": [
    "## Dealing with missing data"
   ]
  },
  {
   "cell_type": "code",
   "execution_count": 109,
   "metadata": {},
   "outputs": [
    {
     "name": "stdout",
     "output_type": "stream",
     "text": [
      "          0         1         2         3         4         5         6  \\\n",
      "0  0.463580  0.337131  0.781859 -0.230686  0.731992  0.463127  1.974936   \n",
      "1 -0.713346 -0.920513 -0.356105 -0.367754 -0.368113  0.245784 -1.743721   \n",
      "2 -2.295758  0.988549 -0.644502  1.146101  0.786258  0.596035 -0.953915   \n",
      "3  1.778256 -0.754512 -1.012420  0.861592 -0.644265  1.324452 -0.619937   \n",
      "4 -1.128823 -0.871721  0.069591  0.604364 -0.909889  0.253737 -1.160695   \n",
      "5 -1.132752  0.910893 -0.118190  1.728395 -0.086257 -3.287057  0.190701   \n",
      "6 -0.023821  0.394312 -1.275930 -1.887024  0.364789 -0.170456 -0.745145   \n",
      "7  0.651642 -0.780664 -1.340620  0.038974 -1.463347  0.012279 -1.058630   \n",
      "8 -1.092218 -1.516678 -0.757196 -0.970178  0.242898  0.172867  1.421793   \n",
      "9  1.309903 -0.272376  0.023944 -1.026504 -1.474539 -1.209172  1.446202   \n",
      "\n",
      "          7         8         9  \n",
      "0 -1.791406 -0.117457  0.311010  \n",
      "1 -0.357664  0.173194 -1.262415  \n",
      "2 -0.169791  0.492344  0.781921  \n",
      "3  0.261582  0.187706  0.811663  \n",
      "4  1.303168 -0.574977  0.618710  \n",
      "5 -0.274630  0.721676 -1.098822  \n",
      "6 -0.201967  0.248328  1.066441  \n",
      "7  2.320631  1.068814 -1.079681  \n",
      "8  1.231604  0.257059 -0.644290  \n",
      "9 -0.552464  1.602496 -2.496156  \n"
     ]
    }
   ],
   "source": [
    "import numpy as np\n",
    "import matplotlib.pyplot as plt\n",
    "import matplotlib.image as mpimg\n",
    "import os\n",
    "import pandas as pd\n",
    "\n",
    "df=pd.DataFrame(np.random.randn(10,10))\n",
    "print(df)"
   ]
  },
  {
   "cell_type": "code",
   "execution_count": 110,
   "metadata": {},
   "outputs": [
    {
     "name": "stdout",
     "output_type": "stream",
     "text": [
      "          0         1         2         3         4         5         6  \\\n",
      "0       NaN       NaN       NaN       NaN  0.731992       NaN  1.974936   \n",
      "1       NaN       NaN       NaN       NaN -0.368113       NaN -1.743721   \n",
      "2       NaN       NaN       NaN       NaN  0.786258       NaN -0.953915   \n",
      "3       NaN       NaN       NaN       NaN -0.644265       NaN -0.619937   \n",
      "4 -1.128823 -0.871721  0.069591  0.604364 -0.909889  0.253737 -1.160695   \n",
      "5       NaN       NaN       NaN       NaN -0.086257       NaN  0.190701   \n",
      "6 -0.023821  0.394312 -1.275930 -1.887024  0.364789 -0.170456 -0.745145   \n",
      "7       NaN       NaN       NaN       NaN -1.463347       NaN -1.058630   \n",
      "8 -1.092218 -1.516678 -0.757196 -0.970178  0.242898  0.172867  1.421793   \n",
      "9       NaN       NaN       NaN       NaN -1.474539       NaN  1.446202   \n",
      "\n",
      "          7         8         9  \n",
      "0       NaN -0.117457       NaN  \n",
      "1       NaN  0.173194       NaN  \n",
      "2       NaN  0.492344       NaN  \n",
      "3       NaN  0.187706       NaN  \n",
      "4  1.303168 -0.574977  0.618710  \n",
      "5       NaN  0.721676       NaN  \n",
      "6 -0.201967  0.248328  1.066441  \n",
      "7       NaN  1.068814       NaN  \n",
      "8  1.231604  0.257059 -0.644290  \n",
      "9       NaN  1.602496       NaN  \n"
     ]
    }
   ],
   "source": [
    "df.iloc[np.random.randint(0,10,size=10),np.random.randint(0,10,size=10)]=np.nan\n",
    "print(df)"
   ]
  },
  {
   "cell_type": "markdown",
   "metadata": {},
   "source": [
    "### Just drop missing data"
   ]
  },
  {
   "cell_type": "code",
   "execution_count": 111,
   "metadata": {},
   "outputs": [
    {
     "data": {
      "text/html": [
       "<div>\n",
       "<style scoped>\n",
       "    .dataframe tbody tr th:only-of-type {\n",
       "        vertical-align: middle;\n",
       "    }\n",
       "\n",
       "    .dataframe tbody tr th {\n",
       "        vertical-align: top;\n",
       "    }\n",
       "\n",
       "    .dataframe thead th {\n",
       "        text-align: right;\n",
       "    }\n",
       "</style>\n",
       "<table border=\"1\" class=\"dataframe\">\n",
       "  <thead>\n",
       "    <tr style=\"text-align: right;\">\n",
       "      <th></th>\n",
       "      <th>0</th>\n",
       "      <th>1</th>\n",
       "      <th>2</th>\n",
       "      <th>3</th>\n",
       "      <th>4</th>\n",
       "      <th>5</th>\n",
       "      <th>6</th>\n",
       "      <th>7</th>\n",
       "      <th>8</th>\n",
       "      <th>9</th>\n",
       "    </tr>\n",
       "  </thead>\n",
       "  <tbody>\n",
       "    <tr>\n",
       "      <th>4</th>\n",
       "      <td>-1.128823</td>\n",
       "      <td>-0.871721</td>\n",
       "      <td>0.069591</td>\n",
       "      <td>0.604364</td>\n",
       "      <td>-0.909889</td>\n",
       "      <td>0.253737</td>\n",
       "      <td>-1.160695</td>\n",
       "      <td>1.303168</td>\n",
       "      <td>-0.574977</td>\n",
       "      <td>0.618710</td>\n",
       "    </tr>\n",
       "    <tr>\n",
       "      <th>6</th>\n",
       "      <td>-0.023821</td>\n",
       "      <td>0.394312</td>\n",
       "      <td>-1.275930</td>\n",
       "      <td>-1.887024</td>\n",
       "      <td>0.364789</td>\n",
       "      <td>-0.170456</td>\n",
       "      <td>-0.745145</td>\n",
       "      <td>-0.201967</td>\n",
       "      <td>0.248328</td>\n",
       "      <td>1.066441</td>\n",
       "    </tr>\n",
       "    <tr>\n",
       "      <th>8</th>\n",
       "      <td>-1.092218</td>\n",
       "      <td>-1.516678</td>\n",
       "      <td>-0.757196</td>\n",
       "      <td>-0.970178</td>\n",
       "      <td>0.242898</td>\n",
       "      <td>0.172867</td>\n",
       "      <td>1.421793</td>\n",
       "      <td>1.231604</td>\n",
       "      <td>0.257059</td>\n",
       "      <td>-0.644290</td>\n",
       "    </tr>\n",
       "  </tbody>\n",
       "</table>\n",
       "</div>"
      ],
      "text/plain": [
       "          0         1         2         3         4         5         6  \\\n",
       "4 -1.128823 -0.871721  0.069591  0.604364 -0.909889  0.253737 -1.160695   \n",
       "6 -0.023821  0.394312 -1.275930 -1.887024  0.364789 -0.170456 -0.745145   \n",
       "8 -1.092218 -1.516678 -0.757196 -0.970178  0.242898  0.172867  1.421793   \n",
       "\n",
       "          7         8         9  \n",
       "4  1.303168 -0.574977  0.618710  \n",
       "6 -0.201967  0.248328  1.066441  \n",
       "8  1.231604  0.257059 -0.644290  "
      ]
     },
     "execution_count": 111,
     "metadata": {},
     "output_type": "execute_result"
    }
   ],
   "source": [
    "df.dropna(how='any')"
   ]
  },
  {
   "cell_type": "code",
   "execution_count": 112,
   "metadata": {},
   "outputs": [],
   "source": [
    "%reset -f"
   ]
  },
  {
   "cell_type": "markdown",
   "metadata": {},
   "source": [
    "### Fill missing data"
   ]
  },
  {
   "cell_type": "code",
   "execution_count": 113,
   "metadata": {},
   "outputs": [
    {
     "name": "stdout",
     "output_type": "stream",
     "text": [
      "          0         1         2         3         4\n",
      "0 -0.378392 -0.882502 -0.649321 -0.239150  0.064552\n",
      "1 -0.502791 -0.547715  0.741739 -1.141608  1.634072\n",
      "2 -0.222280 -0.327716 -0.239989 -0.548184 -2.297390\n",
      "3 -1.200127  1.227516  0.650633 -0.374638 -0.244793\n"
     ]
    }
   ],
   "source": [
    "import numpy as np\n",
    "import matplotlib.pyplot as plt\n",
    "import matplotlib.image as mpimg\n",
    "import os\n",
    "import pandas as pd\n",
    "\n",
    "df=pd.DataFrame(np.random.randn(4,5))\n",
    "print(df)\n"
   ]
  },
  {
   "cell_type": "code",
   "execution_count": 114,
   "metadata": {},
   "outputs": [
    {
     "name": "stdout",
     "output_type": "stream",
     "text": [
      "          0         1         2         3         4\n",
      "0 -0.378392       NaN       NaN -0.239150       NaN\n",
      "1 -0.502791 -0.547715  0.741739 -1.141608  1.634072\n",
      "2 -0.222280 -0.327716 -0.239989 -0.548184 -2.297390\n",
      "3 -1.200127  1.227516  0.650633 -0.374638 -0.244793\n"
     ]
    }
   ],
   "source": [
    "df.iloc[np.random.randint(0,4,size=2),np.random.randint(0,5,size=3)]=np.nan\n",
    "print(df)"
   ]
  },
  {
   "cell_type": "code",
   "execution_count": 115,
   "metadata": {},
   "outputs": [
    {
     "name": "stdout",
     "output_type": "stream",
     "text": [
      "          0         1         2         3         4\n",
      "0 -0.378392       NaN       NaN -0.239150       NaN\n",
      "1 -0.502791 -0.547715  0.741739 -1.141608  1.634072\n",
      "2 -0.222280 -0.327716 -0.239989 -0.548184 -2.297390\n",
      "3 -1.200127  1.227516  0.650633 -0.374638 -0.244793\n"
     ]
    }
   ],
   "source": [
    "df.fillna(0)\n",
    "print(df)"
   ]
  },
  {
   "cell_type": "code",
   "execution_count": 116,
   "metadata": {},
   "outputs": [],
   "source": [
    "%reset -f"
   ]
  },
  {
   "cell_type": "markdown",
   "metadata": {},
   "source": [
    "## Operations"
   ]
  },
  {
   "cell_type": "markdown",
   "metadata": {},
   "source": [
    "### Arithmetic operation"
   ]
  },
  {
   "cell_type": "code",
   "execution_count": 117,
   "metadata": {},
   "outputs": [
    {
     "name": "stdout",
     "output_type": "stream",
     "text": [
      "     0    1    2    3    4\n",
      "0  253  227  304  875 -533\n",
      "1  389   97  386 -754  389\n",
      "2 -790 -406  168 -807 -730\n",
      "3  402  671   33  188  940\n"
     ]
    }
   ],
   "source": [
    "import numpy as np\n",
    "import matplotlib.pyplot as plt\n",
    "import matplotlib.image as mpimg\n",
    "import os\n",
    "import pandas as pd\n",
    "\n",
    "df=pd.DataFrame(np.random.randint(-1000,1000,size=(4,5)))\n",
    "print(df)"
   ]
  },
  {
   "cell_type": "code",
   "execution_count": 118,
   "metadata": {},
   "outputs": [
    {
     "name": "stdout",
     "output_type": "stream",
     "text": [
      "0     63.50\n",
      "1    147.25\n",
      "2    222.75\n",
      "3   -124.50\n",
      "4     16.50\n",
      "dtype: float64\n"
     ]
    }
   ],
   "source": [
    "print(df.mean(axis=0))"
   ]
  },
  {
   "cell_type": "code",
   "execution_count": 119,
   "metadata": {},
   "outputs": [
    {
     "name": "stdout",
     "output_type": "stream",
     "text": [
      "0    225.2\n",
      "1    101.4\n",
      "2   -513.0\n",
      "3    446.8\n",
      "dtype: float64\n"
     ]
    }
   ],
   "source": [
    "print(df.mean(axis=1))"
   ]
  },
  {
   "cell_type": "code",
   "execution_count": 120,
   "metadata": {},
   "outputs": [
    {
     "name": "stdout",
     "output_type": "stream",
     "text": [
      "     0    1    2    3    4\n",
      "0    0  219 -384  328 -145\n",
      "1  344 -137  -70  610 -630\n",
      "2  916 -645  933 -428 -832\n",
      "3  735 -983  271  678 -432\n"
     ]
    }
   ],
   "source": [
    "df2=pd.DataFrame(np.random.randint(-1000,1000,size=(4,5)))\n",
    "print(df2)"
   ]
  },
  {
   "cell_type": "code",
   "execution_count": 121,
   "metadata": {},
   "outputs": [
    {
     "name": "stdout",
     "output_type": "stream",
     "text": [
      "      0     1    2     3     4\n",
      "0   253     8  688   547  -388\n",
      "1    45   234  456 -1364  1019\n",
      "2 -1706   239 -765  -379   102\n",
      "3  -333  1654 -238  -490  1372\n"
     ]
    }
   ],
   "source": [
    "print(df.sub(df2))"
   ]
  },
  {
   "cell_type": "code",
   "execution_count": 122,
   "metadata": {},
   "outputs": [
    {
     "name": "stdout",
     "output_type": "stream",
     "text": [
      "      0     1     2     3     4\n",
      "0   253   446   -80  1203  -678\n",
      "1   733   -40   316  -144  -241\n",
      "2   126 -1051  1101 -1235 -1562\n",
      "3  1137  -312   304   866   508\n"
     ]
    }
   ],
   "source": [
    "print(df.add(df2))"
   ]
  },
  {
   "cell_type": "code",
   "execution_count": 123,
   "metadata": {},
   "outputs": [
    {
     "name": "stdout",
     "output_type": "stream",
     "text": [
      "        0       1       2       3       4\n",
      "0       0   49713 -116736  287000   77285\n",
      "1  133816  -13289  -27020 -459940 -245070\n",
      "2 -723640  261870  156744  345396  607360\n",
      "3  295470 -659593    8943  127464 -406080\n"
     ]
    }
   ],
   "source": [
    "print(df.multiply(df2))"
   ]
  },
  {
   "cell_type": "code",
   "execution_count": 124,
   "metadata": {},
   "outputs": [
    {
     "name": "stdout",
     "output_type": "stream",
     "text": [
      "          0         1         2         3         4\n",
      "0       inf  1.036530 -0.791667  2.667683  3.675862\n",
      "1  1.130814 -0.708029 -5.514286 -1.236066 -0.617460\n",
      "2 -0.862445  0.629457  0.180064  1.885514  0.877404\n",
      "3  0.546939 -0.682604  0.121771  0.277286 -2.175926\n"
     ]
    }
   ],
   "source": [
    "print(df.divide(df2))"
   ]
  },
  {
   "cell_type": "code",
   "execution_count": 125,
   "metadata": {},
   "outputs": [],
   "source": [
    "%reset -f"
   ]
  },
  {
   "cell_type": "markdown",
   "metadata": {},
   "source": [
    "### Apply funciton"
   ]
  },
  {
   "cell_type": "code",
   "execution_count": 126,
   "metadata": {},
   "outputs": [
    {
     "name": "stdout",
     "output_type": "stream",
     "text": [
      "    0   1   2   3   4\n",
      "0 -83   6  87 -63  78\n",
      "1  22 -62  71  68  73\n",
      "2 -48   4  -6 -11 -61\n",
      "3   4 -49 -47  88  -2\n"
     ]
    }
   ],
   "source": [
    "import numpy as np\n",
    "import matplotlib.pyplot as plt\n",
    "import matplotlib.image as mpimg\n",
    "import os\n",
    "import pandas as pd\n",
    "\n",
    "df=pd.DataFrame(np.random.randint(-100,100,(4,5)))\n",
    "print(df)"
   ]
  },
  {
   "cell_type": "code",
   "execution_count": 127,
   "metadata": {},
   "outputs": [
    {
     "data": {
      "text/plain": [
       "0   -105\n",
       "1   -101\n",
       "2    105\n",
       "3     82\n",
       "4     88\n",
       "dtype: int64"
      ]
     },
     "execution_count": 127,
     "metadata": {},
     "output_type": "execute_result"
    }
   ],
   "source": [
    "df.apply(np.sum)"
   ]
  },
  {
   "cell_type": "code",
   "execution_count": 128,
   "metadata": {},
   "outputs": [
    {
     "data": {
      "text/html": [
       "<div>\n",
       "<style scoped>\n",
       "    .dataframe tbody tr th:only-of-type {\n",
       "        vertical-align: middle;\n",
       "    }\n",
       "\n",
       "    .dataframe tbody tr th {\n",
       "        vertical-align: top;\n",
       "    }\n",
       "\n",
       "    .dataframe thead th {\n",
       "        text-align: right;\n",
       "    }\n",
       "</style>\n",
       "<table border=\"1\" class=\"dataframe\">\n",
       "  <thead>\n",
       "    <tr style=\"text-align: right;\">\n",
       "      <th></th>\n",
       "      <th>0</th>\n",
       "      <th>1</th>\n",
       "      <th>2</th>\n",
       "      <th>3</th>\n",
       "      <th>4</th>\n",
       "    </tr>\n",
       "  </thead>\n",
       "  <tbody>\n",
       "    <tr>\n",
       "      <th>0</th>\n",
       "      <td>-83</td>\n",
       "      <td>6</td>\n",
       "      <td>87</td>\n",
       "      <td>-63</td>\n",
       "      <td>78</td>\n",
       "    </tr>\n",
       "    <tr>\n",
       "      <th>1</th>\n",
       "      <td>-61</td>\n",
       "      <td>-56</td>\n",
       "      <td>158</td>\n",
       "      <td>5</td>\n",
       "      <td>151</td>\n",
       "    </tr>\n",
       "    <tr>\n",
       "      <th>2</th>\n",
       "      <td>-109</td>\n",
       "      <td>-52</td>\n",
       "      <td>152</td>\n",
       "      <td>-6</td>\n",
       "      <td>90</td>\n",
       "    </tr>\n",
       "    <tr>\n",
       "      <th>3</th>\n",
       "      <td>-105</td>\n",
       "      <td>-101</td>\n",
       "      <td>105</td>\n",
       "      <td>82</td>\n",
       "      <td>88</td>\n",
       "    </tr>\n",
       "  </tbody>\n",
       "</table>\n",
       "</div>"
      ],
      "text/plain": [
       "     0    1    2   3    4\n",
       "0  -83    6   87 -63   78\n",
       "1  -61  -56  158   5  151\n",
       "2 -109  -52  152  -6   90\n",
       "3 -105 -101  105  82   88"
      ]
     },
     "execution_count": 128,
     "metadata": {},
     "output_type": "execute_result"
    }
   ],
   "source": [
    "df.apply(np.cumsum,axis=0)"
   ]
  },
  {
   "cell_type": "code",
   "execution_count": 129,
   "metadata": {},
   "outputs": [
    {
     "data": {
      "text/plain": [
       "0    105\n",
       "1     68\n",
       "2    134\n",
       "3    151\n",
       "4    139\n",
       "dtype: int64"
      ]
     },
     "execution_count": 129,
     "metadata": {},
     "output_type": "execute_result"
    }
   ],
   "source": [
    "df.apply(lambda x:x.max()-x.min())"
   ]
  },
  {
   "cell_type": "code",
   "execution_count": 130,
   "metadata": {},
   "outputs": [],
   "source": [
    "%reset -f"
   ]
  },
  {
   "cell_type": "markdown",
   "metadata": {},
   "source": [
    "### Merge"
   ]
  },
  {
   "cell_type": "code",
   "execution_count": 131,
   "metadata": {},
   "outputs": [
    {
     "name": "stdout",
     "output_type": "stream",
     "text": [
      "   0  1  2  3  4\n",
      "0 -9  9  7  2 -8\n",
      "1 -7  4  0 -6 -4\n",
      "2 -1  8 -7 -6  7\n",
      "3  1  9 -7  3 -3\n"
     ]
    }
   ],
   "source": [
    "import numpy as np\n",
    "import matplotlib.pyplot as plt\n",
    "import matplotlib.image as mpimg\n",
    "import os\n",
    "import pandas as pd\n",
    "\n",
    "df1=pd.DataFrame(np.random.randint(-10,10,(4,5)))\n",
    "print(df1)"
   ]
  },
  {
   "cell_type": "code",
   "execution_count": 132,
   "metadata": {},
   "outputs": [
    {
     "name": "stdout",
     "output_type": "stream",
     "text": [
      "   0  1  2  3  4\n",
      "0 -9  7 -2 -8  4\n",
      "1  3 -1  1 -9  4\n"
     ]
    }
   ],
   "source": [
    "df2=pd.DataFrame(np.random.randint(-10,10,(2,5)))\n",
    "print(df2)"
   ]
  },
  {
   "cell_type": "code",
   "execution_count": 133,
   "metadata": {},
   "outputs": [
    {
     "data": {
      "text/html": [
       "<div>\n",
       "<style scoped>\n",
       "    .dataframe tbody tr th:only-of-type {\n",
       "        vertical-align: middle;\n",
       "    }\n",
       "\n",
       "    .dataframe tbody tr th {\n",
       "        vertical-align: top;\n",
       "    }\n",
       "\n",
       "    .dataframe thead th {\n",
       "        text-align: right;\n",
       "    }\n",
       "</style>\n",
       "<table border=\"1\" class=\"dataframe\">\n",
       "  <thead>\n",
       "    <tr style=\"text-align: right;\">\n",
       "      <th></th>\n",
       "      <th>0</th>\n",
       "      <th>1</th>\n",
       "      <th>2</th>\n",
       "      <th>3</th>\n",
       "      <th>4</th>\n",
       "    </tr>\n",
       "  </thead>\n",
       "  <tbody>\n",
       "    <tr>\n",
       "      <th>0</th>\n",
       "      <td>-9</td>\n",
       "      <td>9</td>\n",
       "      <td>7</td>\n",
       "      <td>2</td>\n",
       "      <td>-8</td>\n",
       "    </tr>\n",
       "    <tr>\n",
       "      <th>1</th>\n",
       "      <td>-7</td>\n",
       "      <td>4</td>\n",
       "      <td>0</td>\n",
       "      <td>-6</td>\n",
       "      <td>-4</td>\n",
       "    </tr>\n",
       "    <tr>\n",
       "      <th>2</th>\n",
       "      <td>-1</td>\n",
       "      <td>8</td>\n",
       "      <td>-7</td>\n",
       "      <td>-6</td>\n",
       "      <td>7</td>\n",
       "    </tr>\n",
       "    <tr>\n",
       "      <th>3</th>\n",
       "      <td>1</td>\n",
       "      <td>9</td>\n",
       "      <td>-7</td>\n",
       "      <td>3</td>\n",
       "      <td>-3</td>\n",
       "    </tr>\n",
       "    <tr>\n",
       "      <th>0</th>\n",
       "      <td>-9</td>\n",
       "      <td>7</td>\n",
       "      <td>-2</td>\n",
       "      <td>-8</td>\n",
       "      <td>4</td>\n",
       "    </tr>\n",
       "    <tr>\n",
       "      <th>1</th>\n",
       "      <td>3</td>\n",
       "      <td>-1</td>\n",
       "      <td>1</td>\n",
       "      <td>-9</td>\n",
       "      <td>4</td>\n",
       "    </tr>\n",
       "  </tbody>\n",
       "</table>\n",
       "</div>"
      ],
      "text/plain": [
       "   0  1  2  3  4\n",
       "0 -9  9  7  2 -8\n",
       "1 -7  4  0 -6 -4\n",
       "2 -1  8 -7 -6  7\n",
       "3  1  9 -7  3 -3\n",
       "0 -9  7 -2 -8  4\n",
       "1  3 -1  1 -9  4"
      ]
     },
     "execution_count": 133,
     "metadata": {},
     "output_type": "execute_result"
    }
   ],
   "source": [
    "pd.concat([df1,df2])"
   ]
  },
  {
   "cell_type": "code",
   "execution_count": 134,
   "metadata": {},
   "outputs": [],
   "source": [
    "%reset -f"
   ]
  },
  {
   "cell_type": "markdown",
   "metadata": {},
   "source": [
    "### SQL style operation\n"
   ]
  },
  {
   "cell_type": "code",
   "execution_count": 135,
   "metadata": {},
   "outputs": [
    {
     "name": "stdout",
     "output_type": "stream",
     "text": [
      "   key  lval\n",
      "0  foo     1\n",
      "1  foo     2\n"
     ]
    }
   ],
   "source": [
    "import numpy as np\n",
    "import matplotlib.pyplot as plt\n",
    "import matplotlib.image as mpimg\n",
    "import os\n",
    "import pandas as pd\n",
    "\n",
    "left = pd.DataFrame({\"key\": [\"foo\", \"foo\"], \"lval\": [1, 2]})\n",
    "print(left)"
   ]
  },
  {
   "cell_type": "code",
   "execution_count": 136,
   "metadata": {},
   "outputs": [
    {
     "name": "stdout",
     "output_type": "stream",
     "text": [
      "   key  rval\n",
      "0  foo     4\n",
      "1  bar     5\n"
     ]
    }
   ],
   "source": [
    "right = pd.DataFrame({\"key\": [\"foo\", \"bar\"], \"rval\": [4, 5]})\n",
    "print(right)"
   ]
  },
  {
   "cell_type": "code",
   "execution_count": 137,
   "metadata": {},
   "outputs": [
    {
     "data": {
      "text/html": [
       "<div>\n",
       "<style scoped>\n",
       "    .dataframe tbody tr th:only-of-type {\n",
       "        vertical-align: middle;\n",
       "    }\n",
       "\n",
       "    .dataframe tbody tr th {\n",
       "        vertical-align: top;\n",
       "    }\n",
       "\n",
       "    .dataframe thead th {\n",
       "        text-align: right;\n",
       "    }\n",
       "</style>\n",
       "<table border=\"1\" class=\"dataframe\">\n",
       "  <thead>\n",
       "    <tr style=\"text-align: right;\">\n",
       "      <th></th>\n",
       "      <th>key</th>\n",
       "      <th>lval</th>\n",
       "      <th>rval</th>\n",
       "    </tr>\n",
       "  </thead>\n",
       "  <tbody>\n",
       "    <tr>\n",
       "      <th>0</th>\n",
       "      <td>foo</td>\n",
       "      <td>1</td>\n",
       "      <td>4</td>\n",
       "    </tr>\n",
       "    <tr>\n",
       "      <th>1</th>\n",
       "      <td>foo</td>\n",
       "      <td>2</td>\n",
       "      <td>4</td>\n",
       "    </tr>\n",
       "  </tbody>\n",
       "</table>\n",
       "</div>"
      ],
      "text/plain": [
       "   key  lval  rval\n",
       "0  foo     1     4\n",
       "1  foo     2     4"
      ]
     },
     "execution_count": 137,
     "metadata": {},
     "output_type": "execute_result"
    }
   ],
   "source": [
    "pd.merge(left,right,on='key')"
   ]
  },
  {
   "cell_type": "code",
   "execution_count": 138,
   "metadata": {},
   "outputs": [],
   "source": [
    "%reset -f"
   ]
  },
  {
   "cell_type": "markdown",
   "metadata": {},
   "source": [
    "## Plotting"
   ]
  },
  {
   "cell_type": "code",
   "execution_count": 139,
   "metadata": {},
   "outputs": [
    {
     "data": {
      "text/plain": [
       "<AxesSubplot:>"
      ]
     },
     "execution_count": 139,
     "metadata": {},
     "output_type": "execute_result"
    },
    {
     "data": {
      "image/png": "[encoded data removed]",
      "text/plain": [
       "<Figure size 432x288 with 1 Axes>"
      ]
     },
     "metadata": {
      "needs_background": "light"
     },
     "output_type": "display_data"
    }
   ],
   "source": [
    "import numpy as np\n",
    "import matplotlib.pyplot as plt\n",
    "import matplotlib.image as mpimg\n",
    "import os\n",
    "import pandas as pd\n",
    "\n",
    "df=pd.Series(np.sin(np.linspace(0,2*np.pi)),index=np.linspace(0,2*np.pi))\n",
    "df.plot()"
   ]
  },
  {
   "cell_type": "code",
   "execution_count": 140,
   "metadata": {},
   "outputs": [],
   "source": [
    "%reset -f"
   ]
  },
  {
   "cell_type": "code",
   "execution_count": 141,
   "metadata": {},
   "outputs": [
    {
     "name": "stdout",
     "output_type": "stream",
     "text": [
      "             sin       cos\n",
      "0   0.000000e+00  1.000000\n",
      "1   1.278772e-01  0.991790\n",
      "2   2.536546e-01  0.967295\n",
      "3   3.752670e-01  0.926917\n",
      "4   4.907176e-01  0.871319\n",
      "5   5.981105e-01  0.801414\n",
      "6   6.956826e-01  0.718349\n",
      "7   7.818315e-01  0.623490\n",
      "8   8.551428e-01  0.518393\n",
      "9   9.144126e-01  0.404783\n",
      "10  9.586679e-01  0.284528\n",
      "11  9.871818e-01  0.159600\n",
      "12  9.994862e-01  0.032052\n",
      "13  9.953791e-01 -0.096023\n",
      "14  9.749279e-01 -0.222521\n",
      "15  9.384684e-01 -0.345365\n",
      "16  8.865993e-01 -0.462538\n",
      "17  8.201723e-01 -0.572117\n",
      "18  7.402780e-01 -0.672301\n",
      "19  6.482284e-01 -0.761446\n",
      "20  5.455349e-01 -0.838088\n",
      "21  4.338837e-01 -0.900969\n",
      "22  3.151082e-01 -0.949056\n",
      "23  1.911586e-01 -0.981559\n",
      "24  6.407022e-02 -0.997945\n",
      "25 -6.407022e-02 -0.997945\n",
      "26 -1.911586e-01 -0.981559\n",
      "27 -3.151082e-01 -0.949056\n",
      "28 -4.338837e-01 -0.900969\n",
      "29 -5.455349e-01 -0.838088\n",
      "30 -6.482284e-01 -0.761446\n",
      "31 -7.402780e-01 -0.672301\n",
      "32 -8.201723e-01 -0.572117\n",
      "33 -8.865993e-01 -0.462538\n",
      "34 -9.384684e-01 -0.345365\n",
      "35 -9.749279e-01 -0.222521\n",
      "36 -9.953791e-01 -0.096023\n",
      "37 -9.994862e-01  0.032052\n",
      "38 -9.871818e-01  0.159600\n",
      "39 -9.586679e-01  0.284528\n",
      "40 -9.144126e-01  0.404783\n",
      "41 -8.551428e-01  0.518393\n",
      "42 -7.818315e-01  0.623490\n",
      "43 -6.956826e-01  0.718349\n",
      "44 -5.981105e-01  0.801414\n",
      "45 -4.907176e-01  0.871319\n",
      "46 -3.752670e-01  0.926917\n",
      "47 -2.536546e-01  0.967295\n",
      "48 -1.278772e-01  0.991790\n",
      "49 -2.449294e-16  1.000000\n"
     ]
    }
   ],
   "source": [
    "import numpy as np\n",
    "import matplotlib.pyplot as plt\n",
    "import matplotlib.image as mpimg\n",
    "import os\n",
    "import pandas as pd\n",
    "\n",
    "df=pd.DataFrame({'sin':np.sin(np.linspace(0,2*np.pi)),'cos':np.cos(np.linspace(0,2*np.pi))})\n",
    "print(df)\n"
   ]
  },
  {
   "cell_type": "code",
   "execution_count": 142,
   "metadata": {},
   "outputs": [
    {
     "data": {
      "text/plain": [
       "<AxesSubplot:>"
      ]
     },
     "execution_count": 142,
     "metadata": {},
     "output_type": "execute_result"
    },
    {
     "data": {
      "image/png": "[encoded data removed]",
      "text/plain": [
       "<Figure size 432x288 with 1 Axes>"
      ]
     },
     "metadata": {
      "needs_background": "light"
     },
     "output_type": "display_data"
    }
   ],
   "source": [
    "df.plot()"
   ]
  },
  {
   "cell_type": "markdown",
   "metadata": {},
   "source": [
    "# Data structure"
   ]
  },
  {
   "cell_type": "markdown",
   "metadata": {},
   "source": [
    "## Series"
   ]
  },
  {
   "cell_type": "code",
   "execution_count": 143,
   "metadata": {},
   "outputs": [
    {
     "name": "stdout",
     "output_type": "stream",
     "text": [
      "0    0\n",
      "1    1\n",
      "2    2\n",
      "3    3\n",
      "4    4\n",
      "5    5\n",
      "6    6\n",
      "7    7\n",
      "8    8\n",
      "9    9\n",
      "dtype: int64\n"
     ]
    }
   ],
   "source": [
    "import numpy as np\n",
    "import matplotlib.pyplot as plt\n",
    "import matplotlib.image as mpimg\n",
    "import os\n",
    "import pandas as pd\n",
    "\n",
    "s=pd.Series(np.arange(0,10))\n",
    "print(s)"
   ]
  },
  {
   "cell_type": "code",
   "execution_count": 144,
   "metadata": {},
   "outputs": [
    {
     "data": {
      "text/plain": [
       "1"
      ]
     },
     "execution_count": 144,
     "metadata": {},
     "output_type": "execute_result"
    }
   ],
   "source": [
    "s[1]"
   ]
  },
  {
   "cell_type": "code",
   "execution_count": 145,
   "metadata": {},
   "outputs": [
    {
     "data": {
      "text/plain": [
       "1"
      ]
     },
     "execution_count": 145,
     "metadata": {},
     "output_type": "execute_result"
    }
   ],
   "source": [
    "s.iloc[1]"
   ]
  },
  {
   "cell_type": "code",
   "execution_count": 146,
   "metadata": {},
   "outputs": [
    {
     "data": {
      "text/plain": [
       "1"
      ]
     },
     "execution_count": 146,
     "metadata": {},
     "output_type": "execute_result"
    }
   ],
   "source": [
    "s.loc[1]"
   ]
  },
  {
   "cell_type": "code",
   "execution_count": 147,
   "metadata": {},
   "outputs": [],
   "source": [
    "%reset -f"
   ]
  },
  {
   "cell_type": "code",
   "execution_count": 148,
   "metadata": {},
   "outputs": [
    {
     "name": "stdout",
     "output_type": "stream",
     "text": [
      "a    1\n",
      "b    2\n",
      "c    3\n",
      "dtype: int64\n"
     ]
    }
   ],
   "source": [
    "import numpy as np\n",
    "import matplotlib.pyplot as plt\n",
    "import matplotlib.image as mpimg\n",
    "import os\n",
    "import pandas as pd\n",
    "\n",
    "s=pd.Series({'a':1,'b':2,'c':3})\n",
    "print(s)"
   ]
  },
  {
   "cell_type": "code",
   "execution_count": 149,
   "metadata": {},
   "outputs": [
    {
     "data": {
      "text/plain": [
       "2"
      ]
     },
     "execution_count": 149,
     "metadata": {},
     "output_type": "execute_result"
    }
   ],
   "source": [
    "s.iloc[1]"
   ]
  },
  {
   "cell_type": "code",
   "execution_count": 150,
   "metadata": {},
   "outputs": [
    {
     "data": {
      "text/plain": [
       "2"
      ]
     },
     "execution_count": 150,
     "metadata": {},
     "output_type": "execute_result"
    }
   ],
   "source": [
    "s.loc['b']"
   ]
  },
  {
   "cell_type": "code",
   "execution_count": 151,
   "metadata": {},
   "outputs": [
    {
     "data": {
      "text/plain": [
       "(3,)"
      ]
     },
     "execution_count": 151,
     "metadata": {},
     "output_type": "execute_result"
    }
   ],
   "source": [
    "s.shape"
   ]
  },
  {
   "cell_type": "code",
   "execution_count": 152,
   "metadata": {},
   "outputs": [
    {
     "data": {
      "text/plain": [
       "a    2\n",
       "b    4\n",
       "c    6\n",
       "dtype: int64"
      ]
     },
     "execution_count": 152,
     "metadata": {},
     "output_type": "execute_result"
    }
   ],
   "source": [
    "s+s"
   ]
  },
  {
   "cell_type": "code",
   "execution_count": 153,
   "metadata": {},
   "outputs": [
    {
     "data": {
      "text/plain": [
       "a    2\n",
       "b    4\n",
       "c    6\n",
       "dtype: int64"
      ]
     },
     "execution_count": 153,
     "metadata": {},
     "output_type": "execute_result"
    }
   ],
   "source": [
    "s*2"
   ]
  },
  {
   "cell_type": "code",
   "execution_count": 154,
   "metadata": {},
   "outputs": [
    {
     "data": {
      "text/plain": [
       "a    1\n",
       "b    4\n",
       "c    9\n",
       "dtype: int64"
      ]
     },
     "execution_count": 154,
     "metadata": {},
     "output_type": "execute_result"
    }
   ],
   "source": [
    "s**2"
   ]
  },
  {
   "cell_type": "code",
   "execution_count": 155,
   "metadata": {},
   "outputs": [
    {
     "data": {
      "text/plain": [
       "a     2.718282\n",
       "b     7.389056\n",
       "c    20.085537\n",
       "dtype: float64"
      ]
     },
     "execution_count": 155,
     "metadata": {},
     "output_type": "execute_result"
    }
   ],
   "source": [
    "np.exp(s)"
   ]
  },
  {
   "cell_type": "markdown",
   "metadata": {},
   "source": [
    "## Dataframe"
   ]
  },
  {
   "cell_type": "code",
   "execution_count": 156,
   "metadata": {},
   "outputs": [
    {
     "name": "stdout",
     "output_type": "stream",
     "text": [
      "   one  two\n",
      "a    0   10\n",
      "b    1   11\n",
      "c    2   12\n",
      "d    3   13\n",
      "e    4   14\n",
      "f    5   15\n",
      "g    6   16\n",
      "h    7   17\n",
      "i    8   18\n",
      "j    9   19\n"
     ]
    }
   ],
   "source": [
    "import numpy as np\n",
    "import matplotlib.pyplot as plt\n",
    "import matplotlib.image as mpimg\n",
    "import os\n",
    "import pandas as pd\n",
    "\n",
    "df=pd.DataFrame({'one':np.arange(0,10),'two':np.arange(10,20)},index=str.split('a b c d e f g h i j',' '))\n",
    "print(df)"
   ]
  },
  {
   "cell_type": "code",
   "execution_count": 157,
   "metadata": {},
   "outputs": [
    {
     "name": "stdout",
     "output_type": "stream",
     "text": [
      "   zero  one  two\n",
      "a    10    0   10\n",
      "b    11    1   11\n",
      "c    12    2   12\n",
      "d    13    3   13\n",
      "e    14    4   14\n",
      "f    15    5   15\n",
      "g    16    6   16\n",
      "h    17    7   17\n",
      "i    18    8   18\n",
      "j    19    9   19\n"
     ]
    }
   ],
   "source": [
    "df.insert(0,'zero',df['two'])\n",
    "print(df)"
   ]
  },
  {
   "cell_type": "code",
   "execution_count": 158,
   "metadata": {},
   "outputs": [],
   "source": [
    "%reset -f"
   ]
  },
  {
   "cell_type": "code",
   "execution_count": null,
   "metadata": {},
   "outputs": [],
   "source": []
  }
 ],
 "metadata": {
  "interpreter": {
   "hash": "916dbcbb3f70747c44a77c7bcd40155683ae19c65e1c03b4aa3499c5328201f1"
  },
  "kernelspec": {
   "display_name": "Python 3 (ipykernel)",
   "language": "python",
   "name": "python3"
  },
  "language_info": {
   "codemirror_mode": {
    "name": "ipython",
    "version": 3
   },
   "file_extension": ".py",
   "mimetype": "text/x-python",
   "name": "python",
   "nbconvert_exporter": "python",
   "pygments_lexer": "ipython3",
   "version": "3.9.2"
  }
 },
 "nbformat": 4,
 "nbformat_minor": 4
}
