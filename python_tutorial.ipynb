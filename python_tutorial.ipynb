{
 "cells": [
  {
   "cell_type": "markdown",
   "id": "afbeaf50-8254-45b3-a9cb-1ffa320d88d2",
   "metadata": {},
   "source": [
    "## Hello world"
   ]
  },
  {
   "cell_type": "code",
   "execution_count": 1,
   "id": "d387f0ca-d451-485b-baa3-26d878aeb82d",
   "metadata": {},
   "outputs": [
    {
     "data": {
      "text/plain": [
       "300"
      ]
     },
     "execution_count": 1,
     "metadata": {},
     "output_type": "execute_result"
    }
   ],
   "source": [
    "100+200"
   ]
  },
  {
   "cell_type": "code",
   "execution_count": 2,
   "id": "29d7bd4d-4128-4a4a-b4bb-5f5765bbc2cf",
   "metadata": {},
   "outputs": [
    {
     "name": "stdout",
     "output_type": "stream",
     "text": [
      "hello world\n"
     ]
    }
   ],
   "source": [
    "print(\"hello world\")"
   ]
  },
  {
   "cell_type": "code",
   "execution_count": 3,
   "id": "3f56222b-370c-43f1-a783-1aa4e886cf63",
   "metadata": {},
   "outputs": [],
   "source": [
    "name=input(\"name:\\n\")\n",
    "age=input(\"age:\\n\")"
   ]
  },
  {
   "cell_type": "code",
   "execution_count": 4,
   "id": "25ce12cf-ba18-4619-a9fc-a01a4c3099e8",
   "metadata": {},
   "outputs": [
    {
     "name": "stdout",
     "output_type": "stream",
     "text": [
      "Andrew\n"
     ]
    }
   ],
   "source": [
    "print(name)"
   ]
  },
  {
   "cell_type": "code",
   "execution_count": 5,
   "id": "8000d108-5f37-4b50-b076-0e445320a55b",
   "metadata": {},
   "outputs": [
    {
     "data": {
      "text/plain": [
       "str"
      ]
     },
     "execution_count": 5,
     "metadata": {},
     "output_type": "execute_result"
    }
   ],
   "source": [
    "type(age)"
   ]
  },
  {
   "cell_type": "code",
   "execution_count": 6,
   "id": "2a623b80-2c92-4009-b526-d26c0aa71009",
   "metadata": {},
   "outputs": [
    {
     "data": {
      "text/plain": [
       "36"
      ]
     },
     "execution_count": 6,
     "metadata": {},
     "output_type": "execute_result"
    }
   ],
   "source": [
    "int(age)+18"
   ]
  },
  {
   "cell_type": "code",
   "execution_count": 7,
   "id": "9ba1420d-4da4-461f-b5b7-3154a9e4492e",
   "metadata": {},
   "outputs": [
    {
     "name": "stdout",
     "output_type": "stream",
     "text": [
      "I'm \"OK\"\n"
     ]
    }
   ],
   "source": [
    "print('I\\'m \"OK\"')"
   ]
  },
  {
   "cell_type": "markdown",
   "id": "4b6f934f-f1cc-4819-a7b3-971d443ea6aa",
   "metadata": {},
   "source": [
    "## Data Type"
   ]
  },
  {
   "cell_type": "code",
   "execution_count": 8,
   "id": "4d39af2b-d169-479e-a8a7-4bdc1c7e78be",
   "metadata": {},
   "outputs": [
    {
     "data": {
      "text/plain": [
       "float"
      ]
     },
     "execution_count": 8,
     "metadata": {},
     "output_type": "execute_result"
    }
   ],
   "source": [
    "a=0.1\n",
    "type(a)"
   ]
  },
  {
   "cell_type": "code",
   "execution_count": 11,
   "id": "66eccd00-f24d-4e5f-8b9c-53b82e9b90bc",
   "metadata": {},
   "outputs": [
    {
     "data": {
      "text/plain": [
       "bool"
      ]
     },
     "execution_count": 11,
     "metadata": {},
     "output_type": "execute_result"
    }
   ],
   "source": [
    "a=True\n",
    "type(a)"
   ]
  },
  {
   "cell_type": "markdown",
   "id": "1db21f90",
   "metadata": {},
   "source": [
    "## isinstance (instanceof in Java)"
   ]
  },
  {
   "cell_type": "code",
   "execution_count": 14,
   "id": "003c58b5",
   "metadata": {},
   "outputs": [
    {
     "name": "stdout",
     "output_type": "stream",
     "text": [
      "True\n"
     ]
    }
   ],
   "source": [
    "print(isinstance('xyz',str))"
   ]
  },
  {
   "cell_type": "code",
   "execution_count": 15,
   "id": "6c52dc86",
   "metadata": {},
   "outputs": [
    {
     "name": "stdout",
     "output_type": "stream",
     "text": [
      "False\n"
     ]
    }
   ],
   "source": [
    "print(isinstance(123,float))"
   ]
  },
  {
   "cell_type": "markdown",
   "id": "d5392e25-cb21-4e85-804f-56ddae370a98",
   "metadata": {},
   "source": [
    "## Math Operation"
   ]
  },
  {
   "cell_type": "code",
   "execution_count": 10,
   "id": "f6a844a1-c341-45a9-8b5c-49bb6c244847",
   "metadata": {},
   "outputs": [
    {
     "data": {
      "text/plain": [
       "1.5"
      ]
     },
     "execution_count": 10,
     "metadata": {},
     "output_type": "execute_result"
    }
   ],
   "source": [
    "3/2"
   ]
  },
  {
   "cell_type": "code",
   "execution_count": 11,
   "id": "139d7d2f-d30e-4f2d-8601-c1f060d66cfb",
   "metadata": {},
   "outputs": [
    {
     "data": {
      "text/plain": [
       "1"
      ]
     },
     "execution_count": 11,
     "metadata": {},
     "output_type": "execute_result"
    }
   ],
   "source": [
    "3//2"
   ]
  },
  {
   "cell_type": "markdown",
   "id": "a204950f-293a-49c2-9af1-2398b6f70a70",
   "metadata": {},
   "source": [
    "## Char"
   ]
  },
  {
   "cell_type": "code",
   "execution_count": 12,
   "id": "76c1687c-9c14-469f-b4ba-236d29143fe7",
   "metadata": {},
   "outputs": [
    {
     "data": {
      "text/plain": [
       "65"
      ]
     },
     "execution_count": 12,
     "metadata": {},
     "output_type": "execute_result"
    }
   ],
   "source": [
    "ord('A')"
   ]
  },
  {
   "cell_type": "code",
   "execution_count": 13,
   "id": "89214357-e2a8-4ca4-ba9e-c903e646eb71",
   "metadata": {},
   "outputs": [
    {
     "data": {
      "text/plain": [
       "97"
      ]
     },
     "execution_count": 13,
     "metadata": {},
     "output_type": "execute_result"
    }
   ],
   "source": [
    "ord('a')"
   ]
  },
  {
   "cell_type": "code",
   "execution_count": 14,
   "id": "a5d05cf4-85b5-4b96-b7d6-7fe31f5b38b9",
   "metadata": {},
   "outputs": [
    {
     "data": {
      "text/plain": [
       "'a'"
      ]
     },
     "execution_count": 14,
     "metadata": {},
     "output_type": "execute_result"
    }
   ],
   "source": [
    "chr(97)"
   ]
  },
  {
   "cell_type": "code",
   "execution_count": 15,
   "id": "70be898d-a3df-4c93-b7e5-00e5e2792ec4",
   "metadata": {},
   "outputs": [
    {
     "data": {
      "text/plain": [
       "'文'"
      ]
     },
     "execution_count": 15,
     "metadata": {},
     "output_type": "execute_result"
    }
   ],
   "source": [
    "chr(25991)"
   ]
  },
  {
   "cell_type": "markdown",
   "id": "d4aec1a1-b2c2-4e22-9aea-1def69ef63a6",
   "metadata": {},
   "source": [
    "## String"
   ]
  },
  {
   "cell_type": "code",
   "execution_count": 16,
   "id": "c3b557a8-2270-4fc9-964e-ed3f02f024f4",
   "metadata": {},
   "outputs": [
    {
     "data": {
      "text/plain": [
       "b'ABC'"
      ]
     },
     "execution_count": 16,
     "metadata": {},
     "output_type": "execute_result"
    }
   ],
   "source": [
    "'ABC'.encode('utf-8')"
   ]
  },
  {
   "cell_type": "code",
   "execution_count": 17,
   "id": "91d4cdeb-6c59-4af5-8604-f0260c96cae4",
   "metadata": {},
   "outputs": [
    {
     "data": {
      "text/plain": [
       "3"
      ]
     },
     "execution_count": 17,
     "metadata": {},
     "output_type": "execute_result"
    }
   ],
   "source": [
    "len('ABC')"
   ]
  },
  {
   "cell_type": "code",
   "execution_count": 18,
   "id": "20e542fe-d8a3-40f8-8889-6fe9c8126aa1",
   "metadata": {},
   "outputs": [
    {
     "data": {
      "text/plain": [
       "b'\\xe4\\xbd\\xa0\\xe5\\xa5\\xbd'"
      ]
     },
     "execution_count": 18,
     "metadata": {},
     "output_type": "execute_result"
    }
   ],
   "source": [
    "'你好'.encode('utf-8')"
   ]
  },
  {
   "cell_type": "code",
   "execution_count": 19,
   "id": "e60a30c4-464d-400e-b159-ee2b45169d7b",
   "metadata": {},
   "outputs": [
    {
     "name": "stdout",
     "output_type": "stream",
     "text": [
      "area is 28.27\n"
     ]
    }
   ],
   "source": [
    "r=float(input('radius'))\n",
    "s=3.1415927*r*r\n",
    "print('area is %.2f' % s)"
   ]
  },
  {
   "cell_type": "code",
   "execution_count": 20,
   "id": "8bfdabe8-5547-41d8-a324-e277103feb27",
   "metadata": {},
   "outputs": [
    {
     "name": "stdout",
     "output_type": "stream",
     "text": [
      "True\n"
     ]
    }
   ],
   "source": [
    "print(bool('abcd'<'bacd'))"
   ]
  },
  {
   "cell_type": "markdown",
   "id": "ee1925a9-5fb1-47a8-ad3c-52b5347abb42",
   "metadata": {},
   "source": [
    "## List <font color=red> (Changable) </font>"
   ]
  },
  {
   "cell_type": "code",
   "execution_count": 5,
   "id": "19060c0c-8e19-4f9d-9b4a-9e0fb25df5e0",
   "metadata": {},
   "outputs": [
    {
     "name": "stdout",
     "output_type": "stream",
     "text": [
      "[['C', 'C++'], 'Java', 'Python']\n"
     ]
    },
    {
     "data": {
      "text/plain": [
       "3"
      ]
     },
     "execution_count": 5,
     "metadata": {},
     "output_type": "execute_result"
    }
   ],
   "source": [
    "language=[['C','C++'],'Java','Python']\n",
    "print(language)\n",
    "len(language)"
   ]
  },
  {
   "cell_type": "markdown",
   "id": "517b5a5d",
   "metadata": {},
   "source": [
    "### Generate list"
   ]
  },
  {
   "cell_type": "code",
   "execution_count": 8,
   "id": "5d677271",
   "metadata": {},
   "outputs": [
    {
     "name": "stdout",
     "output_type": "stream",
     "text": [
      "[1, 3, 5, 7, 9, 11, 13, 15, 17, 19, 21, 23, 25, 27, 29, 31, 33, 35, 37, 39, 41, 43, 45, 47, 49, 51, 53, 55, 57, 59, 61, 63, 65, 67, 69, 71, 73, 75, 77, 79, 81, 83, 85, 87, 89, 91, 93, 95, 97, 99]\n"
     ]
    }
   ],
   "source": [
    "odd=[n for n in range(1,100,2)]\n",
    "print(odd)"
   ]
  },
  {
   "cell_type": "code",
   "execution_count": 10,
   "id": "eace21d6",
   "metadata": {},
   "outputs": [
    {
     "name": "stdout",
     "output_type": "stream",
     "text": [
      "[-1, 2, -3, 4, -5, 6, -7, 8, -9, 10, -11, 12, -13, 14, -15, 16, -17, 18, -19, 20, -21, 22, -23, 24, -25, 26, -27, 28, -29, 30, -31, 32, -33, 34, -35, 36, -37, 38, -39, 40, -41, 42, -43, 44, -45, 46, -47, 48, -49, 50, -51, 52, -53, 54, -55, 56, -57, 58, -59, 60, -61, 62, -63, 64, -65, 66, -67, 68, -69, 70, -71, 72, -73, 74, -75, 76, -77, 78, -79, 80, -81, 82, -83, 84, -85, 86, -87, 88, -89, 90, -91, 92, -93, 94, -95, 96, -97, 98, -99]\n"
     ]
    }
   ],
   "source": [
    "l=[n if n%2==0 else -n for n in range(1,100)]\n",
    "print(l)"
   ]
  },
  {
   "cell_type": "markdown",
   "id": "592ed9b4-6064-4dea-ace2-981f531ae5f5",
   "metadata": {},
   "source": [
    "### Slice"
   ]
  },
  {
   "cell_type": "code",
   "execution_count": 22,
   "id": "2b1fae50-0a7e-4279-aa71-28d1d46cda95",
   "metadata": {},
   "outputs": [
    {
     "name": "stdout",
     "output_type": "stream",
     "text": [
      "['Java', 'Python']\n"
     ]
    }
   ],
   "source": [
    "print(language[-2:])"
   ]
  },
  {
   "cell_type": "markdown",
   "id": "5be05146-4250-4c70-9c37-b57e0735f1ff",
   "metadata": {},
   "source": [
    "## Tuple <font color=red>(Unchangable) </font>"
   ]
  },
  {
   "cell_type": "code",
   "execution_count": 23,
   "id": "633bcfc1-5a02-4f4b-9da0-bafbd4d9403b",
   "metadata": {},
   "outputs": [],
   "source": [
    "t=(1,2,3)\n",
    "## t[0]=0 error"
   ]
  },
  {
   "cell_type": "code",
   "execution_count": 24,
   "id": "dce542f1-06ad-4b43-a65f-599544df9278",
   "metadata": {},
   "outputs": [
    {
     "name": "stdout",
     "output_type": "stream",
     "text": [
      "(1, [0, 3])\n"
     ]
    }
   ],
   "source": [
    "t=(1,[2,3])\n",
    "t[1][0]=0\n",
    "print(t)"
   ]
  },
  {
   "cell_type": "markdown",
   "id": "520de250-20af-445d-8fb3-29b591fde166",
   "metadata": {},
   "source": [
    "## If statement"
   ]
  },
  {
   "cell_type": "code",
   "execution_count": 33,
   "id": "850810f8-c275-4bfd-8322-63f7bbf00df5",
   "metadata": {},
   "outputs": [
    {
     "name": "stdout",
     "output_type": "stream",
     "text": [
      "You're a teenager\n"
     ]
    }
   ],
   "source": [
    "age = float(input('age'))\n",
    "if age < 18:\n",
    "    print('You\\'re a teenager')\n",
    "elif age < 40:\n",
    "    print('You\\'re an adult')\n",
    "else:\n",
    "    print('You\\'re an old man')\n"
   ]
  },
  {
   "cell_type": "markdown",
   "id": "42d63ccc",
   "metadata": {},
   "source": [
    "## For statement"
   ]
  },
  {
   "cell_type": "code",
   "execution_count": 32,
   "id": "18e7fe88-57a9-48ea-8b3c-2fdfbf912aef",
   "metadata": {},
   "outputs": [
    {
     "name": "stdout",
     "output_type": "stream",
     "text": [
      "C\n",
      "C++\n",
      "Java\n",
      "Python\n"
     ]
    }
   ],
   "source": [
    "language = ['C', 'C++', 'Java', 'Python']\n",
    "for l in language:\n",
    "    print(l)\n"
   ]
  },
  {
   "cell_type": "code",
   "execution_count": 29,
   "id": "8d69f84b-e31c-4220-8b76-e753fc3be999",
   "metadata": {},
   "outputs": [
    {
     "name": "stdout",
     "output_type": "stream",
     "text": [
      "2500\n"
     ]
    }
   ],
   "source": [
    "sum = 0\n",
    "for i in range(1, 100, 2):\n",
    "    sum = sum+i\n",
    "print(sum)\n"
   ]
  },
  {
   "cell_type": "markdown",
   "id": "9f956b28-4555-466f-9d80-ab7482e5b637",
   "metadata": {},
   "source": [
    "## While statement"
   ]
  },
  {
   "cell_type": "code",
   "execution_count": 35,
   "id": "45be1219",
   "metadata": {},
   "outputs": [],
   "source": [
    "sum = 0\n",
    "i = 1\n",
    "while (i < 100):\n",
    "    sum = sum+i\n",
    "    i = i+1\n",
    "    if i % 2 == 0:\n",
    "        continue\n",
    "print(sum)\n"
   ]
  },
  {
   "cell_type": "markdown",
   "id": "8d3df994",
   "metadata": {},
   "source": [
    "## Dictionary"
   ]
  },
  {
   "cell_type": "code",
   "execution_count": 38,
   "id": "97ee460a",
   "metadata": {},
   "outputs": [
    {
     "name": "stdout",
     "output_type": "stream",
     "text": [
      "False\n"
     ]
    },
    {
     "data": {
      "text/plain": [
       "-1"
      ]
     },
     "execution_count": 38,
     "metadata": {},
     "output_type": "execute_result"
    }
   ],
   "source": [
    "score={'Andrew':99}\n",
    "score['Bob']=98\n",
    "print(str('C' in score))\n",
    "score.get('C',-1)"
   ]
  },
  {
   "cell_type": "markdown",
   "id": "027f7b92",
   "metadata": {},
   "source": [
    "## Set"
   ]
  },
  {
   "cell_type": "code",
   "execution_count": 42,
   "id": "3fdcab16",
   "metadata": {},
   "outputs": [
    {
     "data": {
      "text/plain": [
       "{1, 2, 3}"
      ]
     },
     "execution_count": 42,
     "metadata": {},
     "output_type": "execute_result"
    }
   ],
   "source": [
    "s1=set([1,1,2,2,3,3])\n",
    "s1\n"
   ]
  },
  {
   "cell_type": "code",
   "execution_count": 43,
   "id": "16626e59",
   "metadata": {},
   "outputs": [
    {
     "data": {
      "text/plain": [
       "{2, 3, 4}"
      ]
     },
     "execution_count": 43,
     "metadata": {},
     "output_type": "execute_result"
    }
   ],
   "source": [
    "s2=set([2,2,3,3,4,4])\n",
    "s2\n"
   ]
  },
  {
   "cell_type": "code",
   "execution_count": 44,
   "id": "0633a175",
   "metadata": {},
   "outputs": [
    {
     "data": {
      "text/plain": [
       "{1, 2, 3, 4}"
      ]
     },
     "execution_count": 44,
     "metadata": {},
     "output_type": "execute_result"
    }
   ],
   "source": [
    "s1|s2"
   ]
  },
  {
   "cell_type": "code",
   "execution_count": 45,
   "id": "55c965f4",
   "metadata": {},
   "outputs": [
    {
     "data": {
      "text/plain": [
       "{2, 3}"
      ]
     },
     "execution_count": 45,
     "metadata": {},
     "output_type": "execute_result"
    }
   ],
   "source": [
    "s1&s2"
   ]
  },
  {
   "cell_type": "code",
   "execution_count": 47,
   "id": "084a5d86",
   "metadata": {},
   "outputs": [
    {
     "data": {
      "text/plain": [
       "{1}"
      ]
     },
     "execution_count": 47,
     "metadata": {},
     "output_type": "execute_result"
    }
   ],
   "source": [
    "s1.difference(s2)"
   ]
  },
  {
   "cell_type": "markdown",
   "id": "8b2719db",
   "metadata": {},
   "source": [
    "## Multi return value"
   ]
  },
  {
   "cell_type": "code",
   "execution_count": 3,
   "id": "214ce152",
   "metadata": {},
   "outputs": [
    {
     "data": {
      "image/png": "[encoded data removed]",
      "text/plain": [
       "<Figure size 432x288 with 1 Axes>"
      ]
     },
     "metadata": {
      "needs_background": "light"
     },
     "output_type": "display_data"
    }
   ],
   "source": [
    "import numpy as np\n",
    "import matplotlib.pyplot as plt\n",
    "def circle(radius,theta):\n",
    "    return radius*np.cos(theta),radius*np.sin(theta) # the return will be a tuple contains (x,y)\n",
    "\n",
    "x,y=circle(2,np.linspace(0,2*np.pi,10000))\n",
    "plt.plot(x,y)\n",
    "plt.xlabel('x')\n",
    "plt.ylabel('y')\n",
    "plt.show()"
   ]
  },
  {
   "cell_type": "markdown",
   "id": "8eac8016",
   "metadata": {},
   "source": [
    "## Variable parameters <font color=red>(zip into a tuple)</font>"
   ]
  },
  {
   "cell_type": "code",
   "execution_count": 5,
   "id": "01337960",
   "metadata": {},
   "outputs": [
    {
     "name": "stdout",
     "output_type": "stream",
     "text": [
      "84\n"
     ]
    }
   ],
   "source": [
    "def sum_sq(*numbers):\n",
    "    sum=0\n",
    "    for i in numbers:\n",
    "        sum=sum+pow(i,2)\n",
    "    return sum\n",
    "\n",
    "print(str(sum_sq(1,3,5,7)))"
   ]
  },
  {
   "cell_type": "markdown",
   "id": "7b168641",
   "metadata": {},
   "source": [
    "## Key parameters <font color=red>(zip into a dictionary)</font>"
   ]
  },
  {
   "cell_type": "code",
   "execution_count": 1,
   "id": "3d1060e9",
   "metadata": {},
   "outputs": [
    {
     "name": "stdout",
     "output_type": "stream",
     "text": [
      "name andrew age 18 other {'gender': 'male', 'score': 100}\n"
     ]
    }
   ],
   "source": [
    "def show_person(name,age,**kv):\n",
    "    print('name',name,'age',age,'other',kv)\n",
    "\n",
    "show_person('andrew',18,gender='male',score=100)"
   ]
  },
  {
   "cell_type": "markdown",
   "id": "b75c0d23",
   "metadata": {},
   "source": [
    "## Specify name for key parameters"
   ]
  },
  {
   "cell_type": "code",
   "execution_count": 16,
   "id": "ef51f0a3",
   "metadata": {},
   "outputs": [
    {
     "name": "stdout",
     "output_type": "stream",
     "text": [
      "name Andrew age 20 other male 100\n"
     ]
    }
   ],
   "source": [
    "def show_person(name,age,*,gender,score):\n",
    "    print('name',name,'age',age,'other',gender,score)\n",
    "    \n",
    "show_person('Andrew',20,gender='male',score=100)"
   ]
  },
  {
   "cell_type": "markdown",
   "id": "61d14c0e",
   "metadata": {},
   "source": [
    "## Generator"
   ]
  },
  {
   "cell_type": "code",
   "execution_count": 20,
   "id": "1664c504",
   "metadata": {},
   "outputs": [
    {
     "name": "stdout",
     "output_type": "stream",
     "text": [
      "1\n",
      "2\n",
      "3\n",
      "4\n",
      "5\n",
      "6\n",
      "7\n",
      "8\n",
      "9\n"
     ]
    },
    {
     "data": {
      "text/plain": [
       "generator"
      ]
     },
     "execution_count": 20,
     "metadata": {},
     "output_type": "execute_result"
    }
   ],
   "source": [
    "g=(n for n in range(1,10000))\n",
    "for i in range(1,10):\n",
    "    print(next(g))\n",
    "\n",
    "type(g)"
   ]
  },
  {
   "cell_type": "code",
   "execution_count": 24,
   "id": "83e0677d",
   "metadata": {},
   "outputs": [
    {
     "name": "stdout",
     "output_type": "stream",
     "text": [
      "1\n",
      "1\n",
      "2\n",
      "3\n",
      "5\n",
      "8\n",
      "13\n",
      "21\n",
      "34\n",
      "55\n"
     ]
    }
   ],
   "source": [
    "def fib(max):\n",
    "    n,a,b=0,0,1\n",
    "    while n<max:\n",
    "        yield b\n",
    "        a,b=b,a+b\n",
    "        n=n+1\n",
    "f=fib(100)\n",
    "for i in range(0,10):\n",
    "    print(next(f))"
   ]
  },
  {
   "cell_type": "markdown",
   "id": "9a51deb7",
   "metadata": {},
   "source": [
    "## Iterator and iterable"
   ]
  },
  {
   "cell_type": "code",
   "execution_count": 37,
   "id": "a8c04bd3",
   "metadata": {},
   "outputs": [
    {
     "data": {
      "text/plain": [
       "True"
      ]
     },
     "execution_count": 37,
     "metadata": {},
     "output_type": "execute_result"
    }
   ],
   "source": [
    "from collections.abc import Iterable\n",
    "isinstance([],Iterable)"
   ]
  },
  {
   "cell_type": "code",
   "execution_count": 38,
   "id": "f7b25b52",
   "metadata": {},
   "outputs": [
    {
     "name": "stdout",
     "output_type": "stream",
     "text": [
      "1\n",
      "2\n",
      "3\n"
     ]
    }
   ],
   "source": [
    "it=iter([1,2,3])\n",
    "while True:\n",
    "    try:\n",
    "        print(next(it))\n",
    "    except StopIteration:\n",
    "        break"
   ]
  },
  {
   "cell_type": "markdown",
   "id": "0bcccab2",
   "metadata": {},
   "source": [
    "## Funtion reference"
   ]
  },
  {
   "cell_type": "code",
   "execution_count": 41,
   "id": "b46cb99f",
   "metadata": {},
   "outputs": [
    {
     "name": "stdout",
     "output_type": "stream",
     "text": [
      "16\n"
     ]
    }
   ],
   "source": [
    "def sum_f(f,*args):\n",
    "    sum=0\n",
    "    for n in args:\n",
    "        sum=sum+f(n)\n",
    "    return sum\n",
    "\n",
    "print(sum_f(abs,1,3,5,7))"
   ]
  },
  {
   "cell_type": "code",
   "execution_count": 42,
   "id": "cb248d5b",
   "metadata": {},
   "outputs": [
    {
     "data": {
      "text/plain": [
       "builtin_function_or_method"
      ]
     },
     "execution_count": 42,
     "metadata": {},
     "output_type": "execute_result"
    }
   ],
   "source": [
    "type(abs)"
   ]
  },
  {
   "cell_type": "markdown",
   "id": "1394d270",
   "metadata": {},
   "source": [
    "## Map-Reduce"
   ]
  },
  {
   "cell_type": "code",
   "execution_count": 44,
   "id": "d992676b",
   "metadata": {},
   "outputs": [
    {
     "name": "stdout",
     "output_type": "stream",
     "text": [
      "['Adam', 'Lisa', 'Bart']\n"
     ]
    }
   ],
   "source": [
    "def normalize(name):\n",
    "    return name.lower().title()\n",
    "L1 = ['adam', 'LISA', 'barT']\n",
    "L2 = list(map(normalize, L1))\n",
    "print(L2)"
   ]
  },
  {
   "cell_type": "code",
   "execution_count": 49,
   "id": "6bc5df34",
   "metadata": {},
   "outputs": [
    {
     "name": "stdout",
     "output_type": "stream",
     "text": [
      "13579\n"
     ]
    }
   ],
   "source": [
    "from functools import reduce\n",
    "def fn(x,y):\n",
    "    return x*10+y\n",
    "def char2num(s):\n",
    "    digits = {'0': 0, '1': 1, '2': 2, '3': 3, '4': 4, '5': 5, '6': 6, '7': 7, '8': 8, '9': 9}\n",
    "    return digits[s]\n",
    "\n",
    "print(reduce(fn,map(char2num,'13579')))"
   ]
  },
  {
   "cell_type": "markdown",
   "id": "05044f45",
   "metadata": {},
   "source": [
    "## Filter"
   ]
  },
  {
   "cell_type": "code",
   "execution_count": 51,
   "id": "b1a12eb5",
   "metadata": {},
   "outputs": [
    {
     "name": "stdout",
     "output_type": "stream",
     "text": [
      "[1, 3, 5, 7, 9]\n"
     ]
    }
   ],
   "source": [
    "def is_odd(n):\n",
    "    return n%2==1\n",
    "    \n",
    "print(list(filter(is_odd,[n for n in range(0,10)])))"
   ]
  },
  {
   "cell_type": "markdown",
   "id": "bfc64e0c",
   "metadata": {},
   "source": [
    "## Sorted"
   ]
  },
  {
   "cell_type": "code",
   "execution_count": 61,
   "id": "b98a96fa",
   "metadata": {},
   "outputs": [
    {
     "name": "stdout",
     "output_type": "stream",
     "text": [
      "[5, 49, 47, -23, -10, -37, -27, 45, -14]\n",
      "[49, 47, 45, -37, -27, -23, -14, -10, 5]\n"
     ]
    }
   ],
   "source": [
    "from random import randint\n",
    "l=[randint(-50,50) for i in range(1,10)]\n",
    "print(l)\n",
    "print(sorted(l,key=abs,reverse=True))"
   ]
  },
  {
   "cell_type": "markdown",
   "id": "6b179950",
   "metadata": {},
   "source": [
    "## Anomyous function"
   ]
  },
  {
   "cell_type": "code",
   "execution_count": 65,
   "id": "361e6252",
   "metadata": {},
   "outputs": [
    {
     "name": "stdout",
     "output_type": "stream",
     "text": [
      "[1, 4, 9, 16]\n"
     ]
    }
   ],
   "source": [
    "print(list(map(lambda x:x*x,[1,2,3,4])))\n"
   ]
  },
  {
   "cell_type": "markdown",
   "id": "37987751",
   "metadata": {},
   "source": [
    "## Private access\n",
    "variable name like '__xx' or '_x' is private in a module"
   ]
  },
  {
   "cell_type": "markdown",
   "id": "ff757ce3",
   "metadata": {},
   "source": [
    "## OOP"
   ]
  },
  {
   "cell_type": "code",
   "execution_count": 66,
   "id": "a784f248",
   "metadata": {},
   "outputs": [
    {
     "name": "stdout",
     "output_type": "stream",
     "text": [
      "name Andrew 100\n"
     ]
    }
   ],
   "source": [
    "class Student(object):\n",
    "    def __init__(self,name,score) -> None:\n",
    "        super().__init__()\n",
    "        self.__name=name\n",
    "        self.__score=score\n",
    "    def get_name(self):\n",
    "        return self.__name\n",
    "    def get_score(self):\n",
    "        return self.__score\n",
    "\n",
    "stu=Student('Andrew',100)\n",
    "print('name',stu.get_name(),stu.get_score())"
   ]
  },
  {
   "cell_type": "markdown",
   "id": "7bc07a02",
   "metadata": {},
   "source": [
    "## dir (get all attributes and methods of an instance)"
   ]
  },
  {
   "cell_type": "code",
   "execution_count": 2,
   "id": "3156665f",
   "metadata": {},
   "outputs": [
    {
     "data": {
      "text/plain": [
       "['_Student__name',\n",
       " '_Student__score',\n",
       " '__class__',\n",
       " '__delattr__',\n",
       " '__dict__',\n",
       " '__dir__',\n",
       " '__doc__',\n",
       " '__eq__',\n",
       " '__format__',\n",
       " '__ge__',\n",
       " '__getattribute__',\n",
       " '__gt__',\n",
       " '__hash__',\n",
       " '__init__',\n",
       " '__init_subclass__',\n",
       " '__le__',\n",
       " '__lt__',\n",
       " '__module__',\n",
       " '__ne__',\n",
       " '__new__',\n",
       " '__reduce__',\n",
       " '__reduce_ex__',\n",
       " '__repr__',\n",
       " '__setattr__',\n",
       " '__sizeof__',\n",
       " '__str__',\n",
       " '__subclasshook__',\n",
       " '__weakref__',\n",
       " 'get_name',\n",
       " 'get_score']"
      ]
     },
     "execution_count": 2,
     "metadata": {},
     "output_type": "execute_result"
    }
   ],
   "source": [
    "class Student(object):\n",
    "    def __init__(self,name,score) -> None:\n",
    "        super().__init__()\n",
    "        self.__name=name\n",
    "        self.__score=score\n",
    "    def get_name(self):\n",
    "        return self.__name\n",
    "    def get_score(self):\n",
    "        return self.__score\n",
    "\n",
    "stu=Student('Andrew',100)\n",
    "dir(stu)"
   ]
  },
  {
   "cell_type": "markdown",
   "id": "236858ce",
   "metadata": {},
   "source": [
    "## hasattr,setattr,getattr"
   ]
  },
  {
   "cell_type": "code",
   "execution_count": 5,
   "id": "944edacb",
   "metadata": {},
   "outputs": [
    {
     "data": {
      "text/plain": [
       "9"
      ]
     },
     "execution_count": 5,
     "metadata": {},
     "output_type": "execute_result"
    }
   ],
   "source": [
    "class MyObj(object):\n",
    "    def __init__(self) -> None:\n",
    "        super().__init__()\n",
    "    \n",
    "obj=MyObj()\n",
    "hasattr(obj,'x')\n",
    "setattr(obj,'x',9)\n",
    "hasattr(obj,'x')\n",
    "getattr(obj,'x')"
   ]
  },
  {
   "cell_type": "markdown",
   "id": "8ecb4edc",
   "metadata": {},
   "source": [
    "## Class attribute"
   ]
  },
  {
   "cell_type": "code",
   "execution_count": 7,
   "id": "0bf5d19b",
   "metadata": {},
   "outputs": [
    {
     "name": "stdout",
     "output_type": "stream",
     "text": [
      "Cqupt Andrew\n",
      "Cqupt Bob\n"
     ]
    }
   ],
   "source": [
    "class Student(object):\n",
    "    ## equals ```private static final String school=\"Cqupt\";```` in Java\n",
    "    __school = 'Cqupt'\n",
    "\n",
    "    def __init__(self, name) -> None:\n",
    "        super().__init__()\n",
    "        self.__name=name\n",
    "    \n",
    "    def info(self):\n",
    "        print(self.__school,self.__name)\n",
    "    \n",
    "\n",
    "andrew=Student('Andrew')\n",
    "bob=Student('Bob')\n",
    "andrew.info()\n",
    "bob.info()"
   ]
  },
  {
   "cell_type": "markdown",
   "id": "d6b9c990",
   "metadata": {},
   "source": [
    "## \\_ \\_str\\_ \\_ (toString() in Java)"
   ]
  },
  {
   "cell_type": "code",
   "execution_count": 9,
   "id": "9119e37f",
   "metadata": {},
   "outputs": [
    {
     "name": "stdout",
     "output_type": "stream",
     "text": [
      "name Andrew age 20\n"
     ]
    }
   ],
   "source": [
    "class Student(object):\n",
    "    def __init__(self,name,age) -> None:\n",
    "        super().__init__()\n",
    "        self.name=name\n",
    "        self.age=age\n",
    "    \n",
    "    def __str__(self) -> str:\n",
    "        return 'name %s age %d' % (self.name,self.age)\n",
    "\n",
    "andrew=Student('Andrew',20)\n",
    "print(andrew)\n",
    "        "
   ]
  }
 ],
 "metadata": {
  "kernelspec": {
   "display_name": "Python 3 (ipykernel)",
   "language": "python",
   "name": "python3"
  },
  "language_info": {
   "codemirror_mode": {
    "name": "ipython",
    "version": 3
   },
   "file_extension": ".py",
   "mimetype": "text/x-python",
   "name": "python",
   "nbconvert_exporter": "python",
   "pygments_lexer": "ipython3",
   "version": "3.9.2"
  }
 },
 "nbformat": 4,
 "nbformat_minor": 5
}
