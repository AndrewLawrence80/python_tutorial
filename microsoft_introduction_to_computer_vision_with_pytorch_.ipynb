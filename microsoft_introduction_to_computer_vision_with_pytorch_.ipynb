{
 "cells": [
  {
   "cell_type": "markdown",
   "id": "19ddab51-bc37-41be-9176-ae35c936d85d",
   "metadata": {},
   "source": [
    "# Introduction to processing image data"
   ]
  },
  {
   "cell_type": "markdown",
   "id": "d2251904-8ad1-4e6e-b440-32d0d880b7fc",
   "metadata": {},
   "source": [
    "## Computer Vision. Images as Tensors\n",
    "\n",
    "Computer Vision (CV) is a field that studies how computers can gain some degree of understanding from digital images and/or video. *Understanding* in this definition has a rather broad meaning - it can range from being able to distinguish between a cat and a dog on the picture, to more complex tasks such as describing the image in natural language.\n",
    "\n",
    "The most common problems of computer vision include:\n",
    "\n",
    "* **Image Classification** is the simplest task, when we need to classify an image into one of many pre-defined categories, for example, distinguish a cat from a dog on a photograph, or recognize a handwritten digit.\n",
    "\n",
    "* **Object Detection** is a bit more difficult task, in which we need to find known objects on the picture and localize them, that is, return the **bounding box** for each of recognized objects.\n",
    "\n",
    "* **Segmentation** is similar to object detection, but instead of giving bounding box we need to return an exact pixel map outlining each of the recognized objects.  \n",
    "\n",
    "![An image showing how computer vision object detection can be performed with cats, dogs, and ducks.](images/2-image-data-1.png)\n",
    "\n",
    "Image taken from [CS224d Stanford Course](https://cs224d.stanford.edu/index.html)\n",
    "\n",
    "We’ll focus on **image classification** task, and how neural networks can be used to solve it. As with any other machine learning tasks, to train a model for classifying images we’ll need a labeled dataset, that is, a large number of images for each of the classes. \n",
    "\n",
    "\n",
    "## Images as Tensors\n",
    "\n",
    "Computer Vision works with Images. As you probably know, images consist of pixels, so they can be thought of as a rectangular collection (array) of pixels.\n",
    "\n",
    "In the first part of this tutorial, we will deal with handwritten digit recognition. We will use the MNIST dataset, which consists of grayscale images of handwritten digits, 28x28 pixels. Each image can be represented as 28x28 array, and elements of this array would denote intensity of corresponding pixel - either in the scale of range 0 to 1 (in which case floating point numbers are used), or 0 to 255 (integers). A popular python library called `numpy` is often used with computer vision tasks, because it allows to operate with multidimensional arrays effectively.\n",
    "\n",
    "To deal with color images, we need some way to represent colors. In most cases, we represent each pixel by 3 intensity values, corresponding to Red (R), Green (G) and Blue (B) components. This color encoding is called RGB, and thus color image of size $W\\times H$ will be represented as an array of size $3\\times H\\times W$ (sometimes the order of components might be different, but the idea is the same).\n",
    "\n",
    "![Grayscale Image](images/2-image-data-2.png) | ![RGB Image](images/2-image-data-3.png)\n",
    "------|------\n",
    "5x5 Grayscale Image | 5x5 Color (RGB) Image\n",
    "\n",
    "Using multi-dimensional arrays to represent images also has an advantage, because we can use an extra dimension to store a sequence of images. For example, to represent a video fragment consisting of 200 frames with 800x600 dimension, we may use the tensor of size 200x3x600x800.\n",
    "\n",
    "Multi-dimensional arrays are also called **tensors**. Usually, we refer to tensors when we speak about some neural network framework, such as PyTorch. The main difference between tensors in PyTorch and numpy arrays is that tensors support parallel operations on GPU, if it is available. Also, PyTorch offers additional functionality, such as automatic differentiation, when operating on tensors.  \n",
    "\n",
    "## Import packages and load the MNIST Dataset"
   ]
  },
  {
   "cell_type": "code",
   "execution_count": null,
   "id": "86b9e6b0-fb6c-4f7b-86b0-04e5826abfc7",
   "metadata": {},
   "outputs": [],
   "source": [
    "import torch\n",
    "from torchvision.datasets import MNIST\n",
    "from torchvision.transforms import ToTensor\n",
    "\n",
    "import numpy as np\n",
    "import matplotlib.pyplot as plt\n",
    "\n",
    "from PIL import Image"
   ]
  },
  {
   "cell_type": "markdown",
   "id": "be780d74",
   "metadata": {},
   "source": [
    "PyTorch has a [number of datasets](https://pytorch.org/vision/stable/datasets.html) available right from the library. Here we are using the well-known [MNIST](http://yann.lecun.com/exdb/mnist/) dataset of handwritten digits, available through `torchvison.datasets.MNIST` in PyTorch. The dataset object returns the data in the form of Python Imagine Library (PIL) images, which we convert to tensors by passing a `transform=ToTensor()` parameter. \n",
    "\n",
    "When using your own notebooks, you can also experiment with the other built in datasets, in particular [FashionMNIST](https://pytorch.org/vision/stable/datasets.html#fashion-mnist)."
   ]
  },
  {
   "cell_type": "code",
   "execution_count": null,
   "id": "bd5512dd",
   "metadata": {},
   "outputs": [],
   "source": [
    "train_data = MNIST(root=\"data\", train=True,\n",
    "                   transform=ToTensor(), download=True)\n",
    "test_data = MNIST(root=\"data\", train=False,\n",
    "                  transform=ToTensor(), download=True)\n"
   ]
  },
  {
   "cell_type": "markdown",
   "id": "ceb0dc7c",
   "metadata": {},
   "source": [
    "## Visualizing the dataset\n",
    "Now that we have downloaded the dataset we can visualize some of the digits"
   ]
  },
  {
   "cell_type": "code",
   "execution_count": null,
   "id": "95493735",
   "metadata": {},
   "outputs": [],
   "source": [
    "size_plt_grid = 3\n",
    "fig, axs = plt.subplots(size_plt_grid, size_plt_grid)\n",
    "for i in range(size_plt_grid):\n",
    "    for j in range(size_plt_grid):\n",
    "        axs[i][j].imshow(train_data.data[i*size_plt_grid+j])\n",
    "        axs[i][j].set_title(train_data.targets[i*size_plt_grid+j].item())\n",
    "        axs[i][j].set_axis_off()\n"
   ]
  },
  {
   "cell_type": "markdown",
   "id": "1b5e0ab0",
   "metadata": {},
   "source": [
    "## Dataset structure\n",
    "\n",
    "We have a total of 6000 training images and 1000 testing images. Its important to split out the data for training and testing. We also want to do some data exploration to get a better idea of what our data looks like\n",
    "\n",
    "Each sample is a tuple in the following structure:\n",
    " * First element is the actual image of a digit, represented by a tensor of shape 1x28x28\n",
    " * Second element is a **label** that specifies which digit is represented by the tensor. It is a tensor that contains a number from 0 to 9.\n",
    "\n",
    "`data_train` is a training dataset that we will use to train our model on. `data_test` is a smaller test dataset that we can use to verify our model. "
   ]
  },
  {
   "cell_type": "code",
   "execution_count": null,
   "id": "761565f2",
   "metadata": {},
   "outputs": [],
   "source": [
    "print(\"Training samples:\", len(train_data))\n",
    "print(\"Test samples:\", len(test_data))\n",
    "\n",
    "print(\"Tensor size:\", train_data[0][0].shape)\n",
    "print(\"First 10 digits are:\", [test_data[i][1] for i in range(10)])\n",
    "\n",
    "print(\"First element array:\", train_data.data[0].numpy())\n",
    "# Why train_data[0][0] is different from train_data.data[0]\n",
    "img=Image.fromarray(train_data.data[0].numpy())\n",
    "print(ToTensor()(img))\n"
   ]
  },
  {
   "cell_type": "markdown",
   "id": "8a39760e",
   "metadata": {},
   "source": [
    "All pixel intensities of the images are represented by floating-point values in between 0 and 1:"
   ]
  },
  {
   "cell_type": "code",
   "execution_count": null,
   "metadata": {},
   "outputs": [],
   "source": [
    "print(\"Min intensity value:\",train_data[0][0].min().item())\n",
    "print(\"Max intensity value:\",train_data[0][0].max().item())\n",
    "print(train_data[0][0].size())\n",
    "print(train_data.data[0].size())"
   ]
  },
  {
   "cell_type": "markdown",
   "id": "553f40ab",
   "metadata": {},
   "source": [
    "## Loading your own images\n",
    "\n",
    "In most of the practical applications, you would have your own images located on disk that you want to use to train your neural network. In this case, you need to load them into PyTorch tensors. \n",
    "\n",
    "One of the ways to do that is to use one of the Python libraries for image manipulation, such as *Open CV*, or *PIL/Pillow*, or *imageio*. Once you load your image into numpy array, you can easily convert it to tensors. \n",
    "\n",
    "> <font color=\"red\">It is important to make sure that all values are scaled to the range [0..1] before you pass them to a neural network - it is the usual convention for data preparation, and all default weight initializations in neural networks are designed to work with this range. </font>`ToTensor` transform that we have seen above automatically scales PIL/numpy images with integer pixel values into [0..1] range.\n",
    "\n",
    "Even better approach is to use functionality in **Torchvision** library, namely `ImageFolder`. It does all the preprocessing steps automatically, and also assigns labels to images according to the directory structure. We will see the example of using `ImageFolder` later in this course, once we start classifying our own cats and dogs images.\n",
    "\n",
    "> It is important to note that all images should be scaled to the same size. If your original images have different aspect ratios, you need to decide how to handle this scaling - either by cropping images, or by padding extra space.\n",
    "\n",
    "## Takeaway\n",
    "\n",
    "Neural networks work with tensors, and before training any models we need to convert our dataset into a set of tensors. This will be often required. We have loaded training and test datasets, and we are ready to start training our first neural network!"
   ]
  },
  {
   "cell_type": "code",
   "execution_count": null,
   "id": "3e77004f",
   "metadata": {},
   "outputs": [],
   "source": [
    "%reset -f"
   ]
  },
  {
   "cell_type": "markdown",
   "id": "49dbe149",
   "metadata": {},
   "source": [
    "# Training a simple dense neural network"
   ]
  },
  {
   "cell_type": "markdown",
   "id": "20485375",
   "metadata": {},
   "source": [
    "## Training a dense neural network\n",
    "\n",
    "Let's focus on the problem of handwritten digit recognition. It is a classification problem, because for each input image we need to specify the class - which digit it is.\n",
    "\n",
    "In this unit, we start with the simplest possible approach for image classification - a fully-connected neural network (which is also called a *perceptron*). We will recap the way neural networks are defined in PyTorch, and how the training algorithm works. If you are familiar with those concepts - feel free to skip to the next unit, where we introduce Convolutional Neural Networks (CNNs).\n",
    "\n",
    "We use `pytorchcv` helper to load all data we have talked about in the previous unit."
   ]
  },
  {
   "cell_type": "code",
   "execution_count": null,
   "id": "6e305871",
   "metadata": {},
   "outputs": [],
   "source": [
    "# !wget https://raw.githubusercontent.com/MicrosoftDocs/pytorchfundamentals/main/computer-vision-pytorch/pytorchcv.py"
   ]
  },
  {
   "cell_type": "code",
   "execution_count": null,
   "id": "8a4f412b",
   "metadata": {},
   "outputs": [],
   "source": [
    "import torch\n",
    "from torch.nn import Module, Sequential, Flatten, ReLU, Linear, CrossEntropyLoss, BatchNorm1d\n",
    "from torch.optim import Adam\n",
    "from torchvision.datasets import MNIST\n",
    "from torchvision.transforms import ToTensor, Lambda\n",
    "from torch.nn.functional import one_hot\n",
    "from torch.utils.data import DataLoader\n",
    "\n",
    "import numpy as np\n",
    "import matplotlib.pyplot as plt\n"
   ]
  },
  {
   "cell_type": "code",
   "execution_count": null,
   "id": "be0e9492",
   "metadata": {},
   "outputs": [],
   "source": [
    "device = \"cuda\" if torch.cuda.is_available() else \"cpu\"\n"
   ]
  },
  {
   "cell_type": "code",
   "execution_count": null,
   "id": "c2b84246",
   "metadata": {},
   "outputs": [],
   "source": [
    "# hypeparameters\n",
    "epoches = 1\n",
    "batch_size = 64\n",
    "learning_rate = 0.001\n"
   ]
  },
  {
   "cell_type": "code",
   "execution_count": null,
   "id": "c4b5a259",
   "metadata": {},
   "outputs": [],
   "source": [
    "def load_data():\n",
    "    train_data = MNIST(root=\"data\", train=True,\n",
    "                       transform=ToTensor(), download=True)\n",
    "    test_data = MNIST(root=\"data\", train=False,\n",
    "                      transform=ToTensor(), download=True)\n",
    "    return train_data, test_data\n",
    "\n",
    "\n",
    "train_data, test_data = load_data()\n"
   ]
  },
  {
   "cell_type": "markdown",
   "id": "e47ff6e0",
   "metadata": {},
   "source": [
    "## Fully-connected dense neural networks\n",
    "\n",
    "A basic **neural network** in PyTorch consists of a number of **layers**. The simplest network would include just one fully-connected layer, which is called **Linear** layer, with 784 inputs (one input for each pixel of the input image) and 10 outputs (one output for each class).\n",
    "\n",
    "<img alt=\"A graph showing how an image is broken into layers based on the pixels.\" src=\"images/3-train-dense-neural-networks-1.png\" width=\"60%\"/>\n",
    "\n",
    "As we discussed above, the dimension of our digit images is $1\\times28\\times28$, i.e. each image contains $28\\times28=784$ different pixels. Because linear layer expects its input as one-dimensional vector, we need to insert another layer into the network, called **Flatten**, to change input tensor shape from $1\\times28\\times28$ to $784$.\n",
    "\n",
    "After `Flatten`, there is a main linear layer (called `Dense` in PyTorch terminology) that converts 784 inputs to 10 outputs - one per class. We want $n$-th output of the network to return the probability of the input digit being equal to $n$.\n",
    "\n",
    "Because the output of a fully-connected layer is not normalized to be between 0 and 1, it cannot be thought of as probability. Moreover, if want outputs to be probabilities of different digits, they all need to add up to 1. To turn output vectors into probability vector, a function called **Softmax** is often used as the last activation function in a classification neural network. For example, $\\mathrm{softmax}([-1,1,2]) = [0.035,0.25,0.705]$.\n",
    "\n",
    "> In PyTorch, we often prefer to use **LogSoftmax** function, which will also compute logarithms of output probabilities. To turn the output vector into the actual probabilities, we need to take **torch.exp** of the output. \n",
    "\n",
    "Thus, the architecture of our network can be represented by the following sequence of layers:\n",
    "\n",
    "<img alt=\"An image showing the architecture of the network broken into a sequence of layers.\" src=\"images/3-train-dense-neural-networks-3.png\" width=\"90%\"/>\n",
    "\n",
    "It can be defined in PyTorch in the following way, using `Sequential` syntax:"
   ]
  },
  {
   "cell_type": "code",
   "execution_count": null,
   "id": "7952b7a4",
   "metadata": {},
   "outputs": [],
   "source": [
    "class FullyConnectedNetwork(Module):\n",
    "    def __init__(self) -> None:\n",
    "        super().__init__()\n",
    "        self.flatten = Flatten()\n",
    "        self.linear_relu_stack = Sequential(\n",
    "            Linear(in_features=28*28, out_features=250),\n",
    "            ReLU(),\n",
    "            BatchNorm1d(num_features=250),\n",
    "            Linear(in_features=250, out_features=50),\n",
    "            ReLU(),\n",
    "            BatchNorm1d(num_features=50),\n",
    "            Linear(in_features=50, out_features=10),\n",
    "            ReLU()\n",
    "        )\n",
    "\n",
    "    def forward(self, x):\n",
    "        x = self.flatten(x)\n",
    "        logits = self.linear_relu_stack(x)\n",
    "        return logits\n"
   ]
  },
  {
   "cell_type": "markdown",
   "id": "5f3722b8",
   "metadata": {},
   "source": [
    "## Training the network\n",
    "\n",
    "To train the model we will need to create **batches** from our dataset of a certain size. PyTorch has an object called **DataLoader** that can create batches of our data for us automatically:"
   ]
  },
  {
   "cell_type": "code",
   "execution_count": null,
   "id": "790aa5da",
   "metadata": {},
   "outputs": [],
   "source": [
    "train_dataloader = DataLoader(train_data, batch_size=batch_size, shuffle=True)\n",
    "test_dataloader = DataLoader(test_data, batch_size=batch_size)\n"
   ]
  },
  {
   "cell_type": "markdown",
   "id": "9204411d",
   "metadata": {},
   "source": [
    "The training process steps are as follows:\n",
    "\n",
    "1. We take a minibatch from the input dataset, which consists of input data (features) and expected result (label).\n",
    "2. We calculate the predicted result for this minibatch. \n",
    "3. The difference between this result and expected result is calculated using a special function called the **loss function**. Loss function shows how different the output of the network is from the expected output. The goal of our training is to minimize the loss. \n",
    "4. We calculate the gradients of this loss function with respect to model weights (parameters), which are then used to adjust the weights to optimize the performance of the network. The amount of adjustment is controlled by a parameter called **learning rate**, and the details of optimization algorithm are defined in the **optimizer** object.\n",
    "5. We repeat those steps until the whole dataset is processed. One complete pass through the dataset is called **an epoch**. \n",
    "\n",
    "Here is a function that performs one epoch training: "
   ]
  },
  {
   "cell_type": "code",
   "execution_count": null,
   "id": "6e886f87",
   "metadata": {},
   "outputs": [],
   "source": [
    "loss_fn=CrossEntropyLoss()"
   ]
  },
  {
   "cell_type": "code",
   "execution_count": null,
   "id": "cacc4834",
   "metadata": {},
   "outputs": [],
   "source": [
    "model=FullyConnectedNetwork().to(device)"
   ]
  },
  {
   "cell_type": "code",
   "execution_count": null,
   "id": "0582c9c2",
   "metadata": {},
   "outputs": [],
   "source": [
    "optimizer=Adam(model.parameters(),lr=learning_rate)"
   ]
  },
  {
   "cell_type": "code",
   "execution_count": null,
   "id": "a4eea66f",
   "metadata": {},
   "outputs": [],
   "source": [
    "losses = []\n",
    "for epoch in range(epoches):\n",
    "    print(\"Epoch %d\" % epoch)\n",
    "    print(\"--------\")\n",
    "    size_train_data = len(train_dataloader.dataset)\n",
    "    for num_batch, (x, y) in enumerate(train_dataloader):\n",
    "        x, y = x.to(device), y.to(device)\n",
    "        optimizer.zero_grad()\n",
    "        pred = model(x)\n",
    "        loss = loss_fn(pred, y)\n",
    "        loss.backward()\n",
    "        optimizer.step()\n",
    "\n",
    "        loss_float = loss.item()\n",
    "        if num_batch % 100 == 0:\n",
    "            current = num_batch*batch_size\n",
    "            print(\"loss:%f [%d/%d]\" % (loss_float, current, size_train_data))\n",
    "        if (num_batch % 10 == 0):\n",
    "            losses.append(loss_float)\n",
    "\n",
    "    size_test_data = len(test_dataloader.dataset)\n",
    "    test_loss, accuracy = 0, 0\n",
    "    for (x, y) in test_dataloader:\n",
    "        x, y = x.to(device), y.to(device)\n",
    "        pred = model(x)\n",
    "        loss = loss_fn(pred, y)\n",
    "        test_loss += loss.item()\n",
    "        pred = torch.softmax(pred, dim=1)\n",
    "        accuracy += (pred.argmax(dim=1) ==\n",
    "                     y).type(torch.float).sum().item()\n",
    "\n",
    "    test_loss /= size_test_data\n",
    "    accuracy /= size_test_data\n",
    "    print(\"Test Error: \\n Accuracy: %f, Avg loss: %f \\n\" %\n",
    "          (accuracy, test_loss))\n",
    "\n",
    "plt.plot(np.squeeze(losses))\n"
   ]
  },
  {
   "cell_type": "code",
   "execution_count": null,
   "id": "6a77c9db",
   "metadata": {},
   "outputs": [],
   "source": [
    "model=FullyConnectedNetwork()\n",
    "model.load_state_dict(torch.load(\"microsoft_introduction_to_computer_vision_with_pytorch_fully_connected_network.pth\"))"
   ]
  },
  {
   "cell_type": "code",
   "execution_count": null,
   "id": "1b55504e",
   "metadata": {},
   "outputs": [],
   "source": [
    "for (x,y) in test_dataloader:\n",
    "    y_pred=model(x)\n",
    "    y_pred=torch.softmax(y_pred,dim=1)\n",
    "    print(\"The prediction for the first batch of test dataset:\",y_pred.argmax(1))\n",
    "    print(\"The label for the first batch of test dataset:\",y)\n",
    "    break\n",
    "    "
   ]
  },
  {
   "cell_type": "code",
   "execution_count": null,
   "id": "fc1366dd",
   "metadata": {},
   "outputs": [],
   "source": [
    "%reset -f"
   ]
  },
  {
   "cell_type": "markdown",
   "id": "5afa473f",
   "metadata": {},
   "source": [
    "# Use a convolutional neural network"
   ]
  },
  {
   "cell_type": "markdown",
   "id": "be058f40",
   "metadata": {},
   "source": [
    "## Convolutional neural networks\n",
    "\n",
    "In the previous unit we have learned how to define a multi-layered neural network using class definition, but those networks were generic, and not specialized for computer vision tasks. In this unit we will learn about **Convolutional Neural Networks (CNNs)**, which are specifically designed for computer vision.\n",
    "\n",
    "Computer vision is different from generic classification, because when we are trying to find a certain object in the picture, we are scanning the image looking for some specific **patterns** and their combinations. For example, when looking for a cat, we first may look for horizontal lines, which can form whiskers, and then certain combination of whiskers can tell us that it is actually a picture of a cat. Relative position and presence of certain patterns is important, and not their exact position on the image. \n",
    "\n",
    "To extract patterns, we will use the notion of **convolutional filters**. But first, let us load all dependencies and functions that we have defined in the previous units."
   ]
  },
  {
   "cell_type": "code",
   "execution_count": null,
   "id": "ce0eced2",
   "metadata": {},
   "outputs": [],
   "source": [
    "import torch\n",
    "from torchvision.datasets import MNIST\n",
    "from torchvision.transforms import ToTensor\n",
    "from torch.utils.data import DataLoader\n",
    "from torch.nn import Module, Sequential, Conv2d, Flatten, Linear, ReLU, BatchNorm1d, CrossEntropyLoss\n",
    "from torch.optim import Adam\n",
    "\n",
    "import matplotlib.pyplot as plt\n",
    "import numpy as np\n"
   ]
  },
  {
   "cell_type": "code",
   "execution_count": null,
   "id": "019a4704",
   "metadata": {},
   "outputs": [],
   "source": [
    "train_data = MNIST(root=\"data\", train=True,\n",
    "                   transform=ToTensor(), download=True)\n",
    "test_data = MNIST(root=\"data\", train=False,\n",
    "                  transform=ToTensor(), download=True)\n"
   ]
  },
  {
   "cell_type": "markdown",
   "id": "ceb0dc7c",
   "metadata": {},
   "source": [
    "## Visualizing the dataset\n",
    "Now that we have downloaded the dataset we can visualize some of the digits"
   ]
  },
  {
   "cell_type": "code",
   "execution_count": null,
   "id": "95493735",
   "metadata": {},
   "outputs": [],
   "source": [
    "size_plt_grid = 3\n",
    "fig, axs = plt.subplots(size_plt_grid, size_plt_grid)\n",
    "for i in range(size_plt_grid):\n",
    "    for j in range(size_plt_grid):\n",
    "        axs[i][j].imshow(train_data.data[i*size_plt_grid+j])\n",
    "        axs[i][j].set_title(train_data.targets[i*size_plt_grid+j].item())\n",
    "        axs[i][j].set_axis_off()\n"
   ]
  },
  {
   "cell_type": "markdown",
   "id": "00cf8baa",
   "metadata": {},
   "source": [
    "## Convolutional filters\n",
    "\n",
    "Convolutional filters are small windows that run over each pixel of the image and compute weighted average of the neighboring pixels.\n",
    "\n",
    "<img alt=\"Sliging window over 28x28 digit image\" src=\"images/4-convolutional-networks-1.png\" width=\"50%\"/>\n",
    "\n",
    "They are defined by matrices of weight coefficients. Let's see the examples of applying two different convolutional filters over our MNIST handwritten digits:"
   ]
  },
  {
   "cell_type": "code",
   "execution_count": null,
   "id": "a8957988",
   "metadata": {},
   "outputs": [],
   "source": [
    "def plot_convolution(image, filter):\n",
    "    with torch.no_grad():\n",
    "        filter_tensor = torch.tensor(filter).type(torch.float)\n",
    "        c = Conv2d(1, 1, (3, 3))\n",
    "        c.weight.copy_(filter_tensor)\n",
    "        image = torch.unsqueeze(image, dim=0)\n",
    "        print(image.shape)\n",
    "        image_conv = c(image)\n",
    "        plt.imshow(image_conv[0][0])\n",
    "plot_convolution(train_data[0][0], [[-1, 0, 1], [-1, 0, 1], [-1, 0, 1]])\n"
   ]
  },
  {
   "cell_type": "markdown",
   "id": "c9342dbc",
   "metadata": {},
   "source": [
    "First filter is called a **vertical edge filter**, and it is defined by the following matrix:\n",
    "$$\n",
    "\\left(\n",
    "    \\begin{matrix}\n",
    "     -1 & 0 & 1 \\cr\n",
    "     -1 & 0 & 1 \\cr\n",
    "     -1 & 0 & 1 \\cr\n",
    "    \\end{matrix}\n",
    "\\right)\n",
    "$$\n",
    "When this filter goes over relatively uniform pixel field, all values add up to 0. However, when it encounters a vertical edge in the image, high spike value is generated. That's why in the images above you can see vertical edges represented by high and low values, while horizontal edges are averaged out.\n",
    "\n",
    "An opposite thing happens when we apply horizontal edge filter - horizontal lines are amplified, and vertical are averaged out.\n",
    "\n",
    "> If we apply $3\\times3$ filter to an image of size $28\\times28$ - the size of the image will become $26\\times26$, because the filter does not go over the image boundaries. In some cases, however, we may want to keep the size of the image the same, in which case image is padded with zeros on each side.\n",
    "\n",
    "In classical computer vision, multiple filters were applied to the image to generate features, which then were used by machine learning algorithm to build a classifier. However, in deep learning we construct networks that **learn** best convolutional filters to solve classification problem.\n",
    "\n",
    "To do that, we introduce **convolutional layers**."
   ]
  },
  {
   "cell_type": "markdown",
   "id": "f714bf26",
   "metadata": {},
   "source": [
    "## Covolutional layers\n",
    "\n",
    "Convolutional layers are defined using `nn.Conv2d` construction. We need to specify the following:\n",
    "* `in_channels` - number of input channels. In our case we are dealing with a grayscale image, thus number of input channels is 1. Color image has 3 channels (RGB).\n",
    "* `out_channels` - number of filters to use. We will use 9 different filters, which will give the network plenty of opportunities to explore which filters work best for our scenario.\n",
    "* `kernel_size` is the size of the sliding window. Usually 3x3 or 5x5 filters are used. The choice of filter size is usually chosen by experiment, that is by trying out different filter sizes and comparing resulting accuracy.\n",
    "\n",
    "Simplest CNN will contain one convolutional layer. Given the input size 28x28, after applying nine 5x5 filters we will end up with a tensor of 9x24x24 (the spatial size is smaller, because there are only 24 positions where a sliding interval of length 5 can fit into 28 pixels). Here the result of each filter is represented by a different channel in the image (thus the first dimension 9 corresponds to the number of filters).\n",
    "\n",
    "After convolution, we flatten 9x24x24 tensor into one vector of size 5184, and then add linear layer, to produce 10 classes. We also use `relu` activation function in between layers. "
   ]
  },
  {
   "cell_type": "code",
   "execution_count": null,
   "id": "ffac8a48",
   "metadata": {},
   "outputs": [],
   "source": [
    "class OneConvolutionNetwork(Module):\n",
    "    def __init__(self):\n",
    "        super().__init__()\n",
    "        self.conv = Conv2d(in_channels=1, out_channels=9, kernel_size=(5, 5))\n",
    "        self.flatten = Flatten()\n",
    "        self.linear_relu_stack = Sequential(\n",
    "            Linear(in_features=9*24*24, out_features=1250),\n",
    "            ReLU(),\n",
    "            BatchNorm1d(num_features=1250),\n",
    "            Linear(in_features=1250, out_features=250),\n",
    "            ReLU(),\n",
    "            BatchNorm1d(num_features=250),\n",
    "            Linear(in_features=250, out_features=50),\n",
    "            ReLU(),\n",
    "            BatchNorm1d(num_features=50),\n",
    "            Linear(in_features=50, out_features=10),\n",
    "            ReLU()\n",
    "        )\n",
    "\n",
    "    def forward(self, x):\n",
    "        x = self.conv(x)\n",
    "        x = self.flatten(x)\n",
    "        x = self.linear_relu_stack(x)\n",
    "        return x\n"
   ]
  },
  {
   "cell_type": "code",
   "execution_count": null,
   "id": "44c4f2b8",
   "metadata": {},
   "outputs": [],
   "source": [
    "loss_fn = CrossEntropyLoss()\n"
   ]
  },
  {
   "cell_type": "code",
   "execution_count": null,
   "id": "6f2f1cef",
   "metadata": {},
   "outputs": [],
   "source": [
    "device = \"cuda\" if torch.cuda.is_available() else \"cpu\"\n"
   ]
  },
  {
   "cell_type": "code",
   "execution_count": null,
   "id": "7f441765",
   "metadata": {},
   "outputs": [],
   "source": [
    "model = OneConvolutionNetwork().to(device)\n"
   ]
  },
  {
   "cell_type": "code",
   "execution_count": null,
   "id": "c1cec089",
   "metadata": {},
   "outputs": [],
   "source": [
    "# hyperparameters\n",
    "epoches = 1\n",
    "learning_rate = 0.001\n",
    "batch_size = 32"
   ]
  },
  {
   "cell_type": "code",
   "execution_count": null,
   "id": "0ae2685a",
   "metadata": {},
   "outputs": [],
   "source": [
    "optimizer = Adam(model.parameters(), lr=learning_rate)\n"
   ]
  },
  {
   "cell_type": "code",
   "execution_count": null,
   "id": "8516bed7",
   "metadata": {},
   "outputs": [],
   "source": [
    "train_dataloader = DataLoader(train_data, batch_size, shuffle=True)\n",
    "test_dataloader = DataLoader(test_data, batch_size)\n"
   ]
  },
  {
   "cell_type": "code",
   "execution_count": null,
   "id": "f642e9e6",
   "metadata": {},
   "outputs": [],
   "source": [
    "losses = []\n",
    "for epoch in range(epoches):\n",
    "    print(\"Epoch %d\" % epoch)\n",
    "    print(\"--------\")\n",
    "    size_train_data = len(train_dataloader.dataset)\n",
    "    for num_batch, (x, y) in enumerate(train_dataloader):\n",
    "        x, y = x.to(device), y.to(device)\n",
    "        optimizer.zero_grad()\n",
    "        pred = model(x)\n",
    "        loss = loss_fn(pred, y)\n",
    "        loss.backward()\n",
    "        optimizer.step()\n",
    "\n",
    "        loss_float = loss.item()\n",
    "        if num_batch % 100 == 0:\n",
    "            current = num_batch*batch_size\n",
    "            print(\"loss:%f [%d/%d]\" % (loss_float, current, size_train_data))\n",
    "        if (num_batch % 10 == 0):\n",
    "            losses.append(loss_float)\n",
    "\n",
    "    size_test_data = len(test_dataloader.dataset)\n",
    "    test_loss, accuracy = 0, 0\n",
    "    for (x, y) in test_dataloader:\n",
    "        x, y = x.to(device), y.to(device)\n",
    "        pred = model(x)\n",
    "        loss = loss_fn(pred, y)\n",
    "        test_loss += loss.item()\n",
    "        pred = torch.softmax(pred, dim=1)\n",
    "        accuracy += (pred.argmax(dim=1) ==\n",
    "                     y).type(torch.float).sum().item()\n",
    "\n",
    "    test_loss /= size_test_data\n",
    "    accuracy /= size_test_data\n",
    "    print(\"Test Error: \\n Accuracy: %f, Avg loss: %f \\n\" %\n",
    "          (accuracy, test_loss))\n",
    "\n",
    "plt.plot(np.squeeze(losses))"
   ]
  },
  {
   "cell_type": "code",
   "execution_count": null,
   "id": "dfdc980b",
   "metadata": {},
   "outputs": [],
   "source": [
    "%reset -f"
   ]
  },
  {
   "cell_type": "markdown",
   "id": "423211c9",
   "metadata": {},
   "source": [
    "# Train multi-layer convolutional neural network"
   ]
  },
  {
   "cell_type": "markdown",
   "id": "edd8a7ae",
   "metadata": {},
   "source": [
    "## Multi-Layered CNNs\n",
    "\n",
    "In the previous unit we have learned about convolutional filters that can extract patterns from images. For our MNIST classifier we used 9 5x5 filters, resulting in 9x24x24 tensor.\n",
    "\n",
    "We can use the same idea of convolution to extract higher-level patterns in the image. For example, rounded edges of digits such as 8 and 9 can be composed from a number of smaller strokes. To recognize those patterns, we can build another layer of convolution filters on top of the result of the first layer."
   ]
  },
  {
   "cell_type": "code",
   "execution_count": null,
   "id": "5cfc59c1",
   "metadata": {},
   "outputs": [],
   "source": [
    "import torch\n",
    "from torchvision.datasets import MNIST\n",
    "from torchvision.transforms import ToTensor\n",
    "from torch.utils.data import DataLoader\n",
    "from torch.nn import Module, Conv2d, MaxPool2d, Sequential, Flatten, Linear, ReLU, BatchNorm1d, BatchNorm2d, CrossEntropyLoss\n",
    "from torch.optim import Adam\n",
    "\n",
    "import numpy as np\n",
    "import matplotlib.pyplot as plt"
   ]
  },
  {
   "cell_type": "code",
   "execution_count": null,
   "id": "863b121e",
   "metadata": {},
   "outputs": [],
   "source": [
    "device=\"cuda\" if torch.cuda.is_available() else \"cpu\""
   ]
  },
  {
   "cell_type": "code",
   "execution_count": null,
   "id": "71d5142c",
   "metadata": {},
   "outputs": [],
   "source": [
    "# hyper parameters\n",
    "epoches = 1\n",
    "learning_rate = 0.001\n",
    "batch_size = 32\n"
   ]
  },
  {
   "cell_type": "code",
   "execution_count": null,
   "id": "c8cf135e",
   "metadata": {},
   "outputs": [],
   "source": [
    "train_data = MNIST(root=\"data\", train=True,\n",
    "                   transform=ToTensor(), download=True)\n",
    "test_data = MNIST(root=\"data\", train=False,\n",
    "                  transform=ToTensor(), download=True)\n",
    "\n",
    "print(train_data.data.shape)\n",
    "print(train_data.targets.shape)\n",
    "\n",
    "train_dataloader = DataLoader(train_data, batch_size, shuffle=True)\n",
    "test_dataloader = DataLoader(test_data, batch_size)\n"
   ]
  },
  {
   "cell_type": "markdown",
   "id": "e5a05bb3",
   "metadata": {},
   "source": [
    "## Pooling layers\n",
    "\n",
    "First convolutional layers looks for primitive patterns, such as horizontal or vertical lines. Next level of convolutional layers on top of them look for higher-level patterns, such as primitive shapes. More convolutional layers can combine those shapes into some parts of the picture, up to the final object that we are trying to classify. This creates a hierarchy of extracted patterns.\n",
    "\n",
    "When doing so, we also need to apply one trick: reducing the spatial size of the image. Once we have detected there is a horizontal stoke within a sliding window, it is not so important at which exact pixel it occurred. Thus we can \"scale down\" the size of the image, which is done using one of the **pooling layers**:\n",
    "\n",
    " * **Average Pooling** takes a sliding window (for example, 2x2 pixels) and computes an average of values within the window\n",
    " * **Max Pooling** replaces the window with the maximum value. The idea behind max pooling is to detect a presence of a certain pattern within the sliding window.\n",
    "\n",
    "<img alt=\"Max Pooling\" src=\"images/5-multilayer-convolutions-1.png\" width=\"50%\"/>\n",
    "\n",
    "Thus, in a typical CNN there would be composed of several convolutional layers, with pooling layers in between them to decrease dimensions of the image. We would also increase the number of filters, because as patterns become more advanced - there are more possible interesting combinations that we need to be looking for.\n",
    "\n",
    "![An image showing several convolutional layers with pooling layers.](images/5-multilayer-convolutions-2.png)\n",
    "\n",
    "Because of decreasing spatial dimensions and increasing feature/filters dimensions, this architecture is also called **pyramid architecture**. \n",
    "\n",
    "In the next example, we will use two-layered CNN:"
   ]
  },
  {
   "cell_type": "code",
   "execution_count": null,
   "id": "314371ce",
   "metadata": {},
   "outputs": [],
   "source": [
    "class MultiLayerCNN(Module):\n",
    "    def __init__(self):\n",
    "        super().__init__()\n",
    "        self.conv_laer = Sequential(\n",
    "            Conv2d(in_channels=1, out_channels=16,\n",
    "                   kernel_size=(3, 3), padding=\"same\"),\n",
    "            ReLU(),\n",
    "            BatchNorm2d(num_features=16),\n",
    "            MaxPool2d((2, 2)),\n",
    "            Conv2d(in_channels=16, out_channels=256,\n",
    "                   kernel_size=(3, 3), padding=\"same\"),\n",
    "            ReLU(),\n",
    "            BatchNorm2d(num_features=256),\n",
    "            MaxPool2d((2, 2)),\n",
    "        )\n",
    "        self.fc_layer = Sequential(\n",
    "            Flatten(),\n",
    "            Linear(in_features=256*7*7, out_features=16*7*7),\n",
    "            ReLU(),\n",
    "            BatchNorm1d(num_features=16*7*7),\n",
    "            Linear(in_features=16*7*7, out_features=7*7),\n",
    "            ReLU(),\n",
    "            BatchNorm1d(num_features=7*7),\n",
    "            Linear(in_features=7*7, out_features=10),\n",
    "            ReLU()\n",
    "        )\n",
    "\n",
    "    def forward(self, x):\n",
    "        x = self.conv_laer(x)\n",
    "        x = self.fc_layer(x)\n",
    "        return x\n"
   ]
  },
  {
   "cell_type": "code",
   "execution_count": null,
   "id": "36796db5",
   "metadata": {},
   "outputs": [],
   "source": [
    "loss_fn = CrossEntropyLoss()\n"
   ]
  },
  {
   "cell_type": "code",
   "execution_count": null,
   "id": "99c8521d",
   "metadata": {},
   "outputs": [],
   "source": [
    "model = MultiLayerCNN().to(device)\n"
   ]
  },
  {
   "cell_type": "code",
   "execution_count": null,
   "id": "ff773746",
   "metadata": {},
   "outputs": [],
   "source": [
    "optimizer = Adam(model.parameters(), lr=learning_rate)\n"
   ]
  },
  {
   "cell_type": "code",
   "execution_count": null,
   "id": "f642e9e6",
   "metadata": {},
   "outputs": [],
   "source": [
    "losses = []\n",
    "for epoch in range(epoches):\n",
    "    print(\"Epoch %d\" % epoch)\n",
    "    print(\"--------\")\n",
    "    size_train_data = len(train_dataloader.dataset)\n",
    "    for num_batch, (x, y) in enumerate(train_dataloader):\n",
    "        x, y = x.to(device), y.to(device)\n",
    "        optimizer.zero_grad()\n",
    "        pred = model(x)\n",
    "        loss = loss_fn(pred, y)\n",
    "        loss.backward()\n",
    "        optimizer.step()\n",
    "\n",
    "        loss_float = loss.item()\n",
    "        if num_batch % 100 == 0:\n",
    "            current = num_batch*batch_size\n",
    "            print(\"loss:%f [%d/%d]\" % (loss_float, current, size_train_data))\n",
    "        if (num_batch % 10 == 0):\n",
    "            losses.append(loss_float)\n",
    "\n",
    "    size_test_data = len(test_dataloader.dataset)\n",
    "    test_loss, accuracy = 0, 0\n",
    "    for (x, y) in test_dataloader:\n",
    "        x, y = x.to(device), y.to(device)\n",
    "        pred = model(x)\n",
    "        loss = loss_fn(pred, y)\n",
    "        test_loss += loss.item()\n",
    "        pred = torch.softmax(pred, dim=1)\n",
    "        accuracy += (pred.argmax(dim=1) ==\n",
    "                     y).type(torch.float).sum().item()\n",
    "\n",
    "    test_loss /= size_test_data\n",
    "    accuracy /= size_test_data\n",
    "    print(\"Test Error: \\n Accuracy: %f, Avg loss: %f \\n\" %\n",
    "          (accuracy, test_loss))\n",
    "\n",
    "plt.plot(np.squeeze(losses))"
   ]
  },
  {
   "cell_type": "markdown",
   "id": "88f325fd",
   "metadata": {},
   "source": [
    "What you should probably observe is that we are able to achieve higher accuracy, and much faster - just with 1 or 2 epochs. It means that sophisticated network architecture needs much fewer data to figure out what is going on, and to extract generic patterns from our images."
   ]
  },
  {
   "cell_type": "code",
   "execution_count": null,
   "id": "cc8c3fd4",
   "metadata": {},
   "outputs": [],
   "source": [
    "%reset -f"
   ]
  },
  {
   "cell_type": "markdown",
   "id": "2a7438b1",
   "metadata": {},
   "source": [
    "## Playing with real images from the CIFAR-10 dataset\n",
    "\n",
    "While our handwritten digit recognition problem may seem like a toy problem, we are now ready to do something more serious. Let's explore more advanced dataset of pictures of different objects, called [CIFAR-10](https://www.cs.toronto.edu/~kriz/cifar.html). It contains 60k 32x32 color images, divided into 10 classes. "
   ]
  },
  {
   "cell_type": "code",
   "execution_count": null,
   "id": "358f6645",
   "metadata": {},
   "outputs": [],
   "source": [
    "import torch\n",
    "from torchvision.datasets import CIFAR10\n",
    "from torchvision.transforms import ToTensor\n",
    "from torch.utils.data import DataLoader\n",
    "from torch.nn import Module,Conv2d,BatchNorm2d,MaxPool2d,Sequential,Flatten,Linear,ReLU,BatchNorm1d,CrossEntropyLoss\n",
    "from torch.optim import Adam\n",
    "\n",
    "import numpy as np\n",
    "import matplotlib.pyplot as plt"
   ]
  },
  {
   "cell_type": "code",
   "execution_count": null,
   "id": "6b53832b",
   "metadata": {},
   "outputs": [],
   "source": [
    "device=\"cuda\" if torch.cuda.is_available() else \"cpu\""
   ]
  },
  {
   "cell_type": "code",
   "execution_count": null,
   "id": "0c686319",
   "metadata": {},
   "outputs": [],
   "source": [
    "# hyper parameters\n",
    "epoches=1\n",
    "batch_size=32\n",
    "learning_rate=0.001"
   ]
  },
  {
   "cell_type": "code",
   "execution_count": null,
   "id": "b385a918",
   "metadata": {},
   "outputs": [],
   "source": [
    "# preparing data\n",
    "train_data = CIFAR10(root=\"data\", train=True,\n",
    "                     transform=ToTensor(), download=True)\n",
    "test_data = CIFAR10(root=\"data\", train=False,\n",
    "                    transform=ToTensor(), download=True)\n",
    "train_dataloader = DataLoader(train_data, batch_size, shuffle=True)\n",
    "test_dataloader = DataLoader(test_data, batch_size)\n"
   ]
  },
  {
   "cell_type": "code",
   "execution_count": null,
   "id": "c2857857",
   "metadata": {},
   "outputs": [],
   "source": [
    "# Visualize data\n",
    "print(train_data[0][0].shape)\n",
    "print(test_data[0][0].shape)\n",
    "\n",
    "classes = [\"plane\", \"car\", \"bird\", \"cat\", \"deer\",\n",
    "           \"dog\", \"frog\", \"horse\", \"ship\", \"truck\"]\n",
    "\n",
    "size_plt_grid = 3\n",
    "fig, axs = plt.subplots(size_plt_grid, size_plt_grid)\n",
    "for i in range(size_plt_grid):\n",
    "    for j in range(size_plt_grid):\n",
    "        img = np.transpose(train_data[i*size_plt_grid+j][0].numpy(), (1, 2, 0))\n",
    "        axs[i][j].imshow(img)\n",
    "        axs[i][j].set_title(classes[train_data[i*size_plt_grid+j][1]])\n",
    "        axs[i][j].axis(\"off\")\n"
   ]
  },
  {
   "cell_type": "markdown",
   "id": "3f8fedaa",
   "metadata": {},
   "source": [
    "A well-known architecture for CIFAR-10 is called [LeNet](https://en.wikipedia.org/wiki/LeNet), and has been proposed by *Yann LeCun*. It follows the same principles as we have outlined above. However, since all images are color, input tensor size is $3\\times32\\times32$, and the $5\\times5$ convolutional filter is applied across color dimension as well - meaning that the size of convolution kernel matrix is $3\\times5\\times5$. \n",
    "\n",
    "We also do one more simplification to this model - we do not use `log_softmax` as output activation function, and just return the output of last fully-connected layer. In this case we can just use `CrossEntropyLoss` loss function to optimize the model."
   ]
  },
  {
   "cell_type": "code",
   "execution_count": null,
   "id": "41614598",
   "metadata": {},
   "outputs": [],
   "source": [
    "class LeNet(Module):\n",
    "    def __init__(self):\n",
    "        super().__init__()\n",
    "        self.conv_layer = Sequential(\n",
    "            Conv2d(in_channels=3, out_channels=6, kernel_size=(5, 5)),\n",
    "            ReLU(),\n",
    "            MaxPool2d(kernel_size=(2, 2)),\n",
    "            Conv2d(in_channels=6, out_channels=16, kernel_size=(5, 5)),\n",
    "            ReLU(),\n",
    "            MaxPool2d(kernel_size=(2, 2)),\n",
    "            Conv2d(in_channels=16, out_channels=120, kernel_size=(5, 5)),\n",
    "            ReLU()\n",
    "        )\n",
    "        self.fc_layer = Sequential(\n",
    "            Flatten(),\n",
    "            Linear(in_features=120, out_features=64),\n",
    "            ReLU(),\n",
    "            Linear(in_features=64, out_features=10)\n",
    "        )\n",
    "        \n",
    "    def forward(self,x):\n",
    "        x=self.conv_layer(x)\n",
    "        x=self.fc_layer(x)\n",
    "        return x\n"
   ]
  },
  {
   "cell_type": "code",
   "execution_count": null,
   "id": "c8d561be",
   "metadata": {},
   "outputs": [],
   "source": [
    "loss_fn=CrossEntropyLoss()"
   ]
  },
  {
   "cell_type": "code",
   "execution_count": null,
   "id": "2f917eda",
   "metadata": {},
   "outputs": [],
   "source": [
    "model=LeNet().to(device)"
   ]
  },
  {
   "cell_type": "code",
   "execution_count": null,
   "id": "93a25bbf",
   "metadata": {},
   "outputs": [],
   "source": [
    "optimizer=Adam(model.parameters(),lr=learning_rate)"
   ]
  },
  {
   "cell_type": "code",
   "execution_count": null,
   "id": "4f1cc5c3",
   "metadata": {},
   "outputs": [],
   "source": [
    "losses = []\n",
    "for epoch in range(epoches):\n",
    "    print(\"Epoch %d\" % epoch)\n",
    "    print(\"--------\")\n",
    "    size_train_data = len(train_dataloader.dataset)\n",
    "    for num_batch, (x, y) in enumerate(train_dataloader):\n",
    "        x, y = x.to(device), y.to(device)\n",
    "        optimizer.zero_grad()\n",
    "        pred = model(x)\n",
    "        loss = loss_fn(pred, y)\n",
    "        loss.backward()\n",
    "        optimizer.step()\n",
    "\n",
    "        loss_float = loss.item()\n",
    "        if num_batch % 100 == 0:\n",
    "            current = num_batch*batch_size\n",
    "            print(\"loss:%f [%d/%d]\" % (loss_float, current, size_train_data))\n",
    "        if (num_batch % 10 == 0):\n",
    "            losses.append(loss_float)\n",
    "\n",
    "    size_test_data = len(test_dataloader.dataset)\n",
    "    test_loss, accuracy = 0, 0\n",
    "    for (x, y) in test_dataloader:\n",
    "        x, y = x.to(device), y.to(device)\n",
    "        pred = model(x)\n",
    "        loss = loss_fn(pred, y)\n",
    "        test_loss += loss.item()\n",
    "        pred = torch.softmax(pred, dim=1)\n",
    "        accuracy += (pred.argmax(dim=1) ==\n",
    "                     y).type(torch.float).sum().item()\n",
    "\n",
    "    test_loss /= size_test_data\n",
    "    accuracy /= size_test_data\n",
    "    print(\"Test Error: \\n Accuracy: %f, Avg loss: %f \\n\" %\n",
    "          (accuracy, test_loss))\n",
    "\n",
    "plt.plot(np.squeeze(losses))\n"
   ]
  },
  {
   "cell_type": "code",
   "execution_count": null,
   "id": "bd312e47",
   "metadata": {},
   "outputs": [],
   "source": [
    "%reset -f"
   ]
  },
  {
   "cell_type": "code",
   "execution_count": null,
   "id": "358f6645",
   "metadata": {},
   "outputs": [],
   "source": [
    "import torch\n",
    "from torchvision.datasets import CIFAR10\n",
    "from torchvision.transforms import ToTensor\n",
    "from torch.utils.data import DataLoader\n",
    "from torch.nn import Module,Conv2d,BatchNorm2d,MaxPool2d,Sequential,Flatten,Linear,ReLU,BatchNorm1d,CrossEntropyLoss,Dropout\n",
    "from torch.optim import Adam\n",
    "from torch.optim.lr_scheduler import ExponentialLR\n",
    "\n",
    "import numpy as np\n",
    "import matplotlib.pyplot as plt"
   ]
  },
  {
   "cell_type": "code",
   "execution_count": null,
   "id": "6b53832b",
   "metadata": {},
   "outputs": [],
   "source": [
    "device=\"cuda\" if torch.cuda.is_available() else \"cpu\""
   ]
  },
  {
   "cell_type": "code",
   "execution_count": null,
   "id": "0c686319",
   "metadata": {},
   "outputs": [],
   "source": [
    "# hyper parameters\n",
    "epoches=8\n",
    "batch_size=16\n",
    "learning_rate=0.001"
   ]
  },
  {
   "cell_type": "code",
   "execution_count": null,
   "id": "b385a918",
   "metadata": {},
   "outputs": [],
   "source": [
    "# preparing data\n",
    "train_data = CIFAR10(root=\"data\", train=True,\n",
    "                     transform=ToTensor(), download=True)\n",
    "test_data = CIFAR10(root=\"data\", train=False,\n",
    "                    transform=ToTensor(), download=True)\n",
    "train_dataloader = DataLoader(train_data, batch_size, shuffle=True)\n",
    "test_dataloader = DataLoader(test_data, batch_size)\n"
   ]
  },
  {
   "cell_type": "code",
   "execution_count": null,
   "metadata": {},
   "outputs": [],
   "source": [
    "class CnnForCIFAR10(Module):\n",
    "    def __init__(self):\n",
    "        super().__init__()\n",
    "        self.conv_layer = Sequential(\n",
    "            Conv2d(in_channels=3, out_channels=16,\n",
    "                   kernel_size=(3, 3), padding=\"same\"),\n",
    "            ReLU(),\n",
    "            BatchNorm2d(num_features=16),\n",
    "            MaxPool2d(kernel_size=(2, 2)),\n",
    "            Conv2d(in_channels=16, out_channels=32,\n",
    "                   kernel_size=(3, 3), padding=\"same\"),\n",
    "            ReLU(),\n",
    "            BatchNorm2d(num_features=32),\n",
    "            MaxPool2d(kernel_size=(2, 2)),\n",
    "            Conv2d(in_channels=32, out_channels=64,\n",
    "                   kernel_size=(3, 3), padding=\"same\"),\n",
    "            ReLU(),\n",
    "            BatchNorm2d(num_features=64),\n",
    "            MaxPool2d(kernel_size=(2, 2)),\n",
    "            Conv2d(in_channels=64, out_channels=128,\n",
    "                   kernel_size=(3, 3), padding=\"same\"),\n",
    "            ReLU(),\n",
    "            BatchNorm2d(num_features=128),\n",
    "            MaxPool2d(kernel_size=(2, 2))   \n",
    "        )\n",
    "        self.fc_layer = Sequential(\n",
    "            Flatten(),\n",
    "            Linear(in_features=128*2*2, out_features=64*2*2),\n",
    "            ReLU(),\n",
    "            BatchNorm1d(num_features=64*2*2),\n",
    "            Dropout(0.2),\n",
    "            Linear(in_features=64*2*2, out_features=32*2*2),\n",
    "            ReLU(),\n",
    "            BatchNorm1d(num_features=32*2*2),\n",
    "            Dropout(0.2),\n",
    "            Linear(in_features=32*2*2,out_features=16*2*2),\n",
    "            ReLU(),\n",
    "            BatchNorm1d(16*2*2),\n",
    "            Dropout(0.2),\n",
    "            Linear(in_features=16*2*2,out_features=10),\n",
    "            ReLU()\n",
    "        )\n",
    "\n",
    "    def forward(self, x):\n",
    "        x = self.conv_layer(x)\n",
    "        x = self.fc_layer(x)\n",
    "        return x\n"
   ]
  },
  {
   "cell_type": "code",
   "execution_count": null,
   "id": "1f936e62",
   "metadata": {},
   "outputs": [],
   "source": [
    "loss_fn=CrossEntropyLoss()"
   ]
  },
  {
   "cell_type": "code",
   "execution_count": null,
   "id": "2d893aef",
   "metadata": {},
   "outputs": [],
   "source": [
    "model = CnnForCIFAR10().to(device)\n"
   ]
  },
  {
   "cell_type": "code",
   "execution_count": null,
   "id": "bda1a296",
   "metadata": {},
   "outputs": [],
   "source": [
    "optimizer = Adam(model.parameters(), lr=learning_rate)\n"
   ]
  },
  {
   "cell_type": "code",
   "execution_count": null,
   "id": "aacac49a",
   "metadata": {},
   "outputs": [],
   "source": [
    "scheduler = ExponentialLR(optimizer, gamma=0.9)\n"
   ]
  },
  {
   "cell_type": "code",
   "execution_count": null,
   "id": "82675f0d",
   "metadata": {},
   "outputs": [],
   "source": [
    "losses = []\n",
    "for epoch in range(epoches):\n",
    "    print(\"Epoch %d\" % epoch)\n",
    "    print(\"--------\")\n",
    "    size_train_data = len(train_dataloader.dataset)\n",
    "    for num_batch, (x, y) in enumerate(train_dataloader):\n",
    "        x, y = x.to(device), y.to(device)\n",
    "        optimizer.zero_grad()\n",
    "        pred = model(x)\n",
    "        loss = loss_fn(pred, y)\n",
    "        loss.backward()\n",
    "        optimizer.step()\n",
    "\n",
    "        loss_float = loss.item()\n",
    "        if num_batch % 100 == 0:\n",
    "            current = num_batch*batch_size\n",
    "            print(\"loss:%f [%d/%d]\" % (loss_float, current, size_train_data))\n",
    "        if (num_batch % 10 == 0):\n",
    "            losses.append(loss_float)\n",
    "    scheduler.step()\n",
    "\n",
    "    size_test_data = len(test_dataloader.dataset)\n",
    "    test_loss, accuracy = 0, 0\n",
    "    for (x, y) in test_dataloader:\n",
    "        x, y = x.to(device), y.to(device)\n",
    "        pred = model(x)\n",
    "        loss = loss_fn(pred, y)\n",
    "        test_loss += loss.item()\n",
    "        # pred = torch.softmax(pred, dim=1)\n",
    "        accuracy += (pred.argmax(dim=1) ==\n",
    "                     y).type(torch.float).sum().item()\n",
    "\n",
    "    test_loss /= size_test_data\n",
    "    accuracy /= size_test_data\n",
    "    print(\"Test Error: \\n Accuracy: %f, Avg loss: %f \\n\" %\n",
    "          (accuracy, test_loss))\n",
    "\n",
    "plt.plot(np.squeeze(losses))\n"
   ]
  },
  {
   "cell_type": "code",
   "execution_count": null,
   "id": "250fe364",
   "metadata": {},
   "outputs": [],
   "source": [
    "%reset -f"
   ]
  }
 ],
 "metadata": {
  "kernelspec": {
   "display_name": "Python 3 (ipykernel)",
   "language": "python",
   "name": "python3"
  },
  "language_info": {
   "codemirror_mode": {
    "name": "ipython",
    "version": 3
   },
   "file_extension": ".py",
   "mimetype": "text/x-python",
   "name": "python",
   "nbconvert_exporter": "python",
   "pygments_lexer": "ipython3",
   "version": "3.9.12"
  }
 },
 "nbformat": 4,
 "nbformat_minor": 5
}
